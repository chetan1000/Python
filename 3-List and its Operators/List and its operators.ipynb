{
 "cells": [
  {
   "cell_type": "markdown",
   "id": "0ef4f577",
   "metadata": {},
   "source": [
    "# Lists\n",
    "\n",
    "Ordered collection of elements or items.\n",
    "\n",
    "Syntax :   []\n",
    "\n",
    "List is an Dynamic array"
   ]
  },
  {
   "cell_type": "code",
   "execution_count": 1,
   "id": "44e936cb",
   "metadata": {},
   "outputs": [],
   "source": [
    "Languages = [\"Python\",\"Java\",\"C++\"]"
   ]
  },
  {
   "cell_type": "code",
   "execution_count": 2,
   "id": "7d93259c",
   "metadata": {},
   "outputs": [
    {
     "name": "stdout",
     "output_type": "stream",
     "text": [
      "['Python', 'Java', 'C++']\n"
     ]
    }
   ],
   "source": [
    "print(Languages)"
   ]
  },
  {
   "cell_type": "code",
   "execution_count": 3,
   "id": "d1fb2c98",
   "metadata": {},
   "outputs": [
    {
     "data": {
      "text/plain": [
       "list"
      ]
     },
     "execution_count": 3,
     "metadata": {},
     "output_type": "execute_result"
    }
   ],
   "source": [
    "type()"
   ]
  },
  {
   "cell_type": "markdown",
   "id": "44607834",
   "metadata": {},
   "source": [
    "Finding Length of list"
   ]
  },
  {
   "cell_type": "code",
   "execution_count": 5,
   "id": "6a25c32b",
   "metadata": {},
   "outputs": [
    {
     "data": {
      "text/plain": [
       "3"
      ]
     },
     "execution_count": 5,
     "metadata": {},
     "output_type": "execute_result"
    }
   ],
   "source": [
    "len(Languages)"
   ]
  },
  {
   "cell_type": "markdown",
   "id": "275f8989",
   "metadata": {},
   "source": [
    "Access the elements of List.\n",
    "          "
   ]
  },
  {
   "cell_type": "markdown",
   "id": "9b3dc153",
   "metadata": {},
   "source": [
    "[ ]  is Subscript operator"
   ]
  },
  {
   "cell_type": "code",
   "execution_count": 7,
   "id": "6da0c221",
   "metadata": {},
   "outputs": [
    {
     "data": {
      "text/plain": [
       "'Python'"
      ]
     },
     "execution_count": 7,
     "metadata": {},
     "output_type": "execute_result"
    }
   ],
   "source": [
    "Languages[0]     # to fetch elements from list"
   ]
  },
  {
   "cell_type": "code",
   "execution_count": 8,
   "id": "343f3754",
   "metadata": {},
   "outputs": [
    {
     "data": {
      "text/plain": [
       "'Java'"
      ]
     },
     "execution_count": 8,
     "metadata": {},
     "output_type": "execute_result"
    }
   ],
   "source": [
    "Languages[1]"
   ]
  },
  {
   "cell_type": "code",
   "execution_count": 9,
   "id": "52c510bf",
   "metadata": {},
   "outputs": [
    {
     "data": {
      "text/plain": [
       "'C++'"
      ]
     },
     "execution_count": 9,
     "metadata": {},
     "output_type": "execute_result"
    }
   ],
   "source": [
    "Languages[-1]"
   ]
  },
  {
   "cell_type": "code",
   "execution_count": 18,
   "id": "377ac520",
   "metadata": {},
   "outputs": [
    {
     "data": {
      "text/plain": [
       "'P'"
      ]
     },
     "execution_count": 18,
     "metadata": {},
     "output_type": "execute_result"
    }
   ],
   "source": [
    "Languages[0][0]        # to fetch character from the elements that are present inside list"
   ]
  },
  {
   "cell_type": "code",
   "execution_count": 19,
   "id": "ee93e30f",
   "metadata": {},
   "outputs": [
    {
     "data": {
      "text/plain": [
       "'n'"
      ]
     },
     "execution_count": 19,
     "metadata": {},
     "output_type": "execute_result"
    }
   ],
   "source": [
    "Languages[0][-1]"
   ]
  },
  {
   "cell_type": "code",
   "execution_count": 20,
   "id": "1b54086e",
   "metadata": {},
   "outputs": [
    {
     "data": {
      "text/plain": [
       "'Python'"
      ]
     },
     "execution_count": 20,
     "metadata": {},
     "output_type": "execute_result"
    }
   ],
   "source": [
    "Languages[0]"
   ]
  },
  {
   "cell_type": "code",
   "execution_count": 21,
   "id": "7f8ca3ae",
   "metadata": {},
   "outputs": [
    {
     "data": {
      "text/plain": [
       "'Pyth'"
      ]
     },
     "execution_count": 21,
     "metadata": {},
     "output_type": "execute_result"
    }
   ],
   "source": [
    "Languages[0][0:4]"
   ]
  },
  {
   "cell_type": "code",
   "execution_count": 22,
   "id": "c420b1ef",
   "metadata": {},
   "outputs": [
    {
     "data": {
      "text/plain": [
       "'thon'"
      ]
     },
     "execution_count": 22,
     "metadata": {},
     "output_type": "execute_result"
    }
   ],
   "source": [
    "Languages[0][-4:]"
   ]
  },
  {
   "cell_type": "code",
   "execution_count": 25,
   "id": "ab17c436",
   "metadata": {},
   "outputs": [
    {
     "data": {
      "text/plain": [
       "['Python', 'Java']"
      ]
     },
     "execution_count": 25,
     "metadata": {},
     "output_type": "execute_result"
    }
   ],
   "source": [
    "Languages[0:2]            #n-1"
   ]
  },
  {
   "cell_type": "markdown",
   "id": "3a8b68d3",
   "metadata": {},
   "source": [
    "# some List operators"
   ]
  },
  {
   "cell_type": "markdown",
   "id": "db0e6ffb",
   "metadata": {},
   "source": [
    "## append()\n",
    "add the element at the end of list"
   ]
  },
  {
   "cell_type": "code",
   "execution_count": 32,
   "id": "f9f18473",
   "metadata": {},
   "outputs": [],
   "source": [
    "Languages.append(\"SQL\")"
   ]
  },
  {
   "cell_type": "code",
   "execution_count": 33,
   "id": "0305c719",
   "metadata": {},
   "outputs": [
    {
     "data": {
      "text/plain": [
       "['Python', 'Java', 'C++', 'SQL']"
      ]
     },
     "execution_count": 33,
     "metadata": {},
     "output_type": "execute_result"
    }
   ],
   "source": [
    "Languages        # append will always adds at the end"
   ]
  },
  {
   "cell_type": "markdown",
   "id": "c8370f53",
   "metadata": {},
   "source": [
    "## Insert()"
   ]
  },
  {
   "cell_type": "code",
   "execution_count": 36,
   "id": "837d6671",
   "metadata": {},
   "outputs": [],
   "source": [
    "Languages.insert(2,'C')                     #Languages.insert(index, object)"
   ]
  },
  {
   "cell_type": "code",
   "execution_count": 37,
   "id": "ef73e49a",
   "metadata": {},
   "outputs": [
    {
     "data": {
      "text/plain": [
       "['Python', 'Java', 'C', 'C++', 'SQL']"
      ]
     },
     "execution_count": 37,
     "metadata": {},
     "output_type": "execute_result"
    }
   ],
   "source": [
    "Languages"
   ]
  },
  {
   "cell_type": "markdown",
   "id": "4a2cb475",
   "metadata": {},
   "source": [
    "##### Delete operation"
   ]
  },
  {
   "cell_type": "markdown",
   "id": "28f9c7f8",
   "metadata": {},
   "source": [
    "## Remove()"
   ]
  },
  {
   "cell_type": "code",
   "execution_count": 38,
   "id": "a5b19082",
   "metadata": {},
   "outputs": [],
   "source": [
    "Languages.remove('Java')"
   ]
  },
  {
   "cell_type": "code",
   "execution_count": 39,
   "id": "b18fc6e8",
   "metadata": {},
   "outputs": [
    {
     "data": {
      "text/plain": [
       "['Python', 'C', 'C++', 'SQL']"
      ]
     },
     "execution_count": 39,
     "metadata": {},
     "output_type": "execute_result"
    }
   ],
   "source": [
    "Languages"
   ]
  },
  {
   "cell_type": "markdown",
   "id": "44d0fd03",
   "metadata": {},
   "source": [
    "## Pop()"
   ]
  },
  {
   "cell_type": "code",
   "execution_count": 42,
   "id": "4497913b",
   "metadata": {},
   "outputs": [
    {
     "data": {
      "text/plain": [
       "'C++'"
      ]
     },
     "execution_count": 42,
     "metadata": {},
     "output_type": "execute_result"
    }
   ],
   "source": [
    "Languages.pop(2)"
   ]
  },
  {
   "cell_type": "code",
   "execution_count": 43,
   "id": "6a4aa81b",
   "metadata": {},
   "outputs": [
    {
     "data": {
      "text/plain": [
       "['Python', 'C', 'SQL']"
      ]
     },
     "execution_count": 43,
     "metadata": {},
     "output_type": "execute_result"
    }
   ],
   "source": [
    "Languages"
   ]
  },
  {
   "cell_type": "code",
   "execution_count": 45,
   "id": "0fdb6577",
   "metadata": {},
   "outputs": [
    {
     "data": {
      "text/plain": [
       "[100, 200, 300]"
      ]
     },
     "execution_count": 45,
     "metadata": {},
     "output_type": "execute_result"
    }
   ],
   "source": [
    "NumList = [100,200,300]\n",
    "NumList"
   ]
  },
  {
   "cell_type": "code",
   "execution_count": null,
   "id": "b6b2818a",
   "metadata": {},
   "outputs": [],
   "source": []
  },
  {
   "cell_type": "code",
   "execution_count": 46,
   "id": "47134ed2",
   "metadata": {},
   "outputs": [],
   "source": [
    "Languages.append(NumList)"
   ]
  },
  {
   "cell_type": "code",
   "execution_count": 50,
   "id": "2c228fb8",
   "metadata": {},
   "outputs": [
    {
     "data": {
      "text/plain": [
       "['Python', 'C', 'SQL', [100, 200, 300]]"
      ]
     },
     "execution_count": 50,
     "metadata": {},
     "output_type": "execute_result"
    }
   ],
   "source": [
    "Languages            # List inside List"
   ]
  },
  {
   "cell_type": "code",
   "execution_count": 48,
   "id": "baba5422",
   "metadata": {},
   "outputs": [
    {
     "data": {
      "text/plain": [
       "4"
      ]
     },
     "execution_count": 48,
     "metadata": {},
     "output_type": "execute_result"
    }
   ],
   "source": [
    "len(Languages)"
   ]
  },
  {
   "cell_type": "code",
   "execution_count": 49,
   "id": "c70e86f6",
   "metadata": {},
   "outputs": [
    {
     "data": {
      "text/plain": [
       "200"
      ]
     },
     "execution_count": 49,
     "metadata": {},
     "output_type": "execute_result"
    }
   ],
   "source": [
    "Languages[3][1]"
   ]
  },
  {
   "cell_type": "markdown",
   "id": "3ffba10f",
   "metadata": {},
   "source": [
    "## Extend()"
   ]
  },
  {
   "cell_type": "code",
   "execution_count": 51,
   "id": "5d802417",
   "metadata": {},
   "outputs": [],
   "source": [
    "Analyst = [1,2,3,4]"
   ]
  },
  {
   "cell_type": "code",
   "execution_count": 52,
   "id": "fdf46466",
   "metadata": {},
   "outputs": [],
   "source": [
    "Languages.extend(Analyst)"
   ]
  },
  {
   "cell_type": "code",
   "execution_count": 53,
   "id": "1cba56c4",
   "metadata": {},
   "outputs": [
    {
     "data": {
      "text/plain": [
       "['Python', 'C', 'SQL', [100, 200, 300], 1, 2, 3, 4]"
      ]
     },
     "execution_count": 53,
     "metadata": {},
     "output_type": "execute_result"
    }
   ],
   "source": [
    "Languages             #it will add index by index"
   ]
  },
  {
   "cell_type": "code",
   "execution_count": 54,
   "id": "08376a85",
   "metadata": {},
   "outputs": [],
   "source": [
    "Teams = [\"RCB\",\"CSK\"]"
   ]
  },
  {
   "cell_type": "code",
   "execution_count": null,
   "id": "399869e2",
   "metadata": {},
   "outputs": [],
   "source": []
  },
  {
   "cell_type": "code",
   "execution_count": 62,
   "id": "f48fa220",
   "metadata": {},
   "outputs": [],
   "source": [
    "Languages.insert(2,Teams)"
   ]
  },
  {
   "cell_type": "code",
   "execution_count": 63,
   "id": "204332bc",
   "metadata": {},
   "outputs": [
    {
     "data": {
      "text/plain": [
       "['Python', 'C', ['RCB', 'CSK'], 'SQL', [100, 200, 300], 1, 2, 3, 4]"
      ]
     },
     "execution_count": 63,
     "metadata": {},
     "output_type": "execute_result"
    }
   ],
   "source": [
    "Languages"
   ]
  },
  {
   "cell_type": "code",
   "execution_count": 65,
   "id": "5992c9fc",
   "metadata": {},
   "outputs": [],
   "source": [
    "S = \"WELCOME\""
   ]
  },
  {
   "cell_type": "code",
   "execution_count": 66,
   "id": "463b1f5f",
   "metadata": {},
   "outputs": [],
   "source": [
    "Languages.append(S)"
   ]
  },
  {
   "cell_type": "code",
   "execution_count": 67,
   "id": "c1b63a48",
   "metadata": {},
   "outputs": [
    {
     "data": {
      "text/plain": [
       "['Python', 'C', ['RCB', 'CSK'], 'SQL', [100, 200, 300], 1, 2, 3, 4, 'WELCOME']"
      ]
     },
     "execution_count": 67,
     "metadata": {},
     "output_type": "execute_result"
    }
   ],
   "source": [
    "Languages"
   ]
  },
  {
   "cell_type": "code",
   "execution_count": 68,
   "id": "9f7b35c0",
   "metadata": {},
   "outputs": [],
   "source": [
    "Languages.extend(S)"
   ]
  },
  {
   "cell_type": "code",
   "execution_count": 69,
   "id": "c5476bc5",
   "metadata": {},
   "outputs": [
    {
     "data": {
      "text/plain": [
       "['Python',\n",
       " 'C',\n",
       " ['RCB', 'CSK'],\n",
       " 'SQL',\n",
       " [100, 200, 300],\n",
       " 1,\n",
       " 2,\n",
       " 3,\n",
       " 4,\n",
       " 'WELCOME',\n",
       " 'W',\n",
       " 'E',\n",
       " 'L',\n",
       " 'C',\n",
       " 'O',\n",
       " 'M',\n",
       " 'E']"
      ]
     },
     "execution_count": 69,
     "metadata": {},
     "output_type": "execute_result"
    }
   ],
   "source": [
    "Languages"
   ]
  },
  {
   "cell_type": "code",
   "execution_count": 70,
   "id": "e10b7258",
   "metadata": {},
   "outputs": [
    {
     "data": {
      "text/plain": [
       "17"
      ]
     },
     "execution_count": 70,
     "metadata": {},
     "output_type": "execute_result"
    }
   ],
   "source": [
    "len(Languages)"
   ]
  },
  {
   "cell_type": "code",
   "execution_count": 71,
   "id": "28491d1e",
   "metadata": {},
   "outputs": [],
   "source": [
    "# append() and extend() will work on same when Legth is 1"
   ]
  },
  {
   "cell_type": "code",
   "execution_count": 72,
   "id": "28dc5725",
   "metadata": {},
   "outputs": [],
   "source": [
    "c=12345"
   ]
  },
  {
   "cell_type": "code",
   "execution_count": 75,
   "id": "26e7a318",
   "metadata": {},
   "outputs": [
    {
     "ename": "TypeError",
     "evalue": "object of type 'int' has no len()",
     "output_type": "error",
     "traceback": [
      "\u001b[1;31m---------------------------------------------------------------------------\u001b[0m",
      "\u001b[1;31mTypeError\u001b[0m                                 Traceback (most recent call last)",
      "Cell \u001b[1;32mIn[75], line 1\u001b[0m\n\u001b[1;32m----> 1\u001b[0m \u001b[38;5;28;43mlen\u001b[39;49m\u001b[43m(\u001b[49m\u001b[43mc\u001b[49m\u001b[43m)\u001b[49m\n",
      "\u001b[1;31mTypeError\u001b[0m: object of type 'int' has no len()"
     ]
    }
   ],
   "source": [
    "len(c)   #Error : object of type 'int' has no len()"
   ]
  },
  {
   "cell_type": "code",
   "execution_count": 76,
   "id": "264ac197",
   "metadata": {},
   "outputs": [],
   "source": [
    "Languages.append(12345)"
   ]
  },
  {
   "cell_type": "code",
   "execution_count": 77,
   "id": "56ab316f",
   "metadata": {},
   "outputs": [
    {
     "data": {
      "text/plain": [
       "['Python',\n",
       " 'C',\n",
       " ['RCB', 'CSK'],\n",
       " 'SQL',\n",
       " [100, 200, 300],\n",
       " 1,\n",
       " 2,\n",
       " 3,\n",
       " 4,\n",
       " 'WELCOME',\n",
       " 'W',\n",
       " 'E',\n",
       " 'L',\n",
       " 'C',\n",
       " 'O',\n",
       " 'M',\n",
       " 'E',\n",
       " 12345]"
      ]
     },
     "execution_count": 77,
     "metadata": {},
     "output_type": "execute_result"
    }
   ],
   "source": [
    "Languages"
   ]
  },
  {
   "cell_type": "code",
   "execution_count": 80,
   "id": "ed5c3ca7",
   "metadata": {},
   "outputs": [
    {
     "ename": "TypeError",
     "evalue": "'int' object is not iterable",
     "output_type": "error",
     "traceback": [
      "\u001b[1;31m---------------------------------------------------------------------------\u001b[0m",
      "\u001b[1;31mTypeError\u001b[0m                                 Traceback (most recent call last)",
      "Cell \u001b[1;32mIn[80], line 1\u001b[0m\n\u001b[1;32m----> 1\u001b[0m \u001b[43mLanguages\u001b[49m\u001b[38;5;241;43m.\u001b[39;49m\u001b[43mextend\u001b[49m\u001b[43m(\u001b[49m\u001b[38;5;241;43m12345\u001b[39;49m\u001b[43m)\u001b[49m\n",
      "\u001b[1;31mTypeError\u001b[0m: 'int' object is not iterable"
     ]
    }
   ],
   "source": [
    "Languages.extend(12345)        #'int' object is not iterable(extend is separating each value, but we can't separate int)"
   ]
  },
  {
   "cell_type": "code",
   "execution_count": 81,
   "id": "7915258d",
   "metadata": {},
   "outputs": [],
   "source": [
    "a='1'"
   ]
  },
  {
   "cell_type": "code",
   "execution_count": 82,
   "id": "584ce6e1",
   "metadata": {},
   "outputs": [
    {
     "data": {
      "text/plain": [
       "[100, 200, 300]"
      ]
     },
     "execution_count": 82,
     "metadata": {},
     "output_type": "execute_result"
    }
   ],
   "source": [
    "NumList"
   ]
  },
  {
   "cell_type": "code",
   "execution_count": 83,
   "id": "6fda46da",
   "metadata": {},
   "outputs": [],
   "source": [
    "NumList.append(a)"
   ]
  },
  {
   "cell_type": "code",
   "execution_count": 84,
   "id": "719603a5",
   "metadata": {},
   "outputs": [
    {
     "data": {
      "text/plain": [
       "[100, 200, 300, '1']"
      ]
     },
     "execution_count": 84,
     "metadata": {},
     "output_type": "execute_result"
    }
   ],
   "source": [
    "NumList"
   ]
  },
  {
   "cell_type": "code",
   "execution_count": 85,
   "id": "64e9770e",
   "metadata": {},
   "outputs": [],
   "source": [
    "NumList.extend(a)"
   ]
  },
  {
   "cell_type": "code",
   "execution_count": 86,
   "id": "a30ff25f",
   "metadata": {},
   "outputs": [
    {
     "data": {
      "text/plain": [
       "[100, 200, 300, '1', '1']"
      ]
     },
     "execution_count": 86,
     "metadata": {},
     "output_type": "execute_result"
    }
   ],
   "source": [
    "NumList"
   ]
  },
  {
   "cell_type": "markdown",
   "id": "7d049601",
   "metadata": {},
   "source": [
    "## Count()"
   ]
  },
  {
   "cell_type": "code",
   "execution_count": 87,
   "id": "a46efe02",
   "metadata": {},
   "outputs": [],
   "source": [
    "Teams = [\"CSK\",\"RCB\",\"MI\"]"
   ]
  },
  {
   "cell_type": "code",
   "execution_count": 88,
   "id": "f99969a6",
   "metadata": {},
   "outputs": [
    {
     "data": {
      "text/plain": [
       "1"
      ]
     },
     "execution_count": 88,
     "metadata": {},
     "output_type": "execute_result"
    }
   ],
   "source": [
    "Teams.count(\"RCB\")"
   ]
  },
  {
   "cell_type": "code",
   "execution_count": 89,
   "id": "3bbd61b9",
   "metadata": {},
   "outputs": [
    {
     "data": {
      "text/plain": [
       "2"
      ]
     },
     "execution_count": 89,
     "metadata": {},
     "output_type": "execute_result"
    }
   ],
   "source": [
    "Languages.count(\"E\")"
   ]
  },
  {
   "cell_type": "code",
   "execution_count": 90,
   "id": "41af56f3",
   "metadata": {},
   "outputs": [
    {
     "data": {
      "text/plain": [
       "['Python',\n",
       " 'C',\n",
       " ['RCB', 'CSK'],\n",
       " 'SQL',\n",
       " [100, 200, 300, '1', '1'],\n",
       " 1,\n",
       " 2,\n",
       " 3,\n",
       " 4,\n",
       " 'WELCOME',\n",
       " 'W',\n",
       " 'E',\n",
       " 'L',\n",
       " 'C',\n",
       " 'O',\n",
       " 'M',\n",
       " 'E',\n",
       " 12345]"
      ]
     },
     "execution_count": 90,
     "metadata": {},
     "output_type": "execute_result"
    }
   ],
   "source": [
    "Languages"
   ]
  },
  {
   "cell_type": "code",
   "execution_count": 91,
   "id": "05b12192",
   "metadata": {},
   "outputs": [
    {
     "data": {
      "text/plain": [
       "0"
      ]
     },
     "execution_count": 91,
     "metadata": {},
     "output_type": "execute_result"
    }
   ],
   "source": [
    "Languages.count(100)"
   ]
  },
  {
   "cell_type": "markdown",
   "id": "232f653f",
   "metadata": {},
   "source": [
    "\n",
    "## Index()"
   ]
  },
  {
   "cell_type": "code",
   "execution_count": 92,
   "id": "42ddf585",
   "metadata": {},
   "outputs": [
    {
     "data": {
      "text/plain": [
       "9"
      ]
     },
     "execution_count": 92,
     "metadata": {},
     "output_type": "execute_result"
    }
   ],
   "source": [
    "Languages.index(\"WELCOME\")"
   ]
  },
  {
   "cell_type": "markdown",
   "id": "3164e48f",
   "metadata": {},
   "source": [
    "## Reverse()"
   ]
  },
  {
   "cell_type": "code",
   "execution_count": 96,
   "id": "fdab6f9b",
   "metadata": {},
   "outputs": [],
   "source": [
    "S=[1,2,3]"
   ]
  },
  {
   "cell_type": "code",
   "execution_count": 97,
   "id": "45e55703",
   "metadata": {},
   "outputs": [],
   "source": [
    "S.reverse()"
   ]
  },
  {
   "cell_type": "code",
   "execution_count": 99,
   "id": "7aff234b",
   "metadata": {},
   "outputs": [
    {
     "data": {
      "text/plain": [
       "[3, 2, 1]"
      ]
     },
     "execution_count": 99,
     "metadata": {},
     "output_type": "execute_result"
    }
   ],
   "source": [
    "S"
   ]
  },
  {
   "cell_type": "markdown",
   "id": "8067e1b5",
   "metadata": {},
   "source": [
    "## Clear()"
   ]
  },
  {
   "cell_type": "code",
   "execution_count": 100,
   "id": "74557475",
   "metadata": {},
   "outputs": [
    {
     "data": {
      "text/plain": [
       "[3, 2, 1]"
      ]
     },
     "execution_count": 100,
     "metadata": {},
     "output_type": "execute_result"
    }
   ],
   "source": [
    "S"
   ]
  },
  {
   "cell_type": "code",
   "execution_count": 103,
   "id": "242a8478",
   "metadata": {},
   "outputs": [],
   "source": [
    "S.clear()            #removes allitem from the list"
   ]
  },
  {
   "cell_type": "code",
   "execution_count": 104,
   "id": "e2379b91",
   "metadata": {},
   "outputs": [
    {
     "data": {
      "text/plain": [
       "[]"
      ]
     },
     "execution_count": 104,
     "metadata": {},
     "output_type": "execute_result"
    }
   ],
   "source": [
    "S"
   ]
  },
  {
   "cell_type": "markdown",
   "id": "2a16e8ce",
   "metadata": {},
   "source": [
    "# Sort()"
   ]
  },
  {
   "cell_type": "code",
   "execution_count": 109,
   "id": "67601b4c",
   "metadata": {},
   "outputs": [],
   "source": [
    "A = [\"a\",\"o\",\"u\",\"i\",\"e\"]"
   ]
  },
  {
   "cell_type": "code",
   "execution_count": 113,
   "id": "37bc9229",
   "metadata": {},
   "outputs": [],
   "source": [
    "A.sort()"
   ]
  },
  {
   "cell_type": "code",
   "execution_count": 114,
   "id": "669af5e8",
   "metadata": {},
   "outputs": [
    {
     "data": {
      "text/plain": [
       "['a', 'e', 'i', 'o', 'u']"
      ]
     },
     "execution_count": 114,
     "metadata": {},
     "output_type": "execute_result"
    }
   ],
   "source": [
    "A"
   ]
  },
  {
   "cell_type": "markdown",
   "id": "20a7409e",
   "metadata": {},
   "source": [
    "# Delete"
   ]
  },
  {
   "cell_type": "code",
   "execution_count": 119,
   "id": "a83cd92a",
   "metadata": {},
   "outputs": [
    {
     "data": {
      "text/plain": [
       "['Python',\n",
       " 'C',\n",
       " ['RCB', 'CSK'],\n",
       " 'SQL',\n",
       " [100, 200, 300, '1', '1'],\n",
       " 1,\n",
       " 2,\n",
       " 3,\n",
       " 4,\n",
       " 'WELCOME',\n",
       " 'W',\n",
       " 'E',\n",
       " 'L',\n",
       " 'C',\n",
       " 'O',\n",
       " 'M',\n",
       " 'E',\n",
       " 12345]"
      ]
     },
     "execution_count": 119,
     "metadata": {},
     "output_type": "execute_result"
    }
   ],
   "source": [
    "Languages"
   ]
  },
  {
   "cell_type": "code",
   "execution_count": 120,
   "id": "d8ca31b8",
   "metadata": {},
   "outputs": [],
   "source": [
    "del Languages[1]"
   ]
  },
  {
   "cell_type": "code",
   "execution_count": 121,
   "id": "1bb715b4",
   "metadata": {},
   "outputs": [
    {
     "data": {
      "text/plain": [
       "['Python',\n",
       " ['RCB', 'CSK'],\n",
       " 'SQL',\n",
       " [100, 200, 300, '1', '1'],\n",
       " 1,\n",
       " 2,\n",
       " 3,\n",
       " 4,\n",
       " 'WELCOME',\n",
       " 'W',\n",
       " 'E',\n",
       " 'L',\n",
       " 'C',\n",
       " 'O',\n",
       " 'M',\n",
       " 'E',\n",
       " 12345]"
      ]
     },
     "execution_count": 121,
     "metadata": {},
     "output_type": "execute_result"
    }
   ],
   "source": [
    "Languages"
   ]
  },
  {
   "cell_type": "code",
   "execution_count": 123,
   "id": "d1905b50",
   "metadata": {},
   "outputs": [],
   "source": [
    "del Languages[-10:]"
   ]
  },
  {
   "cell_type": "code",
   "execution_count": 126,
   "id": "899bf63a",
   "metadata": {},
   "outputs": [
    {
     "data": {
      "text/plain": [
       "['Python', ['RCB', 'CSK'], 'SQL', [100, 200, 300, '1', '1'], 1, 2, 3]"
      ]
     },
     "execution_count": 126,
     "metadata": {},
     "output_type": "execute_result"
    }
   ],
   "source": [
    "Languages"
   ]
  },
  {
   "cell_type": "code",
   "execution_count": null,
   "id": "f729a645",
   "metadata": {},
   "outputs": [],
   "source": []
  },
  {
   "cell_type": "markdown",
   "id": "83e25f79",
   "metadata": {},
   "source": [
    "## Mutable : Elements can be changed\n",
    "## Immutable: Elements can't be changed"
   ]
  },
  {
   "cell_type": "code",
   "execution_count": 127,
   "id": "362634ea",
   "metadata": {},
   "outputs": [],
   "source": [
    "S = \"WELCOME\""
   ]
  },
  {
   "cell_type": "code",
   "execution_count": 129,
   "id": "0dc11423",
   "metadata": {},
   "outputs": [
    {
     "ename": "TypeError",
     "evalue": "'str' object does not support item assignment",
     "output_type": "error",
     "traceback": [
      "\u001b[1;31m---------------------------------------------------------------------------\u001b[0m",
      "\u001b[1;31mTypeError\u001b[0m                                 Traceback (most recent call last)",
      "Cell \u001b[1;32mIn[129], line 1\u001b[0m\n\u001b[1;32m----> 1\u001b[0m S[\u001b[38;5;241m0\u001b[39m] \u001b[38;5;241m=\u001b[39m \u001b[38;5;124m\"\u001b[39m\u001b[38;5;124mC\u001b[39m\u001b[38;5;124m\"\u001b[39m\n",
      "\u001b[1;31mTypeError\u001b[0m: 'str' object does not support item assignment"
     ]
    }
   ],
   "source": [
    "S[0] = \"C\"             #Error : 'str' object does not support item assignment"
   ]
  },
  {
   "cell_type": "code",
   "execution_count": 130,
   "id": "6cd1c098",
   "metadata": {},
   "outputs": [],
   "source": [
    "# To check List & Strings"
   ]
  },
  {
   "cell_type": "code",
   "execution_count": 131,
   "id": "c0d8bfee",
   "metadata": {},
   "outputs": [
    {
     "data": {
      "text/plain": [
       "str"
      ]
     },
     "execution_count": 131,
     "metadata": {},
     "output_type": "execute_result"
    }
   ],
   "source": [
    "type(S)"
   ]
  },
  {
   "cell_type": "code",
   "execution_count": 133,
   "id": "1b3a2035",
   "metadata": {},
   "outputs": [
    {
     "name": "stdout",
     "output_type": "stream",
     "text": [
      "aeioubc\n"
     ]
    }
   ],
   "source": [
    "word = \"aeioubcdfg\"\n",
    "print(word[:-3])"
   ]
  },
  {
   "cell_type": "code",
   "execution_count": 134,
   "id": "9de3346e",
   "metadata": {},
   "outputs": [],
   "source": [
    "names = [\"Amir\",'bear','cheeta','tiger']"
   ]
  },
  {
   "cell_type": "code",
   "execution_count": 135,
   "id": "334c6617",
   "metadata": {},
   "outputs": [
    {
     "data": {
      "text/plain": [
       "'r'"
      ]
     },
     "execution_count": 135,
     "metadata": {},
     "output_type": "execute_result"
    }
   ],
   "source": [
    "names[-1][-1]"
   ]
  },
  {
   "cell_type": "code",
   "execution_count": 136,
   "id": "56da4d9d",
   "metadata": {},
   "outputs": [
    {
     "name": "stdout",
     "output_type": "stream",
     "text": [
      "#This is a comment\n"
     ]
    }
   ],
   "source": [
    "s=\"#This is a comment\"\n",
    "print(s)"
   ]
  },
  {
   "cell_type": "code",
   "execution_count": 139,
   "id": "bacb33df",
   "metadata": {},
   "outputs": [
    {
     "name": "stdout",
     "output_type": "stream",
     "text": [
      "Hello, How are you?\n"
     ]
    }
   ],
   "source": [
    "s1=\"Hello\"\n",
    "s2=\"How are you?\"\n",
    "print(s1 +\", \"+ s2)"
   ]
  },
  {
   "cell_type": "code",
   "execution_count": 140,
   "id": "d76f2946",
   "metadata": {},
   "outputs": [],
   "source": [
    "# How will u assign String to print, Hello, \"How are you?\" "
   ]
  },
  {
   "cell_type": "code",
   "execution_count": 141,
   "id": "ef373d50",
   "metadata": {},
   "outputs": [
    {
     "name": "stdout",
     "output_type": "stream",
     "text": [
      "('Hello', 'How are you?')\n"
     ]
    }
   ],
   "source": [
    "s= 'Hello', 'How are you?'\n",
    "print(s)"
   ]
  },
  {
   "cell_type": "code",
   "execution_count": 144,
   "id": "8a4d80b8",
   "metadata": {},
   "outputs": [
    {
     "ename": "SyntaxError",
     "evalue": "invalid syntax (1588140421.py, line 1)",
     "output_type": "error",
     "traceback": [
      "\u001b[1;36m  Cell \u001b[1;32mIn[144], line 1\u001b[1;36m\u001b[0m\n\u001b[1;33m    s=\"Hello, \"How are you?\"\"\u001b[0m\n\u001b[1;37m               ^\u001b[0m\n\u001b[1;31mSyntaxError\u001b[0m\u001b[1;31m:\u001b[0m invalid syntax\n"
     ]
    }
   ],
   "source": [
    "s=\"Hello, \"How are you?\"\"\n",
    "print(s)"
   ]
  },
  {
   "cell_type": "code",
   "execution_count": 153,
   "id": "fdd38c2c",
   "metadata": {},
   "outputs": [],
   "source": [
    "s1= \"Hello\"\n",
    "s2='\"How are you?\"'"
   ]
  },
  {
   "cell_type": "code",
   "execution_count": 155,
   "id": "d9d6c68f",
   "metadata": {},
   "outputs": [
    {
     "name": "stdout",
     "output_type": "stream",
     "text": [
      "Hello, \"How are you?\"\n"
     ]
    }
   ],
   "source": [
    "print(s1+\", \"+s2)"
   ]
  },
  {
   "cell_type": "code",
   "execution_count": null,
   "id": "8a237115",
   "metadata": {},
   "outputs": [],
   "source": []
  }
 ],
 "metadata": {
  "kernelspec": {
   "display_name": "Python 3 (ipykernel)",
   "language": "python",
   "name": "python3"
  },
  "language_info": {
   "codemirror_mode": {
    "name": "ipython",
    "version": 3
   },
   "file_extension": ".py",
   "mimetype": "text/x-python",
   "name": "python",
   "nbconvert_exporter": "python",
   "pygments_lexer": "ipython3",
   "version": "3.8.16"
  },
  "widgets": {
   "application/vnd.jupyter.widget-state+json": {
    "state": {},
    "version_major": 2,
    "version_minor": 0
   }
  }
 },
 "nbformat": 4,
 "nbformat_minor": 5
}
