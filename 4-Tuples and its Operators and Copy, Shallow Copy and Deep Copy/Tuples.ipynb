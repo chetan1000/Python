{
 "cells": [
  {
   "cell_type": "markdown",
   "id": "442c511c",
   "metadata": {},
   "source": [
    "# Tuples\n",
    "\n",
    "        Order collection of items/elements.\n",
    "        Immutable(we can't change the elements of Tuple)\n",
    "        Synatax: ( )\n",
    "        "
   ]
  },
  {
   "cell_type": "markdown",
   "id": "0e32b3c7",
   "metadata": {},
   "source": [
    "Each item/elements in Tuple points some address, that address can't be changed so its Immutable."
   ]
  },
  {
   "cell_type": "code",
   "execution_count": 1,
   "id": "5eea172b",
   "metadata": {},
   "outputs": [],
   "source": [
    "players = ('virat','Dhoni','Chahal')"
   ]
  },
  {
   "cell_type": "code",
   "execution_count": 2,
   "id": "bc0ab5f8",
   "metadata": {},
   "outputs": [
    {
     "data": {
      "text/plain": [
       "tuple"
      ]
     },
     "execution_count": 2,
     "metadata": {},
     "output_type": "execute_result"
    }
   ],
   "source": [
    "type(players)"
   ]
  },
  {
   "cell_type": "code",
   "execution_count": 5,
   "id": "fc9b9535",
   "metadata": {},
   "outputs": [
    {
     "name": "stdout",
     "output_type": "stream",
     "text": [
      "('virat', 'Dhoni', 'Chahal')\n"
     ]
    }
   ],
   "source": [
    "print(players)"
   ]
  },
  {
   "cell_type": "markdown",
   "id": "7b6ee450",
   "metadata": {},
   "source": [
    "To access any element use [] or Subscript operator\n"
   ]
  },
  {
   "cell_type": "code",
   "execution_count": 7,
   "id": "cc01daf9",
   "metadata": {},
   "outputs": [
    {
     "data": {
      "text/plain": [
       "'virat'"
      ]
     },
     "execution_count": 7,
     "metadata": {},
     "output_type": "execute_result"
    }
   ],
   "source": [
    "players[0]"
   ]
  },
  {
   "cell_type": "code",
   "execution_count": 8,
   "id": "c1940f8f",
   "metadata": {},
   "outputs": [
    {
     "data": {
      "text/plain": [
       "'Chahal'"
      ]
     },
     "execution_count": 8,
     "metadata": {},
     "output_type": "execute_result"
    }
   ],
   "source": [
    "players[-1]"
   ]
  },
  {
   "cell_type": "markdown",
   "id": "b989ca87",
   "metadata": {},
   "source": [
    "#### Slicing in Tuples"
   ]
  },
  {
   "cell_type": "code",
   "execution_count": 9,
   "id": "c076c89b",
   "metadata": {},
   "outputs": [
    {
     "data": {
      "text/plain": [
       "('virat', 'Dhoni')"
      ]
     },
     "execution_count": 9,
     "metadata": {},
     "output_type": "execute_result"
    }
   ],
   "source": [
    "players[:2]"
   ]
  },
  {
   "cell_type": "markdown",
   "id": "f33416fc",
   "metadata": {},
   "source": [
    "###  Tuples operation"
   ]
  },
  {
   "cell_type": "code",
   "execution_count": 14,
   "id": "eee5c3eb",
   "metadata": {},
   "outputs": [
    {
     "data": {
      "text/plain": [
       "1"
      ]
     },
     "execution_count": 14,
     "metadata": {},
     "output_type": "execute_result"
    }
   ],
   "source": [
    "players.count('Dhoni')"
   ]
  },
  {
   "cell_type": "code",
   "execution_count": 20,
   "id": "582d39a0",
   "metadata": {},
   "outputs": [
    {
     "data": {
      "text/plain": [
       "1"
      ]
     },
     "execution_count": 20,
     "metadata": {},
     "output_type": "execute_result"
    }
   ],
   "source": [
    "players.index(\"Dhoni\")"
   ]
  },
  {
   "cell_type": "code",
   "execution_count": 21,
   "id": "41f56a3a",
   "metadata": {},
   "outputs": [],
   "source": [
    "t = (100,[1,2,3],\"May\",2023)"
   ]
  },
  {
   "cell_type": "code",
   "execution_count": 22,
   "id": "e32bf05b",
   "metadata": {},
   "outputs": [
    {
     "data": {
      "text/plain": [
       "(100, [1, 2, 3], 'May', 2023)"
      ]
     },
     "execution_count": 22,
     "metadata": {},
     "output_type": "execute_result"
    }
   ],
   "source": [
    "t"
   ]
  },
  {
   "cell_type": "code",
   "execution_count": 27,
   "id": "1604acf7",
   "metadata": {},
   "outputs": [
    {
     "ename": "TypeError",
     "evalue": "'tuple' object does not support item assignment",
     "output_type": "error",
     "traceback": [
      "\u001b[1;31m---------------------------------------------------------------------------\u001b[0m",
      "\u001b[1;31mTypeError\u001b[0m                                 Traceback (most recent call last)",
      "Cell \u001b[1;32mIn[27], line 1\u001b[0m\n\u001b[1;32m----> 1\u001b[0m t[\u001b[38;5;241m1\u001b[39m]\u001b[38;5;241m=\u001b[39m\u001b[38;5;241m500\u001b[39m\n",
      "\u001b[1;31mTypeError\u001b[0m: 'tuple' object does not support item assignment"
     ]
    }
   ],
   "source": [
    "t[1]=500            # Error: 'tuple' object does not support item assignment\n",
    "                       # Tuples are IMMUTABLE "
   ]
  },
  {
   "cell_type": "code",
   "execution_count": 28,
   "id": "8f53a581",
   "metadata": {},
   "outputs": [
    {
     "data": {
      "text/plain": [
       "tuple"
      ]
     },
     "execution_count": 28,
     "metadata": {},
     "output_type": "execute_result"
    }
   ],
   "source": [
    "type(t)"
   ]
  },
  {
   "cell_type": "code",
   "execution_count": 29,
   "id": "b1d3ea3b",
   "metadata": {},
   "outputs": [],
   "source": [
    "t[1].append('4')"
   ]
  },
  {
   "cell_type": "code",
   "execution_count": 31,
   "id": "99b2aac2",
   "metadata": {},
   "outputs": [
    {
     "data": {
      "text/plain": [
       "[1, 2, 3, '4']"
      ]
     },
     "execution_count": 31,
     "metadata": {},
     "output_type": "execute_result"
    }
   ],
   "source": [
    "t[1]                  # we appended list which is present inside Tuple\n",
    "                      # List are MUTABLE"
   ]
  },
  {
   "cell_type": "code",
   "execution_count": 32,
   "id": "57d0e61c",
   "metadata": {},
   "outputs": [
    {
     "ename": "TypeError",
     "evalue": "'tuple' object does not support item assignment",
     "output_type": "error",
     "traceback": [
      "\u001b[1;31m---------------------------------------------------------------------------\u001b[0m",
      "\u001b[1;31mTypeError\u001b[0m                                 Traceback (most recent call last)",
      "Cell \u001b[1;32mIn[32], line 1\u001b[0m\n\u001b[1;32m----> 1\u001b[0m t[\u001b[38;5;241m1\u001b[39m]\u001b[38;5;241m=\u001b[39m\u001b[38;5;241m100\u001b[39m\n",
      "\u001b[1;31mTypeError\u001b[0m: 'tuple' object does not support item assignment"
     ]
    }
   ],
   "source": [
    "t[1]=100              #Tuples are IMMUTABLE"
   ]
  },
  {
   "cell_type": "markdown",
   "id": "27bdca5c",
   "metadata": {},
   "source": [
    "## =(assign), Shallow Copy & Deep Copy"
   ]
  },
  {
   "cell_type": "code",
   "execution_count": 44,
   "id": "3d3c7a12",
   "metadata": {},
   "outputs": [],
   "source": [
    "team1 = [\"Dhawan\",\"Rahane\",\"Aswin\"]"
   ]
  },
  {
   "cell_type": "code",
   "execution_count": 45,
   "id": "0a5a3e58",
   "metadata": {},
   "outputs": [],
   "source": [
    "team2=team1              #Equating, Assigning Function"
   ]
  },
  {
   "cell_type": "code",
   "execution_count": 46,
   "id": "f5c4bafe",
   "metadata": {},
   "outputs": [
    {
     "data": {
      "text/plain": [
       "['Dhawan', 'Rahane', 'Aswin']"
      ]
     },
     "execution_count": 46,
     "metadata": {},
     "output_type": "execute_result"
    }
   ],
   "source": [
    "team2"
   ]
  },
  {
   "cell_type": "code",
   "execution_count": 47,
   "id": "03e5f248",
   "metadata": {},
   "outputs": [],
   "source": [
    "team1.append('Axar')"
   ]
  },
  {
   "cell_type": "code",
   "execution_count": 48,
   "id": "a12aa75d",
   "metadata": {},
   "outputs": [
    {
     "data": {
      "text/plain": [
       "['Dhawan', 'Rahane', 'Aswin', 'Axar']"
      ]
     },
     "execution_count": 48,
     "metadata": {},
     "output_type": "execute_result"
    }
   ],
   "source": [
    "team1"
   ]
  },
  {
   "cell_type": "code",
   "execution_count": 49,
   "id": "197a2df1",
   "metadata": {},
   "outputs": [
    {
     "data": {
      "text/plain": [
       "['Dhawan', 'Rahane', 'Aswin', 'Axar']"
      ]
     },
     "execution_count": 49,
     "metadata": {},
     "output_type": "execute_result"
    }
   ],
   "source": [
    "team2                         #Automatically changes happen in team2, if any changes made in team1\n",
    "                            #team1 & team2 address are same bcz of ="
   ]
  },
  {
   "cell_type": "code",
   "execution_count": 50,
   "id": "7d7b4e95",
   "metadata": {},
   "outputs": [],
   "source": [
    "team2.append('Hardhik')       #if any changes made in team2 , automatically changes will happen in team1"
   ]
  },
  {
   "cell_type": "code",
   "execution_count": 51,
   "id": "5610c6c2",
   "metadata": {},
   "outputs": [
    {
     "data": {
      "text/plain": [
       "['Dhawan', 'Rahane', 'Aswin', 'Axar', 'Hardhik']"
      ]
     },
     "execution_count": 51,
     "metadata": {},
     "output_type": "execute_result"
    }
   ],
   "source": [
    "team2"
   ]
  },
  {
   "cell_type": "code",
   "execution_count": 52,
   "id": "af79b430",
   "metadata": {},
   "outputs": [
    {
     "data": {
      "text/plain": [
       "['Dhawan', 'Rahane', 'Aswin', 'Axar', 'Hardhik']"
      ]
     },
     "execution_count": 52,
     "metadata": {},
     "output_type": "execute_result"
    }
   ],
   "source": [
    "team1"
   ]
  },
  {
   "cell_type": "code",
   "execution_count": 176,
   "id": "0e70d5a7",
   "metadata": {},
   "outputs": [],
   "source": [
    "team1=['Dhawan', 'Rahane', 'Aswin', 'Axar', 'Hardhik',[1,2,3]]"
   ]
  },
  {
   "cell_type": "code",
   "execution_count": 177,
   "id": "91c28f53",
   "metadata": {},
   "outputs": [
    {
     "data": {
      "text/plain": [
       "['Dhawan', 'Rahane', 'Aswin', 'Axar', 'Hardhik', [1, 2, 3]]"
      ]
     },
     "execution_count": 177,
     "metadata": {},
     "output_type": "execute_result"
    }
   ],
   "source": [
    "team1"
   ]
  },
  {
   "cell_type": "code",
   "execution_count": 180,
   "id": "8b1774b1",
   "metadata": {},
   "outputs": [],
   "source": [
    "team2=team1"
   ]
  },
  {
   "cell_type": "code",
   "execution_count": 181,
   "id": "ac981722",
   "metadata": {},
   "outputs": [
    {
     "data": {
      "text/plain": [
       "['Dhawan', 'Rahane', 'Aswin', 'Axar', 'Hardhik', [1, 2, 3]]"
      ]
     },
     "execution_count": 181,
     "metadata": {},
     "output_type": "execute_result"
    }
   ],
   "source": [
    "team2"
   ]
  },
  {
   "cell_type": "code",
   "execution_count": 182,
   "id": "c0a0658f",
   "metadata": {},
   "outputs": [],
   "source": [
    "team1[5].append(4)"
   ]
  },
  {
   "cell_type": "code",
   "execution_count": 183,
   "id": "5e7fe273",
   "metadata": {},
   "outputs": [
    {
     "data": {
      "text/plain": [
       "['Dhawan', 'Rahane', 'Aswin', 'Axar', 'Hardhik', [1, 2, 3, 4]]"
      ]
     },
     "execution_count": 183,
     "metadata": {},
     "output_type": "execute_result"
    }
   ],
   "source": [
    "team1"
   ]
  },
  {
   "cell_type": "code",
   "execution_count": 184,
   "id": "e2a941c3",
   "metadata": {},
   "outputs": [
    {
     "data": {
      "text/plain": [
       "['Dhawan', 'Rahane', 'Aswin', 'Axar', 'Hardhik', [1, 2, 3, 4]]"
      ]
     },
     "execution_count": 184,
     "metadata": {},
     "output_type": "execute_result"
    }
   ],
   "source": [
    "team2                   #it will reflect back when we made changes in SubList"
   ]
  },
  {
   "cell_type": "markdown",
   "id": "eef06194",
   "metadata": {},
   "source": [
    "### Shallow Copy\n",
    "    \n",
    "    do copy of list, only at First Level\n",
    "        \n",
    "        .list\n",
    "        [:]\n",
    "        .copy"
   ]
  },
  {
   "cell_type": "code",
   "execution_count": 53,
   "id": "f5d40611",
   "metadata": {},
   "outputs": [],
   "source": [
    "team3 = team1[:]          #Shallow copy    #it copies team3 and [:] Slicing creates list"
   ]
  },
  {
   "cell_type": "code",
   "execution_count": 54,
   "id": "3be81ead",
   "metadata": {},
   "outputs": [
    {
     "data": {
      "text/plain": [
       "['Dhawan', 'Rahane', 'Aswin', 'Axar', 'Hardhik']"
      ]
     },
     "execution_count": 54,
     "metadata": {},
     "output_type": "execute_result"
    }
   ],
   "source": [
    "team3"
   ]
  },
  {
   "cell_type": "code",
   "execution_count": 55,
   "id": "9410f04f",
   "metadata": {},
   "outputs": [],
   "source": [
    "team1.append('pant')"
   ]
  },
  {
   "cell_type": "code",
   "execution_count": 56,
   "id": "6610946c",
   "metadata": {},
   "outputs": [
    {
     "data": {
      "text/plain": [
       "['Dhawan', 'Rahane', 'Aswin', 'Axar', 'Hardhik', 'pant']"
      ]
     },
     "execution_count": 56,
     "metadata": {},
     "output_type": "execute_result"
    }
   ],
   "source": [
    "team1"
   ]
  },
  {
   "cell_type": "code",
   "execution_count": 58,
   "id": "c2f8417a",
   "metadata": {},
   "outputs": [
    {
     "data": {
      "text/plain": [
       "['Dhawan', 'Rahane', 'Aswin', 'Axar', 'Hardhik']"
      ]
     },
     "execution_count": 58,
     "metadata": {},
     "output_type": "execute_result"
    }
   ],
   "source": [
    "team3                                            #team3 address is not same as team1\n",
    "                                            #shallow copy just copies the data, it will not copies address"
   ]
  },
  {
   "cell_type": "markdown",
   "id": "edec786b",
   "metadata": {},
   "source": [
    "To check address "
   ]
  },
  {
   "cell_type": "code",
   "execution_count": 59,
   "id": "40c110f0",
   "metadata": {},
   "outputs": [
    {
     "data": {
      "text/plain": [
       "2286869184000"
      ]
     },
     "execution_count": 59,
     "metadata": {},
     "output_type": "execute_result"
    }
   ],
   "source": [
    "id(team1)"
   ]
  },
  {
   "cell_type": "code",
   "execution_count": 61,
   "id": "0bad03d6",
   "metadata": {},
   "outputs": [
    {
     "data": {
      "text/plain": [
       "2286869184000"
      ]
     },
     "execution_count": 61,
     "metadata": {},
     "output_type": "execute_result"
    }
   ],
   "source": [
    "id(team2)"
   ]
  },
  {
   "cell_type": "code",
   "execution_count": 62,
   "id": "eb614b95",
   "metadata": {},
   "outputs": [
    {
     "data": {
      "text/plain": [
       "2286867725312"
      ]
     },
     "execution_count": 62,
     "metadata": {},
     "output_type": "execute_result"
    }
   ],
   "source": [
    "id(team3)"
   ]
  },
  {
   "cell_type": "code",
   "execution_count": null,
   "id": "bd5d75f0",
   "metadata": {},
   "outputs": [],
   "source": []
  },
  {
   "cell_type": "code",
   "execution_count": 136,
   "id": "77389f0e",
   "metadata": {},
   "outputs": [],
   "source": [
    "a=[1,2,3,4,[7,8,9],10]     #list inside list"
   ]
  },
  {
   "cell_type": "code",
   "execution_count": 137,
   "id": "70450304",
   "metadata": {},
   "outputs": [],
   "source": [
    "b=a[:]      # doing shallow copy"
   ]
  },
  {
   "cell_type": "code",
   "execution_count": 138,
   "id": "99f162e0",
   "metadata": {},
   "outputs": [
    {
     "data": {
      "text/plain": [
       "[1, 2, 3, 4, [7, 8, 9], 10]"
      ]
     },
     "execution_count": 138,
     "metadata": {},
     "output_type": "execute_result"
    }
   ],
   "source": [
    "b"
   ]
  },
  {
   "cell_type": "code",
   "execution_count": 139,
   "id": "e4f100a2",
   "metadata": {},
   "outputs": [],
   "source": [
    "a[3]= 1000"
   ]
  },
  {
   "cell_type": "code",
   "execution_count": 140,
   "id": "6d8bff0b",
   "metadata": {},
   "outputs": [
    {
     "data": {
      "text/plain": [
       "[1, 2, 3, 1000, [7, 8, 9], 10]"
      ]
     },
     "execution_count": 140,
     "metadata": {},
     "output_type": "execute_result"
    }
   ],
   "source": [
    "a"
   ]
  },
  {
   "cell_type": "code",
   "execution_count": 141,
   "id": "cf377340",
   "metadata": {},
   "outputs": [
    {
     "data": {
      "text/plain": [
       "[1, 2, 3, 4, [7, 8, 9], 10]"
      ]
     },
     "execution_count": 141,
     "metadata": {},
     "output_type": "execute_result"
    }
   ],
   "source": [
    "b                     # changes will not reflect in b bcz of Shallow copy"
   ]
  },
  {
   "cell_type": "code",
   "execution_count": 142,
   "id": "3ae7110d",
   "metadata": {},
   "outputs": [],
   "source": [
    "a[4].append(999)"
   ]
  },
  {
   "cell_type": "code",
   "execution_count": 143,
   "id": "8cb6ffa8",
   "metadata": {},
   "outputs": [
    {
     "data": {
      "text/plain": [
       "[1, 2, 3, 1000, [7, 8, 9, 999], 10]"
      ]
     },
     "execution_count": 143,
     "metadata": {},
     "output_type": "execute_result"
    }
   ],
   "source": [
    "a"
   ]
  },
  {
   "cell_type": "code",
   "execution_count": 144,
   "id": "a06a8227",
   "metadata": {},
   "outputs": [
    {
     "data": {
      "text/plain": [
       "[1, 2, 3, 4, [7, 8, 9, 999], 10]"
      ]
     },
     "execution_count": 144,
     "metadata": {},
     "output_type": "execute_result"
    }
   ],
   "source": [
    "b                                # if we changes made in list which is present inside in another list. even thouugh Shallow copy, if we made any changes to that list that will reflect in b\n",
    "                                # Shallo copy fist it copy all elements of list(outer), if inside any another list present,it copies its  value alon with address also, so that if any changes made to inside list that will reflect back "
   ]
  },
  {
   "cell_type": "code",
   "execution_count": 145,
   "id": "59aeb96f",
   "metadata": {},
   "outputs": [],
   "source": [
    "a[4][0]=777"
   ]
  },
  {
   "cell_type": "code",
   "execution_count": 146,
   "id": "89d4f1e3",
   "metadata": {},
   "outputs": [
    {
     "data": {
      "text/plain": [
       "[1, 2, 3, 1000, [777, 8, 9, 999], 10]"
      ]
     },
     "execution_count": 146,
     "metadata": {},
     "output_type": "execute_result"
    }
   ],
   "source": [
    "a"
   ]
  },
  {
   "cell_type": "markdown",
   "id": "599501bb",
   "metadata": {},
   "source": [
    "copy.copy() is Shallow copy"
   ]
  },
  {
   "cell_type": "code",
   "execution_count": 167,
   "id": "145c6311",
   "metadata": {},
   "outputs": [
    {
     "data": {
      "text/plain": [
       "[1, 2, 3, 4, 1001, ['a', 'b', 'c', 'zzz']]"
      ]
     },
     "execution_count": 167,
     "metadata": {},
     "output_type": "execute_result"
    }
   ],
   "source": [
    "x=[1, 2, 3, 4, 1001, ['a', 'b', 'c', 'zzz']]\n",
    "x"
   ]
  },
  {
   "cell_type": "code",
   "execution_count": 160,
   "id": "22434d62",
   "metadata": {},
   "outputs": [],
   "source": [
    "y=copy.copy(x)"
   ]
  },
  {
   "cell_type": "code",
   "execution_count": 161,
   "id": "71edcf0f",
   "metadata": {},
   "outputs": [
    {
     "data": {
      "text/plain": [
       "[1, 2, 3, 4, 1001, ['a', 'b', 'c', 'zzz']]"
      ]
     },
     "execution_count": 161,
     "metadata": {},
     "output_type": "execute_result"
    }
   ],
   "source": [
    "y"
   ]
  },
  {
   "cell_type": "code",
   "execution_count": 162,
   "id": "89617d94",
   "metadata": {},
   "outputs": [],
   "source": [
    "x[5].append('abc')"
   ]
  },
  {
   "cell_type": "code",
   "execution_count": 163,
   "id": "0b8f2bfd",
   "metadata": {},
   "outputs": [
    {
     "data": {
      "text/plain": [
       "[1, 2, 3, 4, 1001, ['a', 'b', 'c', 'zzz', 'abc']]"
      ]
     },
     "execution_count": 163,
     "metadata": {},
     "output_type": "execute_result"
    }
   ],
   "source": [
    "x"
   ]
  },
  {
   "cell_type": "code",
   "execution_count": 168,
   "id": "cf0076d8",
   "metadata": {},
   "outputs": [
    {
     "data": {
      "text/plain": [
       "[1, 2, 3, 4, 1001, ['a', 'b', 'c', 'zzz', 'abc']]"
      ]
     },
     "execution_count": 168,
     "metadata": {},
     "output_type": "execute_result"
    }
   ],
   "source": [
    "y                           # shallow copy reflects when we changes made in SubList"
   ]
  },
  {
   "cell_type": "markdown",
   "id": "fc56f6df",
   "metadata": {},
   "source": [
    "### Deep Copy"
   ]
  },
  {
   "cell_type": "code",
   "execution_count": 110,
   "id": "8fde9fb3",
   "metadata": {},
   "outputs": [],
   "source": [
    "import copy"
   ]
  },
  {
   "cell_type": "code",
   "execution_count": 111,
   "id": "b8d3a704",
   "metadata": {},
   "outputs": [],
   "source": [
    "dc1 = ['a','b',[10,20,30],'c']"
   ]
  },
  {
   "cell_type": "code",
   "execution_count": 113,
   "id": "8570eb47",
   "metadata": {},
   "outputs": [],
   "source": [
    "dc2 = copy.deepcopy(dc1)"
   ]
  },
  {
   "cell_type": "code",
   "execution_count": 114,
   "id": "d51b145e",
   "metadata": {},
   "outputs": [
    {
     "data": {
      "text/plain": [
       "['a', 'b', [10, 20, 30], 'c']"
      ]
     },
     "execution_count": 114,
     "metadata": {},
     "output_type": "execute_result"
    }
   ],
   "source": [
    "dc2"
   ]
  },
  {
   "cell_type": "code",
   "execution_count": 115,
   "id": "d7002cea",
   "metadata": {},
   "outputs": [
    {
     "data": {
      "text/plain": [
       "['a', 'b', [10, 20, 30], 'c']"
      ]
     },
     "execution_count": 115,
     "metadata": {},
     "output_type": "execute_result"
    }
   ],
   "source": [
    "dc1"
   ]
  },
  {
   "cell_type": "code",
   "execution_count": 116,
   "id": "dd9f5577",
   "metadata": {},
   "outputs": [],
   "source": [
    "dc1.append('d')"
   ]
  },
  {
   "cell_type": "code",
   "execution_count": 117,
   "id": "e665cfa2",
   "metadata": {},
   "outputs": [
    {
     "data": {
      "text/plain": [
       "['a', 'b', [10, 20, 30], 'c', 'd']"
      ]
     },
     "execution_count": 117,
     "metadata": {},
     "output_type": "execute_result"
    }
   ],
   "source": [
    "dc1"
   ]
  },
  {
   "cell_type": "code",
   "execution_count": 118,
   "id": "44c89733",
   "metadata": {},
   "outputs": [
    {
     "data": {
      "text/plain": [
       "['a', 'b', [10, 20, 30], 'c']"
      ]
     },
     "execution_count": 118,
     "metadata": {},
     "output_type": "execute_result"
    }
   ],
   "source": [
    "dc2"
   ]
  },
  {
   "cell_type": "code",
   "execution_count": 119,
   "id": "79c817e3",
   "metadata": {},
   "outputs": [],
   "source": [
    "dc1[2].append(40)"
   ]
  },
  {
   "cell_type": "code",
   "execution_count": 120,
   "id": "df7db8d1",
   "metadata": {},
   "outputs": [
    {
     "data": {
      "text/plain": [
       "['a', 'b', [10, 20, 30, 40], 'c', 'd']"
      ]
     },
     "execution_count": 120,
     "metadata": {},
     "output_type": "execute_result"
    }
   ],
   "source": [
    "dc1"
   ]
  },
  {
   "cell_type": "code",
   "execution_count": 122,
   "id": "9e14b6c1",
   "metadata": {},
   "outputs": [
    {
     "data": {
      "text/plain": [
       "['a', 'b', [10, 20, 30], 'c']"
      ]
     },
     "execution_count": 122,
     "metadata": {},
     "output_type": "execute_result"
    }
   ],
   "source": [
    "dc2     # deep copy will copy only the values of sublist not the address, so if any changes made to the sublist, will not reflect"
   ]
  },
  {
   "cell_type": "code",
   "execution_count": 123,
   "id": "47e169b7",
   "metadata": {},
   "outputs": [
    {
     "data": {
      "text/plain": [
       "2286858648064"
      ]
     },
     "execution_count": 123,
     "metadata": {},
     "output_type": "execute_result"
    }
   ],
   "source": [
    "id(dc1[2])"
   ]
  },
  {
   "cell_type": "code",
   "execution_count": 124,
   "id": "67874280",
   "metadata": {},
   "outputs": [
    {
     "data": {
      "text/plain": [
       "2286865209664"
      ]
     },
     "execution_count": 124,
     "metadata": {},
     "output_type": "execute_result"
    }
   ],
   "source": [
    "id(dc2[2])"
   ]
  },
  {
   "cell_type": "markdown",
   "id": "949ca87f",
   "metadata": {},
   "source": []
  },
  {
   "cell_type": "code",
   "execution_count": 185,
   "id": "001dd075",
   "metadata": {},
   "outputs": [],
   "source": [
    "v=\"virat\",31,\"RCB\""
   ]
  },
  {
   "cell_type": "code",
   "execution_count": 186,
   "id": "60537062",
   "metadata": {},
   "outputs": [
    {
     "data": {
      "text/plain": [
       "('virat', 31, 'RCB')"
      ]
     },
     "execution_count": 186,
     "metadata": {},
     "output_type": "execute_result"
    }
   ],
   "source": [
    "v"
   ]
  },
  {
   "cell_type": "code",
   "execution_count": 187,
   "id": "f4873ef2",
   "metadata": {},
   "outputs": [
    {
     "name": "stdout",
     "output_type": "stream",
     "text": [
      "('virat', 31, 'RCB')\n"
     ]
    }
   ],
   "source": [
    "print(v)"
   ]
  },
  {
   "cell_type": "code",
   "execution_count": 188,
   "id": "ce5d4dd6",
   "metadata": {},
   "outputs": [
    {
     "data": {
      "text/plain": [
       "tuple"
      ]
     },
     "execution_count": 188,
     "metadata": {},
     "output_type": "execute_result"
    }
   ],
   "source": [
    "type(v)             # all values are separate by ,    creates tuple"
   ]
  },
  {
   "cell_type": "markdown",
   "id": "b4559c85",
   "metadata": {},
   "source": [
    "## Packing & Unpacking"
   ]
  },
  {
   "cell_type": "code",
   "execution_count": 189,
   "id": "cff15823",
   "metadata": {},
   "outputs": [],
   "source": [
    "n,a,t = 'Rohit',33,'MI'           \n",
    "                                            #Left hand side = Right hand side\n",
    "                                            #Packing"
   ]
  },
  {
   "cell_type": "code",
   "execution_count": 190,
   "id": "444dba0f",
   "metadata": {},
   "outputs": [
    {
     "data": {
      "text/plain": [
       "'Rohit'"
      ]
     },
     "execution_count": 190,
     "metadata": {},
     "output_type": "execute_result"
    }
   ],
   "source": [
    "n             #Unpacking"
   ]
  },
  {
   "cell_type": "code",
   "execution_count": 191,
   "id": "ac5a8d17",
   "metadata": {},
   "outputs": [
    {
     "data": {
      "text/plain": [
       "33"
      ]
     },
     "execution_count": 191,
     "metadata": {},
     "output_type": "execute_result"
    }
   ],
   "source": [
    "a"
   ]
  },
  {
   "cell_type": "code",
   "execution_count": 192,
   "id": "0fc0c99b",
   "metadata": {},
   "outputs": [
    {
     "data": {
      "text/plain": [
       "'MI'"
      ]
     },
     "execution_count": 192,
     "metadata": {},
     "output_type": "execute_result"
    }
   ],
   "source": [
    "t"
   ]
  },
  {
   "cell_type": "code",
   "execution_count": 193,
   "id": "932a3183",
   "metadata": {},
   "outputs": [
    {
     "ename": "ValueError",
     "evalue": "too many values to unpack (expected 2)",
     "output_type": "error",
     "traceback": [
      "\u001b[1;31m---------------------------------------------------------------------------\u001b[0m",
      "\u001b[1;31mValueError\u001b[0m                                Traceback (most recent call last)",
      "Cell \u001b[1;32mIn[193], line 1\u001b[0m\n\u001b[1;32m----> 1\u001b[0m a,b \u001b[38;5;241m=\u001b[39m \u001b[38;5;241m100\u001b[39m,\u001b[38;5;241m200\u001b[39m,\u001b[38;5;241m300\u001b[39m\n",
      "\u001b[1;31mValueError\u001b[0m: too many values to unpack (expected 2)"
     ]
    }
   ],
   "source": [
    "a,b = 100,200,300      #LHS not equal to RHS"
   ]
  },
  {
   "cell_type": "code",
   "execution_count": 194,
   "id": "2e7937e9",
   "metadata": {},
   "outputs": [],
   "source": [
    "a,b = 6,7"
   ]
  },
  {
   "cell_type": "code",
   "execution_count": 195,
   "id": "b39932ca",
   "metadata": {},
   "outputs": [
    {
     "data": {
      "text/plain": [
       "(6, 7)"
      ]
     },
     "execution_count": 195,
     "metadata": {},
     "output_type": "execute_result"
    }
   ],
   "source": [
    "a,b"
   ]
  },
  {
   "cell_type": "code",
   "execution_count": 196,
   "id": "9443bbba",
   "metadata": {},
   "outputs": [],
   "source": [
    "a,b=b,a"
   ]
  },
  {
   "cell_type": "code",
   "execution_count": 197,
   "id": "226e598b",
   "metadata": {},
   "outputs": [
    {
     "data": {
      "text/plain": [
       "(7, 6)"
      ]
     },
     "execution_count": 197,
     "metadata": {},
     "output_type": "execute_result"
    }
   ],
   "source": [
    "a,b"
   ]
  },
  {
   "cell_type": "markdown",
   "id": "74e4d109",
   "metadata": {},
   "source": [
    "## Converting \n",
    "                    List ----> Tuple\n",
    "                    Tuple ----> List"
   ]
  },
  {
   "cell_type": "markdown",
   "id": "dcb64791",
   "metadata": {},
   "source": [
    "List to Tuple"
   ]
  },
  {
   "cell_type": "code",
   "execution_count": 198,
   "id": "62a35411",
   "metadata": {},
   "outputs": [],
   "source": [
    "c = ['India','Australia','England']"
   ]
  },
  {
   "cell_type": "code",
   "execution_count": 199,
   "id": "8725ce33",
   "metadata": {},
   "outputs": [
    {
     "data": {
      "text/plain": [
       "list"
      ]
     },
     "execution_count": 199,
     "metadata": {},
     "output_type": "execute_result"
    }
   ],
   "source": [
    "type(c)"
   ]
  },
  {
   "cell_type": "code",
   "execution_count": 200,
   "id": "09509f83",
   "metadata": {},
   "outputs": [],
   "source": [
    "d=tuple(c)"
   ]
  },
  {
   "cell_type": "code",
   "execution_count": 201,
   "id": "25cac44c",
   "metadata": {},
   "outputs": [
    {
     "data": {
      "text/plain": [
       "('India', 'Australia', 'England')"
      ]
     },
     "execution_count": 201,
     "metadata": {},
     "output_type": "execute_result"
    }
   ],
   "source": [
    "d"
   ]
  },
  {
   "cell_type": "code",
   "execution_count": 202,
   "id": "a7e38e78",
   "metadata": {},
   "outputs": [
    {
     "data": {
      "text/plain": [
       "tuple"
      ]
     },
     "execution_count": 202,
     "metadata": {},
     "output_type": "execute_result"
    }
   ],
   "source": [
    "type(d)"
   ]
  },
  {
   "cell_type": "markdown",
   "id": "763ad800",
   "metadata": {},
   "source": [
    "Tuple to List"
   ]
  },
  {
   "cell_type": "code",
   "execution_count": 203,
   "id": "951a7bf7",
   "metadata": {},
   "outputs": [],
   "source": [
    "m= ('apple','ball','cat')"
   ]
  },
  {
   "cell_type": "code",
   "execution_count": 204,
   "id": "2e0be0af",
   "metadata": {},
   "outputs": [
    {
     "data": {
      "text/plain": [
       "tuple"
      ]
     },
     "execution_count": 204,
     "metadata": {},
     "output_type": "execute_result"
    }
   ],
   "source": [
    "type(m)"
   ]
  },
  {
   "cell_type": "code",
   "execution_count": 205,
   "id": "04aeb613",
   "metadata": {},
   "outputs": [],
   "source": [
    "n = list(m)"
   ]
  },
  {
   "cell_type": "code",
   "execution_count": 206,
   "id": "f2389ab8",
   "metadata": {},
   "outputs": [
    {
     "data": {
      "text/plain": [
       "['apple', 'ball', 'cat']"
      ]
     },
     "execution_count": 206,
     "metadata": {},
     "output_type": "execute_result"
    }
   ],
   "source": [
    "n"
   ]
  },
  {
   "cell_type": "code",
   "execution_count": 207,
   "id": "c0c0af4b",
   "metadata": {},
   "outputs": [
    {
     "data": {
      "text/plain": [
       "list"
      ]
     },
     "execution_count": 207,
     "metadata": {},
     "output_type": "execute_result"
    }
   ],
   "source": [
    "type(n)"
   ]
  },
  {
   "cell_type": "markdown",
   "id": "048758bf",
   "metadata": {},
   "source": [
    "### Empty Tuple"
   ]
  },
  {
   "cell_type": "code",
   "execution_count": 208,
   "id": "1dce8621",
   "metadata": {},
   "outputs": [],
   "source": [
    "t = ()"
   ]
  },
  {
   "cell_type": "code",
   "execution_count": 209,
   "id": "b97be1af",
   "metadata": {},
   "outputs": [
    {
     "data": {
      "text/plain": [
       "()"
      ]
     },
     "execution_count": 209,
     "metadata": {},
     "output_type": "execute_result"
    }
   ],
   "source": [
    "t"
   ]
  },
  {
   "cell_type": "code",
   "execution_count": 210,
   "id": "ffcac9e8",
   "metadata": {},
   "outputs": [
    {
     "data": {
      "text/plain": [
       "tuple"
      ]
     },
     "execution_count": 210,
     "metadata": {},
     "output_type": "execute_result"
    }
   ],
   "source": [
    "type(t)"
   ]
  },
  {
   "cell_type": "markdown",
   "id": "2b08d2a1",
   "metadata": {},
   "source": [
    "### Single Tuple"
   ]
  },
  {
   "cell_type": "code",
   "execution_count": 211,
   "id": "ff969fe7",
   "metadata": {},
   "outputs": [],
   "source": [
    "t1=(\"10Mar21\")"
   ]
  },
  {
   "cell_type": "code",
   "execution_count": 212,
   "id": "62637595",
   "metadata": {},
   "outputs": [
    {
     "data": {
      "text/plain": [
       "str"
      ]
     },
     "execution_count": 212,
     "metadata": {},
     "output_type": "execute_result"
    }
   ],
   "source": [
    "type(t1)"
   ]
  },
  {
   "cell_type": "code",
   "execution_count": 213,
   "id": "41bd7971",
   "metadata": {},
   "outputs": [],
   "source": [
    "t2=(\"10Mar21\",)"
   ]
  },
  {
   "cell_type": "code",
   "execution_count": 214,
   "id": "62502e85",
   "metadata": {},
   "outputs": [
    {
     "data": {
      "text/plain": [
       "tuple"
      ]
     },
     "execution_count": 214,
     "metadata": {},
     "output_type": "execute_result"
    }
   ],
   "source": [
    "type(t2)           "
   ]
  },
  {
   "cell_type": "markdown",
   "id": "e6128e5f",
   "metadata": {},
   "source": [
    "##### , must be to create tuple. above is Single tuple."
   ]
  },
  {
   "cell_type": "code",
   "execution_count": 215,
   "id": "7c636005",
   "metadata": {},
   "outputs": [
    {
     "data": {
      "text/plain": [
       "('10Mar21', '10Mar21', '10Mar21')"
      ]
     },
     "execution_count": 215,
     "metadata": {},
     "output_type": "execute_result"
    }
   ],
   "source": [
    "t2*3"
   ]
  },
  {
   "cell_type": "code",
   "execution_count": 216,
   "id": "699bd4da",
   "metadata": {},
   "outputs": [
    {
     "ename": "TypeError",
     "evalue": "can't multiply sequence by non-int of type 'tuple'",
     "output_type": "error",
     "traceback": [
      "\u001b[1;31m---------------------------------------------------------------------------\u001b[0m",
      "\u001b[1;31mTypeError\u001b[0m                                 Traceback (most recent call last)",
      "Cell \u001b[1;32mIn[216], line 1\u001b[0m\n\u001b[1;32m----> 1\u001b[0m \u001b[43mt2\u001b[49m\u001b[38;5;241;43m*\u001b[39;49m\u001b[43mt2\u001b[49m\n",
      "\u001b[1;31mTypeError\u001b[0m: can't multiply sequence by non-int of type 'tuple'"
     ]
    }
   ],
   "source": [
    "t2*t2"
   ]
  },
  {
   "cell_type": "code",
   "execution_count": null,
   "id": "71fbb4fb",
   "metadata": {},
   "outputs": [],
   "source": []
  },
  {
   "cell_type": "markdown",
   "id": "79c1d1db",
   "metadata": {},
   "source": [
    "## Interview Questions\n",
    "    1. Difference between List & Tuple?\n",
    "    2. Difference between Copy,Shallow Copy & Deep Copy?"
   ]
  },
  {
   "cell_type": "code",
   "execution_count": null,
   "id": "7babdcc9",
   "metadata": {},
   "outputs": [],
   "source": []
  }
 ],
 "metadata": {
  "kernelspec": {
   "display_name": "Python 3 (ipykernel)",
   "language": "python",
   "name": "python3"
  },
  "language_info": {
   "codemirror_mode": {
    "name": "ipython",
    "version": 3
   },
   "file_extension": ".py",
   "mimetype": "text/x-python",
   "name": "python",
   "nbconvert_exporter": "python",
   "pygments_lexer": "ipython3",
   "version": "3.8.16"
  }
 },
 "nbformat": 4,
 "nbformat_minor": 5
}
