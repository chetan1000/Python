{
 "cells": [
  {
   "cell_type": "markdown",
   "id": "8a6f9968",
   "metadata": {},
   "source": [
    "# Sets\n",
    "\n",
    "        Unique collection of items, duplicates elements are not allowed\n",
    "        \n",
    "        Unorderd\n",
    "        \n",
    "        {}"
   ]
  },
  {
   "cell_type": "code",
   "execution_count": 1,
   "id": "327525d1",
   "metadata": {},
   "outputs": [],
   "source": [
    "s={}            #Empty set"
   ]
  },
  {
   "cell_type": "code",
   "execution_count": null,
   "id": "914db1bf",
   "metadata": {},
   "outputs": [],
   "source": [
    "s"
   ]
  },
  {
   "cell_type": "code",
   "execution_count": 3,
   "id": "994f4ef1",
   "metadata": {},
   "outputs": [
    {
     "data": {
      "text/plain": [
       "dict"
      ]
     },
     "execution_count": 3,
     "metadata": {},
     "output_type": "execute_result"
    }
   ],
   "source": [
    "type(s)"
   ]
  },
  {
   "cell_type": "code",
   "execution_count": 4,
   "id": "dc6e1f86",
   "metadata": {},
   "outputs": [
    {
     "data": {
      "text/plain": [
       "str"
      ]
     },
     "execution_count": 4,
     "metadata": {},
     "output_type": "execute_result"
    }
   ],
   "source": [
    "Q = \"BANGALORE\"\n",
    "type(Q)"
   ]
  },
  {
   "cell_type": "code",
   "execution_count": 5,
   "id": "edb00b1b",
   "metadata": {},
   "outputs": [
    {
     "data": {
      "text/plain": [
       "9"
      ]
     },
     "execution_count": 5,
     "metadata": {},
     "output_type": "execute_result"
    }
   ],
   "source": [
    "len(Q)"
   ]
  },
  {
   "cell_type": "markdown",
   "id": "14204889",
   "metadata": {},
   "source": [
    "Converting String to Set"
   ]
  },
  {
   "cell_type": "code",
   "execution_count": 6,
   "id": "472a07bd",
   "metadata": {},
   "outputs": [],
   "source": [
    "Q = set(\"BANGALORE\")         "
   ]
  },
  {
   "cell_type": "code",
   "execution_count": 7,
   "id": "8d28927d",
   "metadata": {},
   "outputs": [
    {
     "data": {
      "text/plain": [
       "set"
      ]
     },
     "execution_count": 7,
     "metadata": {},
     "output_type": "execute_result"
    }
   ],
   "source": [
    "type(Q)"
   ]
  },
  {
   "cell_type": "code",
   "execution_count": 8,
   "id": "b2657cb1",
   "metadata": {},
   "outputs": [
    {
     "data": {
      "text/plain": [
       "{'A', 'B', 'E', 'G', 'L', 'N', 'O', 'R'}"
      ]
     },
     "execution_count": 8,
     "metadata": {},
     "output_type": "execute_result"
    }
   ],
   "source": [
    "Q                             #Alphabetical Ordered"
   ]
  },
  {
   "cell_type": "code",
   "execution_count": 9,
   "id": "f0cfb843",
   "metadata": {},
   "outputs": [
    {
     "data": {
      "text/plain": [
       "8"
      ]
     },
     "execution_count": 9,
     "metadata": {},
     "output_type": "execute_result"
    }
   ],
   "source": [
    "len(Q)                  # A is repeated 2 times"
   ]
  },
  {
   "cell_type": "code",
   "execution_count": 10,
   "id": "693f4801",
   "metadata": {},
   "outputs": [
    {
     "name": "stdout",
     "output_type": "stream",
     "text": [
      "{'B', 'R', 'A', 'E', 'O', 'N', 'G', 'L'}\n"
     ]
    }
   ],
   "source": [
    "print(Q)                        #while printing it will take any order to print bcz set is an unorder"
   ]
  },
  {
   "cell_type": "code",
   "execution_count": 11,
   "id": "8d83c71b",
   "metadata": {},
   "outputs": [],
   "source": [
    "b=set(\"Singapore\")"
   ]
  },
  {
   "cell_type": "code",
   "execution_count": 12,
   "id": "f82c5bfc",
   "metadata": {},
   "outputs": [
    {
     "data": {
      "text/plain": [
       "{'S', 'a', 'e', 'g', 'i', 'n', 'o', 'p', 'r'}"
      ]
     },
     "execution_count": 12,
     "metadata": {},
     "output_type": "execute_result"
    }
   ],
   "source": [
    "b                   #it will check iteratively,if any repeated letters it only counts one time"
   ]
  },
  {
   "cell_type": "code",
   "execution_count": 13,
   "id": "3bed6430",
   "metadata": {},
   "outputs": [],
   "source": [
    "b=set(\"SINGAPORE\")"
   ]
  },
  {
   "cell_type": "code",
   "execution_count": 14,
   "id": "578d852b",
   "metadata": {},
   "outputs": [
    {
     "data": {
      "text/plain": [
       "{'A', 'E', 'G', 'I', 'N', 'O', 'P', 'R', 'S'}"
      ]
     },
     "execution_count": 14,
     "metadata": {},
     "output_type": "execute_result"
    }
   ],
   "source": [
    "b"
   ]
  },
  {
   "cell_type": "code",
   "execution_count": 15,
   "id": "f852cbc6",
   "metadata": {},
   "outputs": [
    {
     "data": {
      "text/plain": [
       "9"
      ]
     },
     "execution_count": 15,
     "metadata": {},
     "output_type": "execute_result"
    }
   ],
   "source": [
    "len(b)"
   ]
  },
  {
   "cell_type": "markdown",
   "id": "456b406a",
   "metadata": {},
   "source": [
    "The elements of set must be Iterable"
   ]
  },
  {
   "cell_type": "code",
   "execution_count": 16,
   "id": "09631d6e",
   "metadata": {},
   "outputs": [
    {
     "ename": "TypeError",
     "evalue": "'int' object is not iterable",
     "output_type": "error",
     "traceback": [
      "\u001b[1;31m---------------------------------------------------------------------------\u001b[0m",
      "\u001b[1;31mTypeError\u001b[0m                                 Traceback (most recent call last)",
      "Cell \u001b[1;32mIn[16], line 1\u001b[0m\n\u001b[1;32m----> 1\u001b[0m d\u001b[38;5;241m=\u001b[39m\u001b[38;5;28;43mset\u001b[39;49m\u001b[43m(\u001b[49m\u001b[38;5;241;43m123456\u001b[39;49m\u001b[43m)\u001b[49m\n",
      "\u001b[1;31mTypeError\u001b[0m: 'int' object is not iterable"
     ]
    }
   ],
   "source": [
    "d=set(123456)                       #integers are not iterable"
   ]
  },
  {
   "cell_type": "code",
   "execution_count": 17,
   "id": "ccb52f7a",
   "metadata": {},
   "outputs": [],
   "source": [
    "d=set(\"123456\")"
   ]
  },
  {
   "cell_type": "code",
   "execution_count": 18,
   "id": "843e4ddf",
   "metadata": {},
   "outputs": [
    {
     "data": {
      "text/plain": [
       "{'1', '2', '3', '4', '5', '6'}"
      ]
     },
     "execution_count": 18,
     "metadata": {},
     "output_type": "execute_result"
    }
   ],
   "source": [
    "d"
   ]
  },
  {
   "cell_type": "code",
   "execution_count": 19,
   "id": "f50d27ac",
   "metadata": {},
   "outputs": [
    {
     "data": {
      "text/plain": [
       "set"
      ]
     },
     "execution_count": 19,
     "metadata": {},
     "output_type": "execute_result"
    }
   ],
   "source": [
    "type(d)"
   ]
  },
  {
   "cell_type": "markdown",
   "id": "d11e14c1",
   "metadata": {},
   "source": [
    "#### difference between Sets and Dictionaries?\n",
    "\n",
    "#### Dictionary and Sets are Unordered.\n",
    "\n",
    "\n",
    "#### List,Tuple,Strings are Ordered."
   ]
  },
  {
   "cell_type": "code",
   "execution_count": 20,
   "id": "d8e4ce7a",
   "metadata": {},
   "outputs": [],
   "source": [
    "d=set(['viru','rohi',1,2,3,4])               #converting list into set"
   ]
  },
  {
   "cell_type": "code",
   "execution_count": 21,
   "id": "746cb497",
   "metadata": {},
   "outputs": [
    {
     "data": {
      "text/plain": [
       "{1, 2, 3, 4, 'rohi', 'viru'}"
      ]
     },
     "execution_count": 21,
     "metadata": {},
     "output_type": "execute_result"
    }
   ],
   "source": [
    "d"
   ]
  },
  {
   "cell_type": "markdown",
   "id": "9752d708",
   "metadata": {},
   "source": [
    "### in operator "
   ]
  },
  {
   "cell_type": "code",
   "execution_count": 22,
   "id": "dfd3a244",
   "metadata": {},
   "outputs": [
    {
     "data": {
      "text/plain": [
       "False"
      ]
     },
     "execution_count": 22,
     "metadata": {},
     "output_type": "execute_result"
    }
   ],
   "source": [
    "'r' in d"
   ]
  },
  {
   "cell_type": "code",
   "execution_count": 23,
   "id": "963bd81b",
   "metadata": {},
   "outputs": [
    {
     "data": {
      "text/plain": [
       "True"
      ]
     },
     "execution_count": 23,
     "metadata": {},
     "output_type": "execute_result"
    }
   ],
   "source": [
    "'rohi' in d"
   ]
  },
  {
   "cell_type": "code",
   "execution_count": 24,
   "id": "6ca89021",
   "metadata": {},
   "outputs": [
    {
     "data": {
      "text/plain": [
       "False"
      ]
     },
     "execution_count": 24,
     "metadata": {},
     "output_type": "execute_result"
    }
   ],
   "source": [
    "'viru' not in d"
   ]
  },
  {
   "cell_type": "code",
   "execution_count": 25,
   "id": "8639c354",
   "metadata": {},
   "outputs": [
    {
     "data": {
      "text/plain": [
       "True"
      ]
     },
     "execution_count": 25,
     "metadata": {},
     "output_type": "execute_result"
    }
   ],
   "source": [
    "'viru' in d"
   ]
  },
  {
   "cell_type": "code",
   "execution_count": 26,
   "id": "0c9d406b",
   "metadata": {},
   "outputs": [
    {
     "data": {
      "text/plain": [
       "{1, 2, 3, 4, 'rohi', 'viru'}"
      ]
     },
     "execution_count": 26,
     "metadata": {},
     "output_type": "execute_result"
    }
   ],
   "source": [
    "d"
   ]
  },
  {
   "cell_type": "markdown",
   "id": "c1bd6d75",
   "metadata": {},
   "source": [
    "'set' object is not subscriptable\n",
    "\n",
    "we can't accessed set elements by index, bcz its Unordered."
   ]
  },
  {
   "cell_type": "code",
   "execution_count": 27,
   "id": "e85f82e3",
   "metadata": {},
   "outputs": [
    {
     "ename": "TypeError",
     "evalue": "'set' object is not subscriptable",
     "output_type": "error",
     "traceback": [
      "\u001b[1;31m---------------------------------------------------------------------------\u001b[0m",
      "\u001b[1;31mTypeError\u001b[0m                                 Traceback (most recent call last)",
      "Cell \u001b[1;32mIn[27], line 1\u001b[0m\n\u001b[1;32m----> 1\u001b[0m \u001b[43md\u001b[49m\u001b[43m[\u001b[49m\u001b[38;5;241;43m0\u001b[39;49m\u001b[43m]\u001b[49m\n",
      "\u001b[1;31mTypeError\u001b[0m: 'set' object is not subscriptable"
     ]
    }
   ],
   "source": [
    "d[0]"
   ]
  },
  {
   "cell_type": "markdown",
   "id": "8af34fad",
   "metadata": {},
   "source": [
    "### a | b             (union)"
   ]
  },
  {
   "cell_type": "code",
   "execution_count": 28,
   "id": "524b622c",
   "metadata": {},
   "outputs": [],
   "source": [
    "a={'A','B','E','G','L','N','O','R'}"
   ]
  },
  {
   "cell_type": "code",
   "execution_count": 29,
   "id": "8048cc20",
   "metadata": {},
   "outputs": [
    {
     "data": {
      "text/plain": [
       "{'A', 'B', 'E', 'G', 'L', 'N', 'O', 'R'}"
      ]
     },
     "execution_count": 29,
     "metadata": {},
     "output_type": "execute_result"
    }
   ],
   "source": [
    "a"
   ]
  },
  {
   "cell_type": "code",
   "execution_count": 30,
   "id": "4833b9da",
   "metadata": {},
   "outputs": [],
   "source": [
    "b={'A','E','G','I','N','O','P','R','S'}"
   ]
  },
  {
   "cell_type": "code",
   "execution_count": 31,
   "id": "e776c2a8",
   "metadata": {},
   "outputs": [
    {
     "data": {
      "text/plain": [
       "{'A', 'E', 'G', 'I', 'N', 'O', 'P', 'R', 'S'}"
      ]
     },
     "execution_count": 31,
     "metadata": {},
     "output_type": "execute_result"
    }
   ],
   "source": [
    "b"
   ]
  },
  {
   "cell_type": "code",
   "execution_count": 32,
   "id": "acccd92e",
   "metadata": {},
   "outputs": [
    {
     "name": "stdout",
     "output_type": "stream",
     "text": [
      "a | b : {'B', 'R', 'A', 'E', 'P', 'O', 'N', 'I', 'G', 'S', 'L'}\n"
     ]
    }
   ],
   "source": [
    "print(\"a | b :\",a | b)"
   ]
  },
  {
   "cell_type": "code",
   "execution_count": 33,
   "id": "7a2fb684",
   "metadata": {},
   "outputs": [
    {
     "data": {
      "text/plain": [
       "11"
      ]
     },
     "execution_count": 33,
     "metadata": {},
     "output_type": "execute_result"
    }
   ],
   "source": [
    "len(a | b)"
   ]
  },
  {
   "cell_type": "markdown",
   "id": "191cc343",
   "metadata": {},
   "source": [
    "### a & b      (Intersection)"
   ]
  },
  {
   "cell_type": "code",
   "execution_count": 34,
   "id": "8f604f29",
   "metadata": {},
   "outputs": [
    {
     "name": "stdout",
     "output_type": "stream",
     "text": [
      "a & b : {'R', 'A', 'E', 'O', 'N', 'G'}\n"
     ]
    }
   ],
   "source": [
    "print('a & b :', a & b)"
   ]
  },
  {
   "cell_type": "markdown",
   "id": "e74bb34e",
   "metadata": {},
   "source": [
    "### a - b"
   ]
  },
  {
   "cell_type": "code",
   "execution_count": 35,
   "id": "edb95e7c",
   "metadata": {},
   "outputs": [
    {
     "data": {
      "text/plain": [
       "{'B', 'L'}"
      ]
     },
     "execution_count": 35,
     "metadata": {},
     "output_type": "execute_result"
    }
   ],
   "source": [
    "a-b"
   ]
  },
  {
   "cell_type": "markdown",
   "id": "677d1176",
   "metadata": {},
   "source": [
    "### b - a"
   ]
  },
  {
   "cell_type": "code",
   "execution_count": 36,
   "id": "7843cbd7",
   "metadata": {},
   "outputs": [
    {
     "data": {
      "text/plain": [
       "{'I', 'P', 'S'}"
      ]
     },
     "execution_count": 36,
     "metadata": {},
     "output_type": "execute_result"
    }
   ],
   "source": [
    "b - a"
   ]
  },
  {
   "cell_type": "markdown",
   "id": "aa5aa8ec",
   "metadata": {},
   "source": [
    "###### The elements which are not common"
   ]
  },
  {
   "cell_type": "code",
   "execution_count": 37,
   "id": "344e32f0",
   "metadata": {},
   "outputs": [
    {
     "data": {
      "text/plain": [
       "{'B', 'I', 'L', 'P', 'S'}"
      ]
     },
     "execution_count": 37,
     "metadata": {},
     "output_type": "execute_result"
    }
   ],
   "source": [
    "(a | b) - (a & b)"
   ]
  },
  {
   "cell_type": "code",
   "execution_count": 38,
   "id": "7b9bb732",
   "metadata": {},
   "outputs": [
    {
     "ename": "TypeError",
     "evalue": "unsupported operand type(s) for +: 'set' and 'set'",
     "output_type": "error",
     "traceback": [
      "\u001b[1;31m---------------------------------------------------------------------------\u001b[0m",
      "\u001b[1;31mTypeError\u001b[0m                                 Traceback (most recent call last)",
      "Cell \u001b[1;32mIn[38], line 1\u001b[0m\n\u001b[1;32m----> 1\u001b[0m \u001b[43ma\u001b[49m\u001b[43m \u001b[49m\u001b[38;5;241;43m+\u001b[39;49m\u001b[43m \u001b[49m\u001b[43mb\u001b[49m\n",
      "\u001b[1;31mTypeError\u001b[0m: unsupported operand type(s) for +: 'set' and 'set'"
     ]
    }
   ],
   "source": [
    "a + b                   # unsupported operand type(s) for +: 'set' and 'set'\n"
   ]
  },
  {
   "cell_type": "markdown",
   "id": "ef6481f8",
   "metadata": {},
   "source": [
    "operations on Sets "
   ]
  },
  {
   "cell_type": "markdown",
   "id": "ee8e5fe5",
   "metadata": {},
   "source": [
    "## add()"
   ]
  },
  {
   "cell_type": "code",
   "execution_count": 39,
   "id": "d8885201",
   "metadata": {},
   "outputs": [
    {
     "data": {
      "text/plain": [
       "{'A', 'B', 'E', 'G', 'L', 'N', 'O', 'R'}"
      ]
     },
     "execution_count": 39,
     "metadata": {},
     "output_type": "execute_result"
    }
   ],
   "source": [
    "a"
   ]
  },
  {
   "cell_type": "code",
   "execution_count": 40,
   "id": "d3c812c3",
   "metadata": {},
   "outputs": [],
   "source": [
    "a.add('NEW')"
   ]
  },
  {
   "cell_type": "code",
   "execution_count": 41,
   "id": "ad4cf617",
   "metadata": {},
   "outputs": [
    {
     "data": {
      "text/plain": [
       "{'A', 'B', 'E', 'G', 'L', 'N', 'NEW', 'O', 'R'}"
      ]
     },
     "execution_count": 41,
     "metadata": {},
     "output_type": "execute_result"
    }
   ],
   "source": [
    "a"
   ]
  },
  {
   "cell_type": "markdown",
   "id": "3d5a9951",
   "metadata": {},
   "source": [
    "## remove()"
   ]
  },
  {
   "cell_type": "code",
   "execution_count": 42,
   "id": "f4679115",
   "metadata": {},
   "outputs": [],
   "source": [
    "a.remove('NEW')"
   ]
  },
  {
   "cell_type": "code",
   "execution_count": 43,
   "id": "6479aa9e",
   "metadata": {},
   "outputs": [
    {
     "data": {
      "text/plain": [
       "{'A', 'B', 'E', 'G', 'L', 'N', 'O', 'R'}"
      ]
     },
     "execution_count": 43,
     "metadata": {},
     "output_type": "execute_result"
    }
   ],
   "source": [
    "a"
   ]
  },
  {
   "cell_type": "code",
   "execution_count": 44,
   "id": "8291c41d",
   "metadata": {},
   "outputs": [
    {
     "ename": "KeyError",
     "evalue": "'cap'",
     "output_type": "error",
     "traceback": [
      "\u001b[1;31m---------------------------------------------------------------------------\u001b[0m",
      "\u001b[1;31mKeyError\u001b[0m                                  Traceback (most recent call last)",
      "Cell \u001b[1;32mIn[44], line 1\u001b[0m\n\u001b[1;32m----> 1\u001b[0m \u001b[43ma\u001b[49m\u001b[38;5;241;43m.\u001b[39;49m\u001b[43mremove\u001b[49m\u001b[43m(\u001b[49m\u001b[38;5;124;43m'\u001b[39;49m\u001b[38;5;124;43mcap\u001b[39;49m\u001b[38;5;124;43m'\u001b[39;49m\u001b[43m)\u001b[49m\n",
      "\u001b[1;31mKeyError\u001b[0m: 'cap'"
     ]
    }
   ],
   "source": [
    "a.remove('cap')                            #there is no element 'cap' in set"
   ]
  },
  {
   "cell_type": "markdown",
   "id": "d0db3c2f",
   "metadata": {},
   "source": [
    "### discard()\n",
    "                   Remove an element from a set if it is a member.\n",
    "\n",
    "                   If the element is not a member, do nothing."
   ]
  },
  {
   "cell_type": "code",
   "execution_count": 45,
   "id": "7efff60a",
   "metadata": {},
   "outputs": [],
   "source": [
    "a.discard('cap')"
   ]
  },
  {
   "cell_type": "code",
   "execution_count": 46,
   "id": "5fdf2ab0",
   "metadata": {},
   "outputs": [
    {
     "data": {
      "text/plain": [
       "{'A', 'B', 'E', 'G', 'L', 'N', 'O', 'R'}"
      ]
     },
     "execution_count": 46,
     "metadata": {},
     "output_type": "execute_result"
    }
   ],
   "source": [
    "a"
   ]
  },
  {
   "cell_type": "code",
   "execution_count": 47,
   "id": "e0cd63b8",
   "metadata": {},
   "outputs": [],
   "source": [
    "a.discard('A')"
   ]
  },
  {
   "cell_type": "code",
   "execution_count": 48,
   "id": "1ef18dcb",
   "metadata": {},
   "outputs": [
    {
     "data": {
      "text/plain": [
       "{'B', 'E', 'G', 'L', 'N', 'O', 'R'}"
      ]
     },
     "execution_count": 48,
     "metadata": {},
     "output_type": "execute_result"
    }
   ],
   "source": [
    "a"
   ]
  },
  {
   "cell_type": "markdown",
   "id": "3c82612d",
   "metadata": {},
   "source": [
    "## clear()           \n",
    "                    Remove all elements from this set.\n",
    "                    once set deleted, we can't undo"
   ]
  },
  {
   "cell_type": "code",
   "execution_count": 49,
   "id": "c4b1d69b",
   "metadata": {},
   "outputs": [
    {
     "data": {
      "text/plain": [
       "{'B', 'E', 'G', 'L', 'N', 'O', 'R'}"
      ]
     },
     "execution_count": 49,
     "metadata": {},
     "output_type": "execute_result"
    }
   ],
   "source": [
    "a"
   ]
  },
  {
   "cell_type": "code",
   "execution_count": 50,
   "id": "3113f329",
   "metadata": {},
   "outputs": [],
   "source": [
    "a.clear()"
   ]
  },
  {
   "cell_type": "code",
   "execution_count": 51,
   "id": "60c5e050",
   "metadata": {},
   "outputs": [
    {
     "data": {
      "text/plain": [
       "set()"
      ]
     },
     "execution_count": 51,
     "metadata": {},
     "output_type": "execute_result"
    }
   ],
   "source": [
    "a"
   ]
  },
  {
   "cell_type": "markdown",
   "id": "9d377467",
   "metadata": {},
   "source": [
    "###### converting string to set"
   ]
  },
  {
   "cell_type": "code",
   "execution_count": 52,
   "id": "6386976c",
   "metadata": {},
   "outputs": [],
   "source": [
    "myset = set(\"NEW\")      #While converting Set, it separates out and makes iterative"
   ]
  },
  {
   "cell_type": "code",
   "execution_count": 58,
   "id": "d6eb482d",
   "metadata": {},
   "outputs": [
    {
     "data": {
      "text/plain": [
       "{'E', 'N', 'W'}"
      ]
     },
     "execution_count": 58,
     "metadata": {},
     "output_type": "execute_result"
    }
   ],
   "source": [
    "myset"
   ]
  },
  {
   "cell_type": "code",
   "execution_count": 59,
   "id": "f8f81fb9",
   "metadata": {},
   "outputs": [],
   "source": [
    "g=\"goat\""
   ]
  },
  {
   "cell_type": "code",
   "execution_count": 60,
   "id": "685f3c7d",
   "metadata": {},
   "outputs": [],
   "source": [
    "h=set(g)"
   ]
  },
  {
   "cell_type": "code",
   "execution_count": 61,
   "id": "88ee4431",
   "metadata": {},
   "outputs": [
    {
     "data": {
      "text/plain": [
       "{'a', 'g', 'o', 't'}"
      ]
     },
     "execution_count": 61,
     "metadata": {},
     "output_type": "execute_result"
    }
   ],
   "source": [
    "h"
   ]
  },
  {
   "cell_type": "markdown",
   "id": "c05f99b7",
   "metadata": {},
   "source": [
    "### update()\n",
    "                Update a set with the union of itself and others."
   ]
  },
  {
   "cell_type": "code",
   "execution_count": 62,
   "id": "ad8825c9",
   "metadata": {},
   "outputs": [
    {
     "data": {
      "text/plain": [
       "set()"
      ]
     },
     "execution_count": 62,
     "metadata": {},
     "output_type": "execute_result"
    }
   ],
   "source": [
    "a"
   ]
  },
  {
   "cell_type": "code",
   "execution_count": 63,
   "id": "bb34558a",
   "metadata": {},
   "outputs": [],
   "source": [
    "c = {'a','e','i','o','u'}"
   ]
  },
  {
   "cell_type": "code",
   "execution_count": 64,
   "id": "0f9b4622",
   "metadata": {},
   "outputs": [],
   "source": [
    "a.update(c)"
   ]
  },
  {
   "cell_type": "code",
   "execution_count": 65,
   "id": "6c9a5bed",
   "metadata": {},
   "outputs": [
    {
     "data": {
      "text/plain": [
       "{'a', 'e', 'i', 'o', 'u'}"
      ]
     },
     "execution_count": 65,
     "metadata": {},
     "output_type": "execute_result"
    }
   ],
   "source": [
    "c"
   ]
  },
  {
   "cell_type": "code",
   "execution_count": 66,
   "id": "c9e6c3ae",
   "metadata": {},
   "outputs": [],
   "source": [
    "a.clear()"
   ]
  },
  {
   "cell_type": "code",
   "execution_count": 67,
   "id": "15a7b4ef",
   "metadata": {},
   "outputs": [
    {
     "data": {
      "text/plain": [
       "set()"
      ]
     },
     "execution_count": 67,
     "metadata": {},
     "output_type": "execute_result"
    }
   ],
   "source": [
    "a"
   ]
  },
  {
   "cell_type": "code",
   "execution_count": 68,
   "id": "1042e8fe",
   "metadata": {},
   "outputs": [],
   "source": [
    "a.add(1234)        #adding integer"
   ]
  },
  {
   "cell_type": "code",
   "execution_count": 69,
   "id": "60834a57",
   "metadata": {},
   "outputs": [
    {
     "data": {
      "text/plain": [
       "{1234}"
      ]
     },
     "execution_count": 69,
     "metadata": {},
     "output_type": "execute_result"
    }
   ],
   "source": [
    "a"
   ]
  },
  {
   "cell_type": "code",
   "execution_count": 70,
   "id": "b78e6b06",
   "metadata": {},
   "outputs": [],
   "source": [
    "t=(100,200,300)        #adding Tuple"
   ]
  },
  {
   "cell_type": "code",
   "execution_count": 71,
   "id": "76783ab9",
   "metadata": {},
   "outputs": [],
   "source": [
    "a.add(t)"
   ]
  },
  {
   "cell_type": "code",
   "execution_count": 72,
   "id": "34c01035",
   "metadata": {},
   "outputs": [
    {
     "data": {
      "text/plain": [
       "{(100, 200, 300), 1234}"
      ]
     },
     "execution_count": 72,
     "metadata": {},
     "output_type": "execute_result"
    }
   ],
   "source": [
    "a"
   ]
  },
  {
   "cell_type": "code",
   "execution_count": 73,
   "id": "ebafef92",
   "metadata": {},
   "outputs": [
    {
     "data": {
      "text/plain": [
       "2"
      ]
     },
     "execution_count": 73,
     "metadata": {},
     "output_type": "execute_result"
    }
   ],
   "source": [
    "len(a)"
   ]
  },
  {
   "cell_type": "code",
   "execution_count": 74,
   "id": "ee50aed5",
   "metadata": {},
   "outputs": [],
   "source": [
    "q=123.456"
   ]
  },
  {
   "cell_type": "code",
   "execution_count": 75,
   "id": "765f9501",
   "metadata": {},
   "outputs": [],
   "source": [
    "a.add(q)"
   ]
  },
  {
   "cell_type": "code",
   "execution_count": 76,
   "id": "7c78de93",
   "metadata": {},
   "outputs": [
    {
     "data": {
      "text/plain": [
       "{(100, 200, 300), 123.456, 1234}"
      ]
     },
     "execution_count": 76,
     "metadata": {},
     "output_type": "execute_result"
    }
   ],
   "source": [
    "a"
   ]
  },
  {
   "cell_type": "code",
   "execution_count": 77,
   "id": "23884e55",
   "metadata": {},
   "outputs": [],
   "source": [
    "c='cap'                #adding String     # while adding it takes as one"
   ]
  },
  {
   "cell_type": "code",
   "execution_count": 78,
   "id": "04fd6576",
   "metadata": {},
   "outputs": [],
   "source": [
    "a.add(c)"
   ]
  },
  {
   "cell_type": "code",
   "execution_count": 79,
   "id": "e1230025",
   "metadata": {},
   "outputs": [
    {
     "data": {
      "text/plain": [
       "{(100, 200, 300), 123.456, 1234, 'cap'}"
      ]
     },
     "execution_count": 79,
     "metadata": {},
     "output_type": "execute_result"
    }
   ],
   "source": [
    "a"
   ]
  },
  {
   "cell_type": "code",
   "execution_count": 81,
   "id": "1af5be17",
   "metadata": {},
   "outputs": [],
   "source": [
    "m=['a','b','c']            #adding List but its shows error bcz sets are unordered and list are ordered"
   ]
  },
  {
   "cell_type": "code",
   "execution_count": 82,
   "id": "e49481e9",
   "metadata": {},
   "outputs": [
    {
     "ename": "TypeError",
     "evalue": "unhashable type: 'list'",
     "output_type": "error",
     "traceback": [
      "\u001b[1;31m---------------------------------------------------------------------------\u001b[0m",
      "\u001b[1;31mTypeError\u001b[0m                                 Traceback (most recent call last)",
      "Cell \u001b[1;32mIn[82], line 1\u001b[0m\n\u001b[1;32m----> 1\u001b[0m \u001b[43ma\u001b[49m\u001b[38;5;241;43m.\u001b[39;49m\u001b[43madd\u001b[49m\u001b[43m(\u001b[49m\u001b[43mm\u001b[49m\u001b[43m)\u001b[49m\n",
      "\u001b[1;31mTypeError\u001b[0m: unhashable type: 'list'"
     ]
    }
   ],
   "source": [
    "a.add(m)"
   ]
  },
  {
   "cell_type": "code",
   "execution_count": 83,
   "id": "d67cf797",
   "metadata": {},
   "outputs": [],
   "source": [
    "n={'X':'apple','Y':'banana'}"
   ]
  },
  {
   "cell_type": "code",
   "execution_count": 84,
   "id": "5e2cbb1e",
   "metadata": {},
   "outputs": [
    {
     "ename": "TypeError",
     "evalue": "unhashable type: 'dict'",
     "output_type": "error",
     "traceback": [
      "\u001b[1;31m---------------------------------------------------------------------------\u001b[0m",
      "\u001b[1;31mTypeError\u001b[0m                                 Traceback (most recent call last)",
      "Cell \u001b[1;32mIn[84], line 1\u001b[0m\n\u001b[1;32m----> 1\u001b[0m \u001b[43ma\u001b[49m\u001b[38;5;241;43m.\u001b[39;49m\u001b[43madd\u001b[49m\u001b[43m(\u001b[49m\u001b[43mn\u001b[49m\u001b[43m)\u001b[49m\n",
      "\u001b[1;31mTypeError\u001b[0m: unhashable type: 'dict'"
     ]
    }
   ],
   "source": [
    "a.add(n)"
   ]
  },
  {
   "cell_type": "code",
   "execution_count": 85,
   "id": "badcbc96",
   "metadata": {},
   "outputs": [
    {
     "data": {
      "text/plain": [
       "{(100, 200, 300), 123.456, 1234, 'cap'}"
      ]
     },
     "execution_count": 85,
     "metadata": {},
     "output_type": "execute_result"
    }
   ],
   "source": [
    "a"
   ]
  },
  {
   "cell_type": "code",
   "execution_count": 86,
   "id": "519fc517",
   "metadata": {},
   "outputs": [],
   "source": [
    "a.update(m)"
   ]
  },
  {
   "cell_type": "code",
   "execution_count": 87,
   "id": "9991214b",
   "metadata": {},
   "outputs": [
    {
     "data": {
      "text/plain": [
       "{(100, 200, 300), 123.456, 1234, 'a', 'b', 'c', 'cap'}"
      ]
     },
     "execution_count": 87,
     "metadata": {},
     "output_type": "execute_result"
    }
   ],
   "source": [
    "a"
   ]
  },
  {
   "cell_type": "code",
   "execution_count": 88,
   "id": "a13ddf16",
   "metadata": {},
   "outputs": [],
   "source": [
    "a.update(n)              #only jeys updated"
   ]
  },
  {
   "cell_type": "code",
   "execution_count": 89,
   "id": "aa6153f8",
   "metadata": {},
   "outputs": [
    {
     "data": {
      "text/plain": [
       "{(100, 200, 300), 123.456, 1234, 'X', 'Y', 'a', 'b', 'c', 'cap'}"
      ]
     },
     "execution_count": 89,
     "metadata": {},
     "output_type": "execute_result"
    }
   ],
   "source": [
    "a"
   ]
  },
  {
   "cell_type": "code",
   "execution_count": 92,
   "id": "be3b0fbe",
   "metadata": {},
   "outputs": [
    {
     "data": {
      "text/plain": [
       "9"
      ]
     },
     "execution_count": 92,
     "metadata": {},
     "output_type": "execute_result"
    }
   ],
   "source": [
    "len(a)"
   ]
  },
  {
   "cell_type": "markdown",
   "id": "d3ca82fa",
   "metadata": {},
   "source": [
    "While adding, List and Dictionaries to set , it shows error \"Unhashable type\"\n",
    "\n",
    "While Updating, List and dictionaries to set, it get updated "
   ]
  },
  {
   "cell_type": "code",
   "execution_count": null,
   "id": "cd8ee902",
   "metadata": {},
   "outputs": [],
   "source": []
  },
  {
   "cell_type": "markdown",
   "id": "4b313569",
   "metadata": {},
   "source": [
    "other Sets Operation:\n",
    "    \n",
    "    copy\n",
    "    \n",
    "    difference\n",
    "    \n",
    "    difference_update\n",
    "    \n",
    "    intersection,intersection_update\n",
    "    \n",
    "    intersection_update\n",
    "    \n",
    "    isdisjoint\n",
    "    \n",
    "    issubset\n",
    "    \n",
    "    issuperset\n",
    "    \n",
    "    pop\n",
    "    \n",
    "    symmetric_difference\n",
    "    \n",
    "    symmetric_difference_update\n",
    "    \n",
    "    union\n",
    "    "
   ]
  },
  {
   "cell_type": "code",
   "execution_count": null,
   "id": "fe5caad2",
   "metadata": {},
   "outputs": [],
   "source": []
  }
 ],
 "metadata": {
  "kernelspec": {
   "display_name": "Python 3 (ipykernel)",
   "language": "python",
   "name": "python3"
  },
  "language_info": {
   "codemirror_mode": {
    "name": "ipython",
    "version": 3
   },
   "file_extension": ".py",
   "mimetype": "text/x-python",
   "name": "python",
   "nbconvert_exporter": "python",
   "pygments_lexer": "ipython3",
   "version": "3.8.16"
  }
 },
 "nbformat": 4,
 "nbformat_minor": 5
}
