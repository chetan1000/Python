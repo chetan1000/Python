{
 "cells": [
  {
   "cell_type": "code",
   "execution_count": 1,
   "id": "863be9e1",
   "metadata": {},
   "outputs": [],
   "source": [
    "#to print datatype\n",
    "i=10"
   ]
  },
  {
   "cell_type": "code",
   "execution_count": 2,
   "id": "6251cad3",
   "metadata": {},
   "outputs": [
    {
     "name": "stdout",
     "output_type": "stream",
     "text": [
      "10\n"
     ]
    }
   ],
   "source": [
    "print(i)"
   ]
  },
  {
   "cell_type": "code",
   "execution_count": 3,
   "id": "2988aff3",
   "metadata": {},
   "outputs": [
    {
     "data": {
      "text/plain": [
       "int"
      ]
     },
     "execution_count": 3,
     "metadata": {},
     "output_type": "execute_result"
    }
   ],
   "source": [
    "type(i)"
   ]
  },
  {
   "cell_type": "code",
   "execution_count": 4,
   "id": "4d5d264b",
   "metadata": {},
   "outputs": [],
   "source": [
    "j=\"chetan\""
   ]
  },
  {
   "cell_type": "code",
   "execution_count": 5,
   "id": "28a6e3cc",
   "metadata": {},
   "outputs": [
    {
     "data": {
      "text/plain": [
       "str"
      ]
     },
     "execution_count": 5,
     "metadata": {},
     "output_type": "execute_result"
    }
   ],
   "source": [
    "type(j)"
   ]
  },
  {
   "cell_type": "markdown",
   "id": "40516b7a",
   "metadata": {},
   "source": [
    "# Strings\n",
    "\n",
    "Strings can be specified by either double quote or single quote"
   ]
  },
  {
   "cell_type": "code",
   "execution_count": 8,
   "id": "f52d3868",
   "metadata": {},
   "outputs": [],
   "source": [
    "S=\"Welcome\"\n",
    "P=\"Python Programming\""
   ]
  },
  {
   "cell_type": "code",
   "execution_count": 53,
   "id": "b9bccea3",
   "metadata": {},
   "outputs": [
    {
     "data": {
      "text/plain": [
       "(7, 18)"
      ]
     },
     "execution_count": 53,
     "metadata": {},
     "output_type": "execute_result"
    }
   ],
   "source": [
    "len(S),len(P) \n",
    "           #to print length"
   ]
  },
  {
   "cell_type": "markdown",
   "id": "bc2b4092",
   "metadata": {},
   "source": [
    "# Indexing Operator.......[]\n",
    "        Index always starts from 0 to (length-1).....(n-1)\n",
    "        \n",
    "        Positive Index: starts From 0 the direction of moving LEFT to RIGHT\n",
    "        Negative Index: Starts From -1 & the direction of moving is LEFT to RIGHT"
   ]
  },
  {
   "cell_type": "code",
   "execution_count": 21,
   "id": "d14e767a",
   "metadata": {},
   "outputs": [],
   "source": [
    "c=\"WELCOME\""
   ]
  },
  {
   "cell_type": "code",
   "execution_count": 22,
   "id": "3556c245",
   "metadata": {},
   "outputs": [
    {
     "data": {
      "text/plain": [
       "'M'"
      ]
     },
     "execution_count": 22,
     "metadata": {},
     "output_type": "execute_result"
    }
   ],
   "source": [
    "c[5]"
   ]
  },
  {
   "cell_type": "code",
   "execution_count": 23,
   "id": "1e85151f",
   "metadata": {},
   "outputs": [
    {
     "ename": "IndexError",
     "evalue": "string index out of range",
     "output_type": "error",
     "traceback": [
      "\u001b[1;31m---------------------------------------------------------------------------\u001b[0m",
      "\u001b[1;31mIndexError\u001b[0m                                Traceback (most recent call last)",
      "Cell \u001b[1;32mIn[23], line 1\u001b[0m\n\u001b[1;32m----> 1\u001b[0m \u001b[43mc\u001b[49m\u001b[43m[\u001b[49m\u001b[38;5;241;43m7\u001b[39;49m\u001b[43m]\u001b[49m\n",
      "\u001b[1;31mIndexError\u001b[0m: string index out of range"
     ]
    }
   ],
   "source": [
    "c[7]    #Error,string index out of range"
   ]
  },
  {
   "cell_type": "code",
   "execution_count": 24,
   "id": "4be4df30",
   "metadata": {},
   "outputs": [
    {
     "data": {
      "text/plain": [
       "'E'"
      ]
     },
     "execution_count": 24,
     "metadata": {},
     "output_type": "execute_result"
    }
   ],
   "source": [
    "c[-1]"
   ]
  },
  {
   "cell_type": "code",
   "execution_count": 25,
   "id": "68511765",
   "metadata": {},
   "outputs": [
    {
     "data": {
      "text/plain": [
       "'L'"
      ]
     },
     "execution_count": 25,
     "metadata": {},
     "output_type": "execute_result"
    }
   ],
   "source": [
    "c[-5]"
   ]
  },
  {
   "cell_type": "code",
   "execution_count": 34,
   "id": "0234fcbc",
   "metadata": {},
   "outputs": [
    {
     "ename": "IndexError",
     "evalue": "string index out of range",
     "output_type": "error",
     "traceback": [
      "\u001b[1;31m---------------------------------------------------------------------------\u001b[0m",
      "\u001b[1;31mIndexError\u001b[0m                                Traceback (most recent call last)",
      "Cell \u001b[1;32mIn[34], line 1\u001b[0m\n\u001b[1;32m----> 1\u001b[0m \u001b[43mc\u001b[49m\u001b[43m[\u001b[49m\u001b[38;5;241;43m-\u001b[39;49m\u001b[38;5;241;43m8\u001b[39;49m\u001b[43m]\u001b[49m\n",
      "\u001b[1;31mIndexError\u001b[0m: string index out of range"
     ]
    }
   ],
   "source": [
    "c[-8]"
   ]
  },
  {
   "cell_type": "markdown",
   "id": "5dd4b27b",
   "metadata": {},
   "source": [
    "# Slicing\n",
    "\n",
    "Taking Substring from OriGinal string.\n",
    "\n",
    "Slicing always work from Left to right.\n",
    "\n",
    "\n",
    "ex:s[0:3]  ---------->    s[start point:end point]"
   ]
  },
  {
   "cell_type": "code",
   "execution_count": 28,
   "id": "f1f98522",
   "metadata": {},
   "outputs": [],
   "source": [
    "S=\"WELCOME\""
   ]
  },
  {
   "cell_type": "code",
   "execution_count": 30,
   "id": "d4377f06",
   "metadata": {},
   "outputs": [
    {
     "data": {
      "text/plain": [
       "('L', 'C')"
      ]
     },
     "execution_count": 30,
     "metadata": {},
     "output_type": "execute_result"
    }
   ],
   "source": [
    "S[2],S[3]"
   ]
  },
  {
   "cell_type": "code",
   "execution_count": 33,
   "id": "4e03974b",
   "metadata": {},
   "outputs": [
    {
     "ename": "TypeError",
     "evalue": "string indices must be integers",
     "output_type": "error",
     "traceback": [
      "\u001b[1;31m---------------------------------------------------------------------------\u001b[0m",
      "\u001b[1;31mTypeError\u001b[0m                                 Traceback (most recent call last)",
      "Cell \u001b[1;32mIn[33], line 1\u001b[0m\n\u001b[1;32m----> 1\u001b[0m \u001b[43mS\u001b[49m\u001b[43m[\u001b[49m\u001b[38;5;241;43m2\u001b[39;49m\u001b[43m,\u001b[49m\u001b[38;5;241;43m3\u001b[39;49m\u001b[43m]\u001b[49m\n",
      "\u001b[1;31mTypeError\u001b[0m: string indices must be integers"
     ]
    }
   ],
   "source": [
    "S[2,3]"
   ]
  },
  {
   "cell_type": "code",
   "execution_count": 35,
   "id": "4b71451f",
   "metadata": {},
   "outputs": [
    {
     "data": {
      "text/plain": [
       "'WELCOME'"
      ]
     },
     "execution_count": 35,
     "metadata": {},
     "output_type": "execute_result"
    }
   ],
   "source": [
    "S[0:10]"
   ]
  },
  {
   "cell_type": "code",
   "execution_count": 36,
   "id": "f9ddba78",
   "metadata": {},
   "outputs": [
    {
     "data": {
      "text/plain": [
       "'WEL'"
      ]
     },
     "execution_count": 36,
     "metadata": {},
     "output_type": "execute_result"
    }
   ],
   "source": [
    "S[0:3]"
   ]
  },
  {
   "cell_type": "code",
   "execution_count": 38,
   "id": "e084d5f9",
   "metadata": {},
   "outputs": [
    {
     "data": {
      "text/plain": [
       "'COME'"
      ]
     },
     "execution_count": 38,
     "metadata": {},
     "output_type": "execute_result"
    }
   ],
   "source": [
    "S[3:]          #from given location to all"
   ]
  },
  {
   "cell_type": "code",
   "execution_count": 43,
   "id": "38b52bdd",
   "metadata": {},
   "outputs": [
    {
     "data": {
      "text/plain": [
       "'WEL'"
      ]
     },
     "execution_count": 43,
     "metadata": {},
     "output_type": "execute_result"
    }
   ],
   "source": [
    "S[:3]           #from starting point to (n-1) given location - 1"
   ]
  },
  {
   "cell_type": "code",
   "execution_count": 44,
   "id": "e3657cd5",
   "metadata": {},
   "outputs": [
    {
     "data": {
      "text/plain": [
       "'WELCOME'"
      ]
     },
     "execution_count": 44,
     "metadata": {},
     "output_type": "execute_result"
    }
   ],
   "source": [
    "S[:]            #Starting point to Ending point"
   ]
  },
  {
   "cell_type": "code",
   "execution_count": 47,
   "id": "4d92de51",
   "metadata": {},
   "outputs": [
    {
     "data": {
      "text/plain": [
       "'WELCOME'"
      ]
     },
     "execution_count": 47,
     "metadata": {},
     "output_type": "execute_result"
    }
   ],
   "source": [
    "S"
   ]
  },
  {
   "cell_type": "code",
   "execution_count": 45,
   "id": "41ce1dc7",
   "metadata": {},
   "outputs": [
    {
     "data": {
      "text/plain": [
       "'WEL'"
      ]
     },
     "execution_count": 45,
     "metadata": {},
     "output_type": "execute_result"
    }
   ],
   "source": [
    "S[-7:-4]"
   ]
  },
  {
   "cell_type": "code",
   "execution_count": 48,
   "id": "728f5e6d",
   "metadata": {},
   "outputs": [
    {
     "data": {
      "text/plain": [
       "'COM'"
      ]
     },
     "execution_count": 48,
     "metadata": {},
     "output_type": "execute_result"
    }
   ],
   "source": [
    "S[-4:-1]"
   ]
  },
  {
   "cell_type": "code",
   "execution_count": 49,
   "id": "a56ce7e2",
   "metadata": {},
   "outputs": [
    {
     "data": {
      "text/plain": [
       "'COME'"
      ]
     },
     "execution_count": 49,
     "metadata": {},
     "output_type": "execute_result"
    }
   ],
   "source": [
    "S[-4:]"
   ]
  },
  {
   "cell_type": "code",
   "execution_count": 46,
   "id": "93b78545",
   "metadata": {},
   "outputs": [
    {
     "data": {
      "text/plain": [
       "'WEL'"
      ]
     },
     "execution_count": 46,
     "metadata": {},
     "output_type": "execute_result"
    }
   ],
   "source": [
    "S[-7:3]"
   ]
  },
  {
   "cell_type": "code",
   "execution_count": 50,
   "id": "92c847fb",
   "metadata": {},
   "outputs": [
    {
     "data": {
      "text/plain": [
       "'COM'"
      ]
     },
     "execution_count": 50,
     "metadata": {},
     "output_type": "execute_result"
    }
   ],
   "source": [
    "S[3:-1]"
   ]
  },
  {
   "cell_type": "code",
   "execution_count": 56,
   "id": "c98e0d1a",
   "metadata": {},
   "outputs": [
    {
     "data": {
      "text/plain": [
       "''"
      ]
     },
     "execution_count": 56,
     "metadata": {},
     "output_type": "execute_result"
    }
   ],
   "source": [
    "S[-1:-3]                       #EmptyString.....bcz slicing works only Left to Right direction only"
   ]
  },
  {
   "cell_type": "raw",
   "id": "fe6de42b",
   "metadata": {},
   "source": [
    "MSG = \"Welcome to Python Programming Class\"\n",
    "use Slicing to print \"Class\" from above"
   ]
  },
  {
   "cell_type": "code",
   "execution_count": 58,
   "id": "c68a7490",
   "metadata": {},
   "outputs": [
    {
     "data": {
      "text/plain": [
       "35"
      ]
     },
     "execution_count": 58,
     "metadata": {},
     "output_type": "execute_result"
    }
   ],
   "source": [
    "len(MSG)"
   ]
  },
  {
   "cell_type": "code",
   "execution_count": 59,
   "id": "f4d58568",
   "metadata": {},
   "outputs": [
    {
     "data": {
      "text/plain": [
       "'Class'"
      ]
     },
     "execution_count": 59,
     "metadata": {},
     "output_type": "execute_result"
    }
   ],
   "source": [
    "MSG[-5:]"
   ]
  },
  {
   "cell_type": "code",
   "execution_count": 61,
   "id": "71684bf4",
   "metadata": {},
   "outputs": [
    {
     "data": {
      "text/plain": [
       "'Class'"
      ]
     },
     "execution_count": 61,
     "metadata": {},
     "output_type": "execute_result"
    }
   ],
   "source": [
    "MSG[30:]"
   ]
  },
  {
   "cell_type": "code",
   "execution_count": 62,
   "id": "6c879a6a",
   "metadata": {},
   "outputs": [
    {
     "data": {
      "text/plain": [
       "'Class'"
      ]
     },
     "execution_count": 62,
     "metadata": {},
     "output_type": "execute_result"
    }
   ],
   "source": [
    "MSG[-5:len(MSG)]"
   ]
  },
  {
   "cell_type": "code",
   "execution_count": 67,
   "id": "9d8a6222",
   "metadata": {},
   "outputs": [
    {
     "name": "stdout",
     "output_type": "stream",
     "text": [
      "c:\n",
      "ewfolder\n"
     ]
    }
   ],
   "source": [
    "folder=\"c:\\newfolder\"                          # \\(backward)   it skips next chartacter \n",
    "print(folder)"
   ]
  },
  {
   "cell_type": "code",
   "execution_count": 68,
   "id": "7648e601",
   "metadata": {},
   "outputs": [],
   "source": [
    "folder=\"c:\\\\newfolder\""
   ]
  },
  {
   "cell_type": "code",
   "execution_count": 72,
   "id": "c693643b",
   "metadata": {},
   "outputs": [
    {
     "name": "stdout",
     "output_type": "stream",
     "text": [
      "c:\\newfolder\n"
     ]
    }
   ],
   "source": [
    "print(folder)"
   ]
  },
  {
   "cell_type": "code",
   "execution_count": 76,
   "id": "056218db",
   "metadata": {},
   "outputs": [
    {
     "name": "stdout",
     "output_type": "stream",
     "text": [
      "c:\\newfolder\n"
     ]
    }
   ],
   "source": [
    "folder=r\"c:\\newfolder\"              # r is raw string \n",
    "print(folder)                       # Treat the String as it is, don't escape any characterstics"
   ]
  },
  {
   "cell_type": "markdown",
   "id": "791e6fa6",
   "metadata": {},
   "source": [
    "# Jupyter Shell as Calculation"
   ]
  },
  {
   "cell_type": "code",
   "execution_count": 82,
   "id": "b4d6cb3a",
   "metadata": {},
   "outputs": [
    {
     "data": {
      "text/plain": [
       "72"
      ]
     },
     "execution_count": 82,
     "metadata": {},
     "output_type": "execute_result"
    }
   ],
   "source": [
    "18*4"
   ]
  },
  {
   "cell_type": "code",
   "execution_count": 85,
   "id": "8c89027a",
   "metadata": {},
   "outputs": [
    {
     "data": {
      "text/plain": [
       "22"
      ]
     },
     "execution_count": 85,
     "metadata": {},
     "output_type": "execute_result"
    }
   ],
   "source": [
    "18+4"
   ]
  },
  {
   "cell_type": "code",
   "execution_count": 84,
   "id": "f878a8bc",
   "metadata": {},
   "outputs": [
    {
     "data": {
      "text/plain": [
       "14"
      ]
     },
     "execution_count": 84,
     "metadata": {},
     "output_type": "execute_result"
    }
   ],
   "source": [
    "18-4"
   ]
  },
  {
   "cell_type": "code",
   "execution_count": 88,
   "id": "cdbd3328",
   "metadata": {},
   "outputs": [
    {
     "data": {
      "text/plain": [
       "4.5"
      ]
     },
     "execution_count": 88,
     "metadata": {},
     "output_type": "execute_result"
    }
   ],
   "source": [
    "18/4     #Division"
   ]
  },
  {
   "cell_type": "code",
   "execution_count": 89,
   "id": "9157eb6d",
   "metadata": {},
   "outputs": [
    {
     "data": {
      "text/plain": [
       "4"
      ]
     },
     "execution_count": 89,
     "metadata": {},
     "output_type": "execute_result"
    }
   ],
   "source": [
    "18//4            # Quetoient                               (18/4)=(divedend/divisor)=4(quetoient)"
   ]
  },
  {
   "cell_type": "code",
   "execution_count": 91,
   "id": "8c3124b2",
   "metadata": {},
   "outputs": [
    {
     "data": {
      "text/plain": [
       "2"
      ]
     },
     "execution_count": 91,
     "metadata": {},
     "output_type": "execute_result"
    }
   ],
   "source": [
    "18%4            # Reminder"
   ]
  },
  {
   "cell_type": "code",
   "execution_count": 92,
   "id": "d947e9b0",
   "metadata": {},
   "outputs": [],
   "source": [
    "S = \"Welcome\""
   ]
  },
  {
   "cell_type": "code",
   "execution_count": 93,
   "id": "a085f22e",
   "metadata": {},
   "outputs": [
    {
     "data": {
      "text/plain": [
       "'Welcome10'"
      ]
     },
     "execution_count": 93,
     "metadata": {},
     "output_type": "execute_result"
    }
   ],
   "source": [
    "S+\"10\""
   ]
  },
  {
   "cell_type": "code",
   "execution_count": 94,
   "id": "4e903b59",
   "metadata": {},
   "outputs": [
    {
     "data": {
      "text/plain": [
       "'WelcomeWelcomeWelcome'"
      ]
     },
     "execution_count": 94,
     "metadata": {},
     "output_type": "execute_result"
    }
   ],
   "source": [
    "S*3"
   ]
  },
  {
   "cell_type": "code",
   "execution_count": 95,
   "id": "e579a992",
   "metadata": {},
   "outputs": [],
   "source": [
    "# * operator does dual role, it does multiplication and also as a Repitation operator"
   ]
  },
  {
   "cell_type": "code",
   "execution_count": null,
   "id": "2cf9fd44",
   "metadata": {},
   "outputs": [],
   "source": []
  }
 ],
 "metadata": {
  "kernelspec": {
   "display_name": "Python 3 (ipykernel)",
   "language": "python",
   "name": "python3"
  },
  "language_info": {
   "codemirror_mode": {
    "name": "ipython",
    "version": 3
   },
   "file_extension": ".py",
   "mimetype": "text/x-python",
   "name": "python",
   "nbconvert_exporter": "python",
   "pygments_lexer": "ipython3",
   "version": "3.8.16"
  }
 },
 "nbformat": 4,
 "nbformat_minor": 5
}
