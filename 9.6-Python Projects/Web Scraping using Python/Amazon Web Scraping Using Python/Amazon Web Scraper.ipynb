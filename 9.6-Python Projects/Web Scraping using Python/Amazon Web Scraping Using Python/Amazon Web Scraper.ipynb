{
 "cells": [
  {
   "cell_type": "code",
   "execution_count": 1,
   "id": "475c4f59",
   "metadata": {},
   "outputs": [],
   "source": [
    "# import libraries\n",
    "\n",
    "from bs4 import BeautifulSoup\n",
    "import requests\n",
    "import smtplib\n",
    "import time\n",
    "import datetime"
   ]
  },
  {
   "cell_type": "code",
   "execution_count": 2,
   "id": "c464a9de",
   "metadata": {},
   "outputs": [],
   "source": [
    "# for user-agent, use this website: https://httpbin.org/get"
   ]
  },
  {
   "cell_type": "code",
   "execution_count": 2,
   "id": "b6e2814e",
   "metadata": {},
   "outputs": [
    {
     "name": "stdout",
     "output_type": "stream",
     "text": [
      "\n",
      "                   Puma Men T-Shirt\n",
      "                  \n",
      "\n",
      "                        ₹899.00\n",
      "                       \n"
     ]
    }
   ],
   "source": [
    "# connect to website\n",
    "\n",
    "URL = \"https://www.amazon.in/Puma-Solid-Regular-T-Shirt-58666927_Desert/dp/B0BRN2JWWV/ref=sr_1_16?crid=CRZMQJETCO5E&keywords=puma+tshirt&qid=1685606359&sprefix=puma+tshirt%2Caps%2C270&sr=8-16\"\n",
    "headers = {\"User-Agent\": \"Mozilla/5.0 (Windows NT 10.0; Win64; x64) AppleWebKit/537.36 (KHTML, like Gecko) Chrome/113.0.0.0 Safari/537.36\"}\n",
    "\n",
    "page = requests.get(URL, headers=headers)\n",
    "\n",
    "soup1 = BeautifulSoup(page.content, \"html.parser\")\n",
    "\n",
    "soup2 = BeautifulSoup(soup1.prettify(), \"html.parser\")\n",
    "\n",
    "title = soup2.find(id = 'productTitle').get_text()\n",
    "\n",
    "price = soup2.find(class_='a-offscreen').get_text()     # if id is not found, search by using class_\n",
    "\n",
    "print(title)\n",
    "print(price)\n"
   ]
  },
  {
   "cell_type": "code",
   "execution_count": 3,
   "id": "e71e76bd",
   "metadata": {},
   "outputs": [
    {
     "name": "stdout",
     "output_type": "stream",
     "text": [
      "Puma Men T-Shirt\n",
      "899.00\n"
     ]
    }
   ],
   "source": [
    "title = title.strip()\n",
    "price = price.strip()[1:]         #removing rupee symbol also\n",
    "print(title)\n",
    "print(price)"
   ]
  },
  {
   "cell_type": "code",
   "execution_count": 4,
   "id": "da9359ce",
   "metadata": {},
   "outputs": [
    {
     "name": "stdout",
     "output_type": "stream",
     "text": [
      "<class 'str'>\n",
      "<class 'str'>\n"
     ]
    }
   ],
   "source": [
    "print(type(title))\n",
    "print(type(price))"
   ]
  },
  {
   "cell_type": "code",
   "execution_count": 5,
   "id": "159e52c1",
   "metadata": {},
   "outputs": [
    {
     "name": "stdout",
     "output_type": "stream",
     "text": [
      "2023-06-16\n"
     ]
    }
   ],
   "source": [
    "# date stamp\n",
    "# time stamp\n",
    "\n",
    "import datetime\n",
    "\n",
    "today = datetime.date.today()             # ut will give today() date\n",
    "print(today)"
   ]
  },
  {
   "cell_type": "code",
   "execution_count": 6,
   "id": "3505ca0e",
   "metadata": {},
   "outputs": [],
   "source": [
    "# creating csv to put these data inside\n",
    "import csv                        \n",
    "\n",
    "\n",
    "header = ['Title', 'Price', 'Date']              # making headers in csv file with list\n",
    "data = [title, price, today]                     # data is inserting inside list\n",
    "\n",
    "# type(data)\n",
    "\n",
    "\n",
    "\n",
    "#writing Data inside csv file\n",
    "\n",
    "with open('Amazon_Web_Scraper_Dataset.csv', 'w', newline='', encoding = 'UTF8') as f:\n",
    "    writer = csv.writer(f)\n",
    "    writer.writerow(header)           # writing header\n",
    "    writer.writerow(data)             # writing data into the header\n",
    "                                        # 'w' mean write mode\n",
    "                                        # we have to use newline , otherwise data not store in proper way\n",
    "                                        # with() statement as f:\n",
    "                                        # open() function\n",
    "                                        \n",
    "            "
   ]
  },
  {
   "cell_type": "code",
   "execution_count": 7,
   "id": "382df554",
   "metadata": {},
   "outputs": [
    {
     "data": {
      "text/html": [
       "<div>\n",
       "<style scoped>\n",
       "    .dataframe tbody tr th:only-of-type {\n",
       "        vertical-align: middle;\n",
       "    }\n",
       "\n",
       "    .dataframe tbody tr th {\n",
       "        vertical-align: top;\n",
       "    }\n",
       "\n",
       "    .dataframe thead th {\n",
       "        text-align: right;\n",
       "    }\n",
       "</style>\n",
       "<table border=\"1\" class=\"dataframe\">\n",
       "  <thead>\n",
       "    <tr style=\"text-align: right;\">\n",
       "      <th></th>\n",
       "      <th>Title</th>\n",
       "      <th>Price</th>\n",
       "      <th>Date</th>\n",
       "    </tr>\n",
       "  </thead>\n",
       "  <tbody>\n",
       "    <tr>\n",
       "      <th>0</th>\n",
       "      <td>Puma Men T-Shirt</td>\n",
       "      <td>899.0</td>\n",
       "      <td>2023-06-16</td>\n",
       "    </tr>\n",
       "  </tbody>\n",
       "</table>\n",
       "</div>"
      ],
      "text/plain": [
       "              Title  Price        Date\n",
       "0  Puma Men T-Shirt  899.0  2023-06-16"
      ]
     },
     "execution_count": 7,
     "metadata": {},
     "output_type": "execute_result"
    }
   ],
   "source": [
    "import pandas as pd\n",
    "\n",
    "# data1= pd.read_csv('C:/Users/Chetan/Amazon_Web_Scraper_Dataset.csv')              # reding data with forward /\n",
    "# data1\n",
    "\n",
    "df = pd.read_csv(r'C:\\Users\\Chetan\\Amazon_Web_Scraper_Dataset.csv')              # reading data with r\"backword \\ \"\"\n",
    "df"
   ]
  },
  {
   "cell_type": "code",
   "execution_count": 8,
   "id": "03749984",
   "metadata": {},
   "outputs": [],
   "source": [
    "# Now we are appending data to the csv\n",
    "\n",
    "with open('Amazon_Web_Scraper_Dataset.csv', 'a+', newline='', encoding = 'UTF8') as f:\n",
    "    writer = csv.writer(f)\n",
    "    writer.writerow(data)\n",
    "                                    # a+ means appending\n",
    "                                    # newline=  means every data need to be add in new line in csv file\n",
    "                                    # encoding data in specific format"
   ]
  },
  {
   "cell_type": "code",
   "execution_count": 21,
   "id": "cf51b909",
   "metadata": {},
   "outputs": [],
   "source": [
    "# every time its difficult to update manually, so we need autoappending each time\n",
    "# auto appendinding\n",
    "\n",
    "                                                                            # function \n",
    "def check_price():                               \n",
    "    URL = \"https://www.amazon.in/Puma-Solid-Regular-T-Shirt-58666927_Desert/dp/B0BRN2JWWV/ref=sr_1_16?crid=CRZMQJETCO5E&keywords=puma+tshirt&qid=1685606359&sprefix=puma+tshirt%2Caps%2C270&sr=8-16\"\n",
    "\n",
    "    headers = {\"User-Agent\": \"Mozilla/5.0 (Windows NT 10.0; Win64; x64) AppleWebKit/537.36 (KHTML, like Gecko) Chrome/113.0.0.0 Safari/537.36\"}\n",
    "\n",
    "    page = requests.get(URL, headers=headers)\n",
    "\n",
    "    soup1 = BeautifulSoup(page.content, \"html.parser\")\n",
    "\n",
    "    soup2 = BeautifulSoup(soup1.prettify(), \"html.parser\")\n",
    "\n",
    "    title = soup2.find(id = 'productTitle').get_text()\n",
    "\n",
    "    price = soup2.find(class_='a-offscreen').get_text()\n",
    "    \n",
    "    title = title.strip()\n",
    "    price = price.strip()[1:]\n",
    "    \n",
    "    import datetime\n",
    "\n",
    "    today = datetime.date.today()\n",
    "    \n",
    "    \n",
    "    import csv\n",
    " \n",
    "    header = ['Title', 'Price', 'Date']                     # 3 headers in csv file\n",
    "    data = [title, price, today]                            # these are data need to put inside csv file as list\n",
    "    \n",
    "    \n",
    "    with open('Amazon_Web_Scraper_Dataset.csv', 'a+', newline='', encoding = 'UTF8') as f:\n",
    "        writer = csv.writer(f)\n",
    "        writer.writerow(data)                                         # writing data inside csv\n",
    "        \n",
    "        \n",
    "    if(price == '899.00'):                                  # if price of shirt less than 425 calling send_mail() function\n",
    "        send_mail()"
   ]
  },
  {
   "cell_type": "code",
   "execution_count": 22,
   "id": "89726fc8",
   "metadata": {},
   "outputs": [
    {
     "ename": "SMTPAuthenticationError",
     "evalue": "(535, b'5.7.8 Username and Password not accepted. Learn more at\\n5.7.8  https://support.google.com/mail/?p=BadCredentials t17-20020a170902e85100b001b3dca1de9bsm8356302plg.170 - gsmtp')",
     "output_type": "error",
     "traceback": [
      "\u001b[1;31m---------------------------------------------------------------------------\u001b[0m",
      "\u001b[1;31mSMTPAuthenticationError\u001b[0m                   Traceback (most recent call last)",
      "Cell \u001b[1;32mIn[22], line 4\u001b[0m\n\u001b[0;32m      1\u001b[0m \u001b[38;5;66;03m# putting Timer\u001b[39;00m\n\u001b[0;32m      3\u001b[0m \u001b[38;5;28;01mwhile\u001b[39;00m(\u001b[38;5;28;01mTrue\u001b[39;00m):\n\u001b[1;32m----> 4\u001b[0m     \u001b[43mcheck_price\u001b[49m\u001b[43m(\u001b[49m\u001b[43m)\u001b[49m                    \u001b[38;5;66;03m# after while is True, ut will go for check_price() and appends the data and it will sleep for given time and after than  it rexecute and append and repeating this process\u001b[39;00m\n\u001b[0;32m      5\u001b[0m     time\u001b[38;5;241m.\u001b[39msleep(\u001b[38;5;241m10\u001b[39m)\n",
      "Cell \u001b[1;32mIn[21], line 40\u001b[0m, in \u001b[0;36mcheck_price\u001b[1;34m()\u001b[0m\n\u001b[0;32m     36\u001b[0m     writer\u001b[38;5;241m.\u001b[39mwriterow(data)                                         \u001b[38;5;66;03m# writing data inside csv\u001b[39;00m\n\u001b[0;32m     39\u001b[0m \u001b[38;5;28;01mif\u001b[39;00m(price \u001b[38;5;241m==\u001b[39m \u001b[38;5;124m'\u001b[39m\u001b[38;5;124m899.00\u001b[39m\u001b[38;5;124m'\u001b[39m):                                  \u001b[38;5;66;03m# if price of shirt less than 425 calling send_mail() function\u001b[39;00m\n\u001b[1;32m---> 40\u001b[0m     \u001b[43msend_mail\u001b[49m\u001b[43m(\u001b[49m\u001b[43m)\u001b[49m\n",
      "Cell \u001b[1;32mIn[18], line 11\u001b[0m, in \u001b[0;36msend_mail\u001b[1;34m()\u001b[0m\n\u001b[0;32m      9\u001b[0m \u001b[38;5;66;03m#server.startls()\u001b[39;00m\n\u001b[0;32m     10\u001b[0m server\u001b[38;5;241m.\u001b[39mehlo()\n\u001b[1;32m---> 11\u001b[0m \u001b[43mserver\u001b[49m\u001b[38;5;241;43m.\u001b[39;49m\u001b[43mlogin\u001b[49m\u001b[43m(\u001b[49m\u001b[38;5;124;43m'\u001b[39;49m\u001b[38;5;124;43mchetangoudapatil91@gmail.com\u001b[39;49m\u001b[38;5;124;43m'\u001b[39;49m\u001b[43m,\u001b[49m\u001b[38;5;124;43m'\u001b[39;49m\u001b[38;5;124;43m123cap999\u001b[39;49m\u001b[38;5;124;43m'\u001b[39;49m\u001b[43m)\u001b[49m\n\u001b[0;32m     13\u001b[0m subject \u001b[38;5;241m=\u001b[39m \u001b[38;5;124m\"\u001b[39m\u001b[38;5;124mThe Shirt you want is below $15! Now is your chance to buy!\u001b[39m\u001b[38;5;124m\"\u001b[39m\n\u001b[0;32m     14\u001b[0m body \u001b[38;5;241m=\u001b[39m \u001b[38;5;124m\"\u001b[39m\u001b[38;5;124mChetan, This is the moment we have been waiting for. Now is your chance to pick up the shirt of your dreams. Don\u001b[39m\u001b[38;5;124m'\u001b[39m\u001b[38;5;124mt mess it up! Link here: https://www.amazon.in/Puma-Solid-Regular-T-Shirt-58666927_Desert/dp/B0BRN2JWWV/ref=sr_1_16?crid=CRZMQJETCO5E&keywords=puma+tshirt&qid=1685606359&sprefix=puma+tshirt\u001b[39m\u001b[38;5;124m%\u001b[39m\u001b[38;5;124m2Caps\u001b[39m\u001b[38;5;124m%\u001b[39m\u001b[38;5;124m2C270&sr=8-16\u001b[39m\u001b[38;5;124m\"\u001b[39m\n",
      "File \u001b[1;32mC:\\ProgramData\\Anaconda3\\lib\\smtplib.py:748\u001b[0m, in \u001b[0;36mSMTP.login\u001b[1;34m(self, user, password, initial_response_ok)\u001b[0m\n\u001b[0;32m    745\u001b[0m         last_exception \u001b[38;5;241m=\u001b[39m e\n\u001b[0;32m    747\u001b[0m \u001b[38;5;66;03m# We could not login successfully.  Return result of last attempt.\u001b[39;00m\n\u001b[1;32m--> 748\u001b[0m \u001b[38;5;28;01mraise\u001b[39;00m last_exception\n",
      "File \u001b[1;32mC:\\ProgramData\\Anaconda3\\lib\\smtplib.py:737\u001b[0m, in \u001b[0;36mSMTP.login\u001b[1;34m(self, user, password, initial_response_ok)\u001b[0m\n\u001b[0;32m    735\u001b[0m method_name \u001b[38;5;241m=\u001b[39m \u001b[38;5;124m'\u001b[39m\u001b[38;5;124mauth_\u001b[39m\u001b[38;5;124m'\u001b[39m \u001b[38;5;241m+\u001b[39m authmethod\u001b[38;5;241m.\u001b[39mlower()\u001b[38;5;241m.\u001b[39mreplace(\u001b[38;5;124m'\u001b[39m\u001b[38;5;124m-\u001b[39m\u001b[38;5;124m'\u001b[39m, \u001b[38;5;124m'\u001b[39m\u001b[38;5;124m_\u001b[39m\u001b[38;5;124m'\u001b[39m)\n\u001b[0;32m    736\u001b[0m \u001b[38;5;28;01mtry\u001b[39;00m:\n\u001b[1;32m--> 737\u001b[0m     (code, resp) \u001b[38;5;241m=\u001b[39m \u001b[38;5;28;43mself\u001b[39;49m\u001b[38;5;241;43m.\u001b[39;49m\u001b[43mauth\u001b[49m\u001b[43m(\u001b[49m\n\u001b[0;32m    738\u001b[0m \u001b[43m        \u001b[49m\u001b[43mauthmethod\u001b[49m\u001b[43m,\u001b[49m\u001b[43m \u001b[49m\u001b[38;5;28;43mgetattr\u001b[39;49m\u001b[43m(\u001b[49m\u001b[38;5;28;43mself\u001b[39;49m\u001b[43m,\u001b[49m\u001b[43m \u001b[49m\u001b[43mmethod_name\u001b[49m\u001b[43m)\u001b[49m\u001b[43m,\u001b[49m\n\u001b[0;32m    739\u001b[0m \u001b[43m        \u001b[49m\u001b[43minitial_response_ok\u001b[49m\u001b[38;5;241;43m=\u001b[39;49m\u001b[43minitial_response_ok\u001b[49m\u001b[43m)\u001b[49m\n\u001b[0;32m    740\u001b[0m     \u001b[38;5;66;03m# 235 == 'Authentication successful'\u001b[39;00m\n\u001b[0;32m    741\u001b[0m     \u001b[38;5;66;03m# 503 == 'Error: already authenticated'\u001b[39;00m\n\u001b[0;32m    742\u001b[0m     \u001b[38;5;28;01mif\u001b[39;00m code \u001b[38;5;129;01min\u001b[39;00m (\u001b[38;5;241m235\u001b[39m, \u001b[38;5;241m503\u001b[39m):\n",
      "File \u001b[1;32mC:\\ProgramData\\Anaconda3\\lib\\smtplib.py:660\u001b[0m, in \u001b[0;36mSMTP.auth\u001b[1;34m(self, mechanism, authobject, initial_response_ok)\u001b[0m\n\u001b[0;32m    658\u001b[0m \u001b[38;5;28;01mif\u001b[39;00m code \u001b[38;5;129;01min\u001b[39;00m (\u001b[38;5;241m235\u001b[39m, \u001b[38;5;241m503\u001b[39m):\n\u001b[0;32m    659\u001b[0m     \u001b[38;5;28;01mreturn\u001b[39;00m (code, resp)\n\u001b[1;32m--> 660\u001b[0m \u001b[38;5;28;01mraise\u001b[39;00m SMTPAuthenticationError(code, resp)\n",
      "\u001b[1;31mSMTPAuthenticationError\u001b[0m: (535, b'5.7.8 Username and Password not accepted. Learn more at\\n5.7.8  https://support.google.com/mail/?p=BadCredentials t17-20020a170902e85100b001b3dca1de9bsm8356302plg.170 - gsmtp')"
     ]
    }
   ],
   "source": [
    "# putting Timer\n",
    "\n",
    "while(True):\n",
    "    check_price()                    # after while is True, ut will go for check_price() and appends the data and it will sleep for given time and after than  it rexecute and append and repeating this process\n",
    "    time.sleep(10)               #for every 86400's(1 day) it will run this entire process, check_price()\n",
    "    \n",
    "                            #Delay execution for a given number of seconds.  \n",
    "#                             The argument may be a floating point number for subsecond precision."
   ]
  },
  {
   "cell_type": "code",
   "execution_count": 15,
   "id": "8117467f",
   "metadata": {},
   "outputs": [
    {
     "name": "stdout",
     "output_type": "stream",
     "text": [
      "              Title  Price        Date\n",
      "0  Puma Men T-Shirt  899.0  2023-06-16\n",
      "1  Puma Men T-Shirt  899.0  2023-06-16\n",
      "2  Puma Men T-Shirt  899.0  2023-06-16\n",
      "3  Puma Men T-Shirt  899.0  2023-06-16\n"
     ]
    }
   ],
   "source": [
    "df= pd.read_csv('C:/Users/Chetan/Amazon_Web_Scraper_Dataset.csv')\n",
    "print(df)\n",
    "                                                                           # to see appended data"
   ]
  },
  {
   "cell_type": "code",
   "execution_count": 2,
   "id": "fa3d2d96",
   "metadata": {},
   "outputs": [],
   "source": [
    "# If you want to try sending yourself an email (just for fun) when a price hits\n",
    "# below certain level you can try it out with this script\n",
    "\n",
    "\n",
    "\n",
    "def send_mail():\n",
    "    server = smtplib.SMTP_SSL('smtp.gmail.com',465)\n",
    "    server.ehlo()\n",
    "    #server.startls()\n",
    "    server.ehlo()\n",
    "    server.login('chetan@gmail.com','123456999')\n",
    "    \n",
    "    subject = \"The Shirt you want is below $15! Now is your chance to buy!\"\n",
    "    body = \"Chetan, This is the moment we have been waiting for. Now is your chance to pick up the shirt of your dreams. Don't mess it up! Link here: https://www.amazon.in/Puma-Solid-Regular-T-Shirt-58666927_Desert/dp/B0BRN2JWWV/ref=sr_1_16?crid=CRZMQJETCO5E&keywords=puma+tshirt&qid=1685606359&sprefix=puma+tshirt%2Caps%2C270&sr=8-16\"\n",
    "    \n",
    "    msg = f\"Subject: {subject}\\n\\n{body}\"\n",
    "    \n",
    "    server.sendmail(\n",
    "        'chetan@gmail.com',\n",
    "        msg\n",
    "                  \n",
    "    )\n",
    "    \n",
    "    print(\"Hey, Email Has Been Sent!!!\")\n"
   ]
  },
  {
   "cell_type": "code",
   "execution_count": 1,
   "id": "f0edf604",
   "metadata": {},
   "outputs": [
    {
     "name": "stdout",
     "output_type": "stream",
     "text": [
      "Enter the phone number: 1234567890\n",
      "Enter the message: hello\n",
      "Error sending message: 400\n"
     ]
    }
   ],
   "source": [
    "import requests\n",
    "\n",
    "def send_whatsapp_message(phone_number, message):\n",
    "    \"\"\"Sends a WhatsApp message to the specified phone number.\n",
    "\n",
    "    Args:\n",
    "        phone_number (str): The phone number of the recipient.\n",
    "        message (str): The message to send.\n",
    "    \"\"\"\n",
    "\n",
    "    url = \"https://api.whatsapp.com/send/?phone=%s&text=%s\" % (phone_number, message)\n",
    "    response = requests.post(url)\n",
    "\n",
    "    if response.status_code == 200:\n",
    "        print(\"Message sent successfully.\")\n",
    "    else:\n",
    "        print(\"Error sending message: %s\" % response.status_code)\n",
    "\n",
    "if __name__ == \"__main__\":\n",
    "    # Get the phone number and message from the user.\n",
    "    phone_number = input(\"Enter the phone number: \")\n",
    "    message = input(\"Enter the message: \")\n",
    "\n",
    "    # Send the WhatsApp message.\n",
    "    send_whatsapp_message(phone_number, message)"
   ]
  },
  {
   "cell_type": "code",
   "execution_count": null,
   "id": "2c8d1333",
   "metadata": {},
   "outputs": [],
   "source": []
  }
 ],
 "metadata": {
  "kernelspec": {
   "display_name": "Python 3 (ipykernel)",
   "language": "python",
   "name": "python3"
  },
  "language_info": {
   "codemirror_mode": {
    "name": "ipython",
    "version": 3
   },
   "file_extension": ".py",
   "mimetype": "text/x-python",
   "name": "python",
   "nbconvert_exporter": "python",
   "pygments_lexer": "ipython3",
   "version": "3.8.16"
  }
 },
 "nbformat": 4,
 "nbformat_minor": 5
}
