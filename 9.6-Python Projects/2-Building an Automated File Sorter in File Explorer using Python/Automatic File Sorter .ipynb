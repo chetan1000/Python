{
 "cells": [
  {
   "cell_type": "markdown",
   "id": "8016bd83",
   "metadata": {},
   "source": [
    "## Automatic File Sorter in File Explorer"
   ]
  },
  {
   "cell_type": "code",
   "execution_count": 1,
   "id": "99a7c239",
   "metadata": {},
   "outputs": [],
   "source": [
    "# there are some files in one place, These files to be move automatically inside a folder without drag and drop"
   ]
  },
  {
   "cell_type": "code",
   "execution_count": 2,
   "id": "1e09f5f0",
   "metadata": {},
   "outputs": [],
   "source": [
    "import os, shutil\n",
    "\n",
    "# shutil, it allow us to make high level operations on our files in file explorer"
   ]
  },
  {
   "cell_type": "raw",
   "id": "97db68fc",
   "metadata": {},
   "source": [
    "The statement \"import os, shutil\" is used to import two separate Python modules, namely os and shutil.\n",
    "\n",
    "os: The os module, as mentioned before, is a built-in Python module that provides a way to interact with the operating system. \n",
    "    It offers various functions for tasks like file and directory operations, process management, environment variables, and more. With the os module, \n",
    "    you can perform operations such as manipulating file paths, creating, deleting, or renaming files and directories, \n",
    "    executing system commands, and handling the current working directory.\n",
    "    \n",
    "    \n",
    "    shutil: The shutil module is also a built-in Python module that provides high-level file operations. \n",
    "        It offers convenient functions for working with files and directories, including copying, moving, and deleting files or entire directory trees. \n",
    "        The shutil module provides an easy-to-use interface for common file and directory manipulation tasks."
   ]
  },
  {
   "cell_type": "code",
   "execution_count": 3,
   "id": "57505131",
   "metadata": {},
   "outputs": [],
   "source": [
    "path = r\"C:/Users/Chetan/Desktop/DA/Python/Automatic Files Sorter/\""
   ]
  },
  {
   "cell_type": "code",
   "execution_count": 4,
   "id": "717ff067",
   "metadata": {},
   "outputs": [],
   "source": [
    "# going file path, check whether , there any folders are there, if not creating folder\n",
    "# checking each file individually and identifying what type of file it is and put it into the correct folder"
   ]
  },
  {
   "cell_type": "code",
   "execution_count": 5,
   "id": "4b6097a7",
   "metadata": {},
   "outputs": [
    {
     "data": {
      "text/plain": [
       "['Company_Data1.csv', 'Mountain.jpg', 'Set_1_BS2.docx', 'travel.jpg']"
      ]
     },
     "execution_count": 5,
     "metadata": {},
     "output_type": "execute_result"
    }
   ],
   "source": [
    "file_name =os.listdir(path)        # look what type of files are there\n",
    "file_name"
   ]
  },
  {
   "cell_type": "code",
   "execution_count": 6,
   "id": "da6908ef",
   "metadata": {},
   "outputs": [],
   "source": [
    "# we need to create folders or checks of the folder if it is there"
   ]
  },
  {
   "cell_type": "code",
   "execution_count": 7,
   "id": "4a2723d4",
   "metadata": {},
   "outputs": [
    {
     "data": {
      "text/plain": [
       "False"
      ]
     },
     "execution_count": 7,
     "metadata": {},
     "output_type": "execute_result"
    }
   ],
   "source": [
    "# checking path existed already or not\n",
    "os.path.exists(path + 'csv files')       # adding folder name to the path and checking\n",
    "\n",
    "# false, folder doesn't existed"
   ]
  },
  {
   "cell_type": "code",
   "execution_count": 8,
   "id": "1223c64a",
   "metadata": {},
   "outputs": [],
   "source": [
    "# we need to create 3 separate files/folders"
   ]
  },
  {
   "cell_type": "raw",
   "id": "71e306fd",
   "metadata": {},
   "source": [
    "# SOME INFORMATIONAL COMMENT\n",
    "# folder_names = ['csv files', 'image files', 'word docs files']\n",
    "\n",
    "# for loop in range(0, 3):\n",
    "#     os.path.exists(path + folder_names[loop])      \n",
    "    \n",
    "# # if folder_name is not exis in this, we have to create\n"
   ]
  },
  {
   "cell_type": "code",
   "execution_count": 10,
   "id": "9c00d6ef",
   "metadata": {},
   "outputs": [],
   "source": [
    "folder_names = ['csv files', 'image files', 'word docs files']\n",
    "\n",
    "for loop in range(0, 3):\n",
    "    if not os.path.exists(path + folder_names[loop]):      # if not exist the file in the path which is present in folder_name, then create folder\n",
    "#          print(path + folder_names[loop])\n",
    "        os.makedirs((path + folder_names[loop]))         # if folder not existed in that path creating folder"
   ]
  },
  {
   "cell_type": "code",
   "execution_count": 11,
   "id": "6473ae3d",
   "metadata": {},
   "outputs": [],
   "source": [
    "# now all 3 folders are created in that path"
   ]
  },
  {
   "cell_type": "code",
   "execution_count": 12,
   "id": "bf13b150",
   "metadata": {},
   "outputs": [],
   "source": [
    "# now we have to write script, that it read those file(image, csv,..) and also it checks what type of file it is and moving(place it the correct folder) that file to respective folder"
   ]
  },
  {
   "cell_type": "code",
   "execution_count": 13,
   "id": "c2ff506f",
   "metadata": {},
   "outputs": [],
   "source": [
    "# loop through the file_name"
   ]
  },
  {
   "cell_type": "code",
   "execution_count": 14,
   "id": "0208d766",
   "metadata": {},
   "outputs": [],
   "source": [
    "for file in file_name:\n",
    "    if \".csv\" in file and not os.path.exists(path + \"csv files/\" + file):\n",
    "        shutil.move(path + file, path + \"csv files/\" + file)\n",
    "    \n",
    "    elif \".jpg\" in file and not os.path.exists(path + \"image files/\" + file):\n",
    "        shutil.move(path + file, path + \"image files/\" + file)\n",
    "        \n",
    "    elif \".docx\" in file and not os.path.exists(path + \"word docs files/\" + file):\n",
    "        shutil.move(path + file, path + \"word docs files/\" + file)\n",
    " "
   ]
  },
  {
   "cell_type": "code",
   "execution_count": null,
   "id": "d915cbda",
   "metadata": {},
   "outputs": [],
   "source": [
    " "
   ]
  },
  {
   "cell_type": "raw",
   "id": "5cca50a2",
   "metadata": {},
   "source": [
    "# SOME INFORMATIONAL COMMENT\n",
    "\n",
    "\n",
    "'''\n",
    "for file in file_name:      # it looping in file_name (which consists list of files)\n",
    "'''\n",
    "\n",
    "\n",
    "\n",
    "'''\n",
    "if \".csv\" in file and not os.path.exists(path + \"csv files/\" + file):\n",
    "    \n",
    "     \".csv\" in file means checking .csv file in file_name(in the path) and \n",
    "        also checking whether .csv not present in created 'csv files' folder\n",
    "        \n",
    "    path + \"csv files/\" + file---> means originalpath where files are there + inside csv files folder + in that .csv file is there or not \n",
    "        \n",
    "'''  \n",
    "\n",
    "\n",
    "'''\n",
    "shutil.move(path + file, path + \"csv files/\" + file)\n",
    "path + file  -> old location\n",
    "path + \"csv files/\" + file -> new location, where to move\n",
    "\n",
    "path + file---> original path along with that file location\n",
    "path + \"csv files/\" + file---> original path + inside csv files folder + along with that file location\n",
    "\n",
    "'''"
   ]
  },
  {
   "cell_type": "code",
   "execution_count": 17,
   "id": "e4d6f372",
   "metadata": {},
   "outputs": [
    {
     "data": {
      "text/plain": [
       "'\\nshutil.move(path + file, path + \"csv files/\" + file)\\npath + file  -> old location\\npath + \"csv files/\" + file -> new location, where to move\\n\\npath + file---> original path along with that file location\\npath + \"csv files/\" + file---> original path + inside csv files folder + along with that file location\\n\\n'"
      ]
     },
     "execution_count": 17,
     "metadata": {},
     "output_type": "execute_result"
    }
   ],
   "source": []
  },
  {
   "cell_type": "code",
   "execution_count": null,
   "id": "9de8424b",
   "metadata": {},
   "outputs": [],
   "source": []
  }
 ],
 "metadata": {
  "kernelspec": {
   "display_name": "Python 3 (ipykernel)",
   "language": "python",
   "name": "python3"
  },
  "language_info": {
   "codemirror_mode": {
    "name": "ipython",
    "version": 3
   },
   "file_extension": ".py",
   "mimetype": "text/x-python",
   "name": "python",
   "nbconvert_exporter": "python",
   "pygments_lexer": "ipython3",
   "version": "3.8.16"
  }
 },
 "nbformat": 4,
 "nbformat_minor": 5
}
