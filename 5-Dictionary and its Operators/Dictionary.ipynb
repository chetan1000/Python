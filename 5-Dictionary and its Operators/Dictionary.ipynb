{
 "cells": [
  {
   "cell_type": "markdown",
   "id": "1076ec81",
   "metadata": {},
   "source": [
    "# Dictionary\n",
    "    Collection of Key-Value pairs\n",
    "    \n",
    "    Syntax : {Key:Value}\n",
    "    \n",
    "    \n",
    "    {k1:v1,k2:v2,k3:v3,k4:v4,........}       k-key,v-value\n",
    "    Ex: rollnumber:name"
   ]
  },
  {
   "cell_type": "code",
   "execution_count": 1,
   "id": "a41d984d",
   "metadata": {},
   "outputs": [],
   "source": [
    "fruits={'a':'apple','b':'banana','c':'cherry'}"
   ]
  },
  {
   "cell_type": "code",
   "execution_count": 2,
   "id": "acec9c6b",
   "metadata": {},
   "outputs": [
    {
     "name": "stdout",
     "output_type": "stream",
     "text": [
      "{'a': 'apple', 'b': 'banana', 'c': 'cherry'}\n"
     ]
    }
   ],
   "source": [
    "print(fruits)"
   ]
  },
  {
   "cell_type": "code",
   "execution_count": 3,
   "id": "06c079fe",
   "metadata": {},
   "outputs": [
    {
     "data": {
      "text/plain": [
       "dict"
      ]
     },
     "execution_count": 3,
     "metadata": {},
     "output_type": "execute_result"
    }
   ],
   "source": [
    "type(fruits)"
   ]
  },
  {
   "cell_type": "code",
   "execution_count": 4,
   "id": "978a1a8b",
   "metadata": {},
   "outputs": [
    {
     "data": {
      "text/plain": [
       "3"
      ]
     },
     "execution_count": 4,
     "metadata": {},
     "output_type": "execute_result"
    }
   ],
   "source": [
    "len(fruits)        #it take pair as 1"
   ]
  },
  {
   "cell_type": "markdown",
   "id": "29a43840",
   "metadata": {},
   "source": [
    "###### In dictionary, the elements are accessed by Key rather than index"
   ]
  },
  {
   "cell_type": "code",
   "execution_count": 5,
   "id": "05e1c289",
   "metadata": {},
   "outputs": [
    {
     "data": {
      "text/plain": [
       "'apple'"
      ]
     },
     "execution_count": 5,
     "metadata": {},
     "output_type": "execute_result"
    }
   ],
   "source": [
    "fruits['a']"
   ]
  },
  {
   "cell_type": "code",
   "execution_count": 6,
   "id": "9bb5942a",
   "metadata": {},
   "outputs": [
    {
     "data": {
      "text/plain": [
       "'banana'"
      ]
     },
     "execution_count": 6,
     "metadata": {},
     "output_type": "execute_result"
    }
   ],
   "source": [
    "fruits['b']"
   ]
  },
  {
   "cell_type": "markdown",
   "id": "9c799b43",
   "metadata": {},
   "source": [
    "Adding elements to the dictionary"
   ]
  },
  {
   "cell_type": "code",
   "execution_count": 7,
   "id": "3a41da30",
   "metadata": {},
   "outputs": [],
   "source": [
    "fruits['w']='watermelon'"
   ]
  },
  {
   "cell_type": "code",
   "execution_count": 8,
   "id": "d1c4a1eb",
   "metadata": {},
   "outputs": [
    {
     "data": {
      "text/plain": [
       "{'a': 'apple', 'b': 'banana', 'c': 'cherry', 'w': 'watermelon'}"
      ]
     },
     "execution_count": 8,
     "metadata": {},
     "output_type": "execute_result"
    }
   ],
   "source": [
    "fruits"
   ]
  },
  {
   "cell_type": "code",
   "execution_count": 9,
   "id": "8dc1d9ed",
   "metadata": {},
   "outputs": [],
   "source": [
    "fruits['d']='apricot'"
   ]
  },
  {
   "cell_type": "code",
   "execution_count": 10,
   "id": "ded38e79",
   "metadata": {},
   "outputs": [
    {
     "data": {
      "text/plain": [
       "{'a': 'apple', 'b': 'banana', 'c': 'cherry', 'w': 'watermelon', 'd': 'apricot'}"
      ]
     },
     "execution_count": 10,
     "metadata": {},
     "output_type": "execute_result"
    }
   ],
   "source": [
    "fruits"
   ]
  },
  {
   "cell_type": "markdown",
   "id": "3235214c",
   "metadata": {},
   "source": [
    "Can we assign same value to Dictionary?"
   ]
  },
  {
   "cell_type": "code",
   "execution_count": 11,
   "id": "6e8b9558",
   "metadata": {},
   "outputs": [],
   "source": [
    "fruits['e']='apple'"
   ]
  },
  {
   "cell_type": "code",
   "execution_count": 12,
   "id": "b4cc74e4",
   "metadata": {},
   "outputs": [
    {
     "data": {
      "text/plain": [
       "{'a': 'apple',\n",
       " 'b': 'banana',\n",
       " 'c': 'cherry',\n",
       " 'w': 'watermelon',\n",
       " 'd': 'apricot',\n",
       " 'e': 'apple'}"
      ]
     },
     "execution_count": 12,
     "metadata": {},
     "output_type": "execute_result"
    }
   ],
   "source": [
    "fruits"
   ]
  },
  {
   "cell_type": "code",
   "execution_count": 13,
   "id": "fdbb1993",
   "metadata": {},
   "outputs": [],
   "source": [
    "fruits['a']='anjur','apple'               #multiple value assign to same key    #string"
   ]
  },
  {
   "cell_type": "code",
   "execution_count": 14,
   "id": "8b7b8213",
   "metadata": {},
   "outputs": [
    {
     "data": {
      "text/plain": [
       "tuple"
      ]
     },
     "execution_count": 14,
     "metadata": {},
     "output_type": "execute_result"
    }
   ],
   "source": [
    "type(fruits['a'])                    # in dict values takes as Tuple"
   ]
  },
  {
   "cell_type": "code",
   "execution_count": 15,
   "id": "12fddf59",
   "metadata": {},
   "outputs": [
    {
     "data": {
      "text/plain": [
       "{'a': ('anjur', 'apple'),\n",
       " 'b': 'banana',\n",
       " 'c': 'cherry',\n",
       " 'w': 'watermelon',\n",
       " 'd': 'apricot',\n",
       " 'e': 'apple'}"
      ]
     },
     "execution_count": 15,
     "metadata": {},
     "output_type": "execute_result"
    }
   ],
   "source": [
    "fruits  "
   ]
  },
  {
   "cell_type": "code",
   "execution_count": 16,
   "id": "df030be0",
   "metadata": {},
   "outputs": [],
   "source": [
    "fruits['c']='cucumber'"
   ]
  },
  {
   "cell_type": "code",
   "execution_count": 17,
   "id": "4fd70f72",
   "metadata": {},
   "outputs": [
    {
     "data": {
      "text/plain": [
       "{'a': ('anjur', 'apple'),\n",
       " 'b': 'banana',\n",
       " 'c': 'cucumber',\n",
       " 'w': 'watermelon',\n",
       " 'd': 'apricot',\n",
       " 'e': 'apple'}"
      ]
     },
     "execution_count": 17,
     "metadata": {},
     "output_type": "execute_result"
    }
   ],
   "source": [
    "fruits"
   ]
  },
  {
   "cell_type": "code",
   "execution_count": 18,
   "id": "01a2da6b",
   "metadata": {},
   "outputs": [],
   "source": [
    "fruits['c']='cookies'"
   ]
  },
  {
   "cell_type": "code",
   "execution_count": 19,
   "id": "cebd13bf",
   "metadata": {},
   "outputs": [
    {
     "data": {
      "text/plain": [
       "{'a': ('anjur', 'apple'),\n",
       " 'b': 'banana',\n",
       " 'c': 'cookies',\n",
       " 'w': 'watermelon',\n",
       " 'd': 'apricot',\n",
       " 'e': 'apple'}"
      ]
     },
     "execution_count": 19,
     "metadata": {},
     "output_type": "execute_result"
    }
   ],
   "source": [
    "fruits"
   ]
  },
  {
   "cell_type": "code",
   "execution_count": null,
   "id": "7c313773",
   "metadata": {},
   "outputs": [],
   "source": []
  },
  {
   "cell_type": "code",
   "execution_count": 20,
   "id": "220f6133",
   "metadata": {},
   "outputs": [],
   "source": [
    "vegs = {('a','b'):'apple','b':'ball'}     #key as tuple"
   ]
  },
  {
   "cell_type": "code",
   "execution_count": 21,
   "id": "549d8f09",
   "metadata": {},
   "outputs": [
    {
     "data": {
      "text/plain": [
       "{('a', 'b'): 'apple', 'b': 'ball'}"
      ]
     },
     "execution_count": 21,
     "metadata": {},
     "output_type": "execute_result"
    }
   ],
   "source": [
    "vegs"
   ]
  },
  {
   "cell_type": "code",
   "execution_count": 22,
   "id": "21182fdd",
   "metadata": {},
   "outputs": [
    {
     "data": {
      "text/plain": [
       "dict"
      ]
     },
     "execution_count": 22,
     "metadata": {},
     "output_type": "execute_result"
    }
   ],
   "source": [
    "type(vegs)"
   ]
  },
  {
   "cell_type": "code",
   "execution_count": 23,
   "id": "3e886f17",
   "metadata": {},
   "outputs": [
    {
     "data": {
      "text/plain": [
       "dict_keys([('a', 'b'), 'b'])"
      ]
     },
     "execution_count": 23,
     "metadata": {},
     "output_type": "execute_result"
    }
   ],
   "source": [
    "vegs.keys()"
   ]
  },
  {
   "cell_type": "code",
   "execution_count": 24,
   "id": "0550adeb",
   "metadata": {},
   "outputs": [
    {
     "data": {
      "text/plain": [
       "'apple'"
      ]
     },
     "execution_count": 24,
     "metadata": {},
     "output_type": "execute_result"
    }
   ],
   "source": [
    "vegs[('a', 'b')]"
   ]
  },
  {
   "cell_type": "code",
   "execution_count": 25,
   "id": "ec919412",
   "metadata": {},
   "outputs": [
    {
     "data": {
      "text/plain": [
       "'apple'"
      ]
     },
     "execution_count": 25,
     "metadata": {},
     "output_type": "execute_result"
    }
   ],
   "source": [
    "vegs['a','b']"
   ]
  },
  {
   "cell_type": "markdown",
   "id": "f781ccb1",
   "metadata": {},
   "source": [
    "##### When to use (),[],{}    ?\n",
    "        [] ---> To access any element\n",
    "        {} ---> used to create Dictionary & Set\n",
    "        () ---> to create Tuple\n",
    "        [] ---> to create List"
   ]
  },
  {
   "cell_type": "markdown",
   "id": "82d19803",
   "metadata": {},
   "source": [
    "###### Empty Dictionary"
   ]
  },
  {
   "cell_type": "code",
   "execution_count": 26,
   "id": "6ca4c751",
   "metadata": {},
   "outputs": [],
   "source": [
    "ipl={}       #null dictionary"
   ]
  },
  {
   "cell_type": "code",
   "execution_count": 27,
   "id": "b0f40e1a",
   "metadata": {},
   "outputs": [
    {
     "data": {
      "text/plain": [
       "{}"
      ]
     },
     "execution_count": 27,
     "metadata": {},
     "output_type": "execute_result"
    }
   ],
   "source": [
    "ipl"
   ]
  },
  {
   "cell_type": "code",
   "execution_count": 28,
   "id": "2bf8d39d",
   "metadata": {},
   "outputs": [
    {
     "data": {
      "text/plain": [
       "dict"
      ]
     },
     "execution_count": 28,
     "metadata": {},
     "output_type": "execute_result"
    }
   ],
   "source": [
    "type(ipl)"
   ]
  },
  {
   "cell_type": "code",
   "execution_count": 29,
   "id": "44d74121",
   "metadata": {},
   "outputs": [],
   "source": [
    "ipl['mi']=['Rohit','Surya']"
   ]
  },
  {
   "cell_type": "code",
   "execution_count": 30,
   "id": "aeada2b7",
   "metadata": {},
   "outputs": [
    {
     "data": {
      "text/plain": [
       "{'mi': ['Rohit', 'Surya']}"
      ]
     },
     "execution_count": 30,
     "metadata": {},
     "output_type": "execute_result"
    }
   ],
   "source": [
    "ipl"
   ]
  },
  {
   "cell_type": "code",
   "execution_count": 31,
   "id": "4f0971be",
   "metadata": {},
   "outputs": [],
   "source": [
    "ipl['RCB']=('Virat','ABD')"
   ]
  },
  {
   "cell_type": "code",
   "execution_count": 32,
   "id": "379d26dc",
   "metadata": {},
   "outputs": [
    {
     "data": {
      "text/plain": [
       "tuple"
      ]
     },
     "execution_count": 32,
     "metadata": {},
     "output_type": "execute_result"
    }
   ],
   "source": [
    "type(ipl['RCB'])"
   ]
  },
  {
   "cell_type": "code",
   "execution_count": 33,
   "id": "0a701ef1",
   "metadata": {},
   "outputs": [
    {
     "data": {
      "text/plain": [
       "{'mi': ['Rohit', 'Surya'], 'RCB': ('Virat', 'ABD')}"
      ]
     },
     "execution_count": 33,
     "metadata": {},
     "output_type": "execute_result"
    }
   ],
   "source": [
    "ipl"
   ]
  },
  {
   "cell_type": "code",
   "execution_count": 34,
   "id": "e87add16",
   "metadata": {},
   "outputs": [],
   "source": [
    "ipl['RCB']=['Virat','ABD']"
   ]
  },
  {
   "cell_type": "code",
   "execution_count": 35,
   "id": "d44025d7",
   "metadata": {},
   "outputs": [
    {
     "data": {
      "text/plain": [
       "{'mi': ['Rohit', 'Surya'], 'RCB': ['Virat', 'ABD']}"
      ]
     },
     "execution_count": 35,
     "metadata": {},
     "output_type": "execute_result"
    }
   ],
   "source": [
    "ipl"
   ]
  },
  {
   "cell_type": "code",
   "execution_count": 36,
   "id": "b383c0c3",
   "metadata": {},
   "outputs": [],
   "source": [
    "ipl['x','y']=['abc','def']          # key is list and also value is list"
   ]
  },
  {
   "cell_type": "code",
   "execution_count": 37,
   "id": "53d5b196",
   "metadata": {},
   "outputs": [
    {
     "data": {
      "text/plain": [
       "{'mi': ['Rohit', 'Surya'], 'RCB': ['Virat', 'ABD'], ('x', 'y'): ['abc', 'def']}"
      ]
     },
     "execution_count": 37,
     "metadata": {},
     "output_type": "execute_result"
    }
   ],
   "source": [
    "ipl\n",
    "                                     #key become"
   ]
  },
  {
   "cell_type": "code",
   "execution_count": 38,
   "id": "33cf495f",
   "metadata": {},
   "outputs": [
    {
     "data": {
      "text/plain": [
       "list"
      ]
     },
     "execution_count": 38,
     "metadata": {},
     "output_type": "execute_result"
    }
   ],
   "source": [
    "type(ipl['x','y'])"
   ]
  },
  {
   "cell_type": "code",
   "execution_count": 39,
   "id": "156d2330",
   "metadata": {},
   "outputs": [
    {
     "data": {
      "text/plain": [
       "dict_keys(['mi', 'RCB', ('x', 'y')])"
      ]
     },
     "execution_count": 39,
     "metadata": {},
     "output_type": "execute_result"
    }
   ],
   "source": [
    "ipl.keys()"
   ]
  },
  {
   "cell_type": "code",
   "execution_count": 40,
   "id": "463cd719",
   "metadata": {},
   "outputs": [
    {
     "data": {
      "text/plain": [
       "dict_values([['Rohit', 'Surya'], ['Virat', 'ABD'], ['abc', 'def']])"
      ]
     },
     "execution_count": 40,
     "metadata": {},
     "output_type": "execute_result"
    }
   ],
   "source": [
    "ipl.values()"
   ]
  },
  {
   "cell_type": "markdown",
   "id": "64626aed",
   "metadata": {},
   "source": [
    " If we make multiple values for one key, use any collection like List,Tuple,Dictionary etc"
   ]
  },
  {
   "cell_type": "code",
   "execution_count": 41,
   "id": "3acd2961",
   "metadata": {},
   "outputs": [
    {
     "data": {
      "text/plain": [
       "{'mi': ['Rohit', 'Surya'], 'RCB': ['Virat', 'ABD'], ('x', 'y'): ['abc', 'def']}"
      ]
     },
     "execution_count": 41,
     "metadata": {},
     "output_type": "execute_result"
    }
   ],
   "source": [
    "ipl"
   ]
  },
  {
   "cell_type": "markdown",
   "id": "4ef6adad",
   "metadata": {},
   "source": [
    "Can we mixed keys in single Dictionary?\n",
    "Yes\n",
    "\n",
    "\n",
    "As long as keys are Immutable, we can create Tuple also as Key and also integer, immutable string.\n",
    "\n",
    "And we cannot have List & Dictionary as keys."
   ]
  },
  {
   "cell_type": "code",
   "execution_count": 42,
   "id": "d5976712",
   "metadata": {},
   "outputs": [
    {
     "data": {
      "text/plain": [
       "['Rohit', 'Surya']"
      ]
     },
     "execution_count": 42,
     "metadata": {},
     "output_type": "execute_result"
    }
   ],
   "source": [
    "ipl['mi']"
   ]
  },
  {
   "cell_type": "markdown",
   "id": "57f2b59f",
   "metadata": {},
   "source": [
    "###### Dictionary Operators"
   ]
  },
  {
   "cell_type": "markdown",
   "id": "ac73b841",
   "metadata": {},
   "source": [
    "##### append()"
   ]
  },
  {
   "cell_type": "code",
   "execution_count": 43,
   "id": "292d1ceb",
   "metadata": {},
   "outputs": [],
   "source": [
    "ipl['mi'].append('Bumrah')"
   ]
  },
  {
   "cell_type": "code",
   "execution_count": 44,
   "id": "3e18af5d",
   "metadata": {},
   "outputs": [
    {
     "data": {
      "text/plain": [
       "['Rohit', 'Surya', 'Bumrah']"
      ]
     },
     "execution_count": 44,
     "metadata": {},
     "output_type": "execute_result"
    }
   ],
   "source": [
    "ipl['mi']"
   ]
  },
  {
   "cell_type": "code",
   "execution_count": 45,
   "id": "e0b5e998",
   "metadata": {},
   "outputs": [],
   "source": [
    "ipl['mi'].append('Hardik')"
   ]
  },
  {
   "cell_type": "code",
   "execution_count": 46,
   "id": "1cb98070",
   "metadata": {},
   "outputs": [
    {
     "data": {
      "text/plain": [
       "['Rohit', 'Surya', 'Bumrah', 'Hardik']"
      ]
     },
     "execution_count": 46,
     "metadata": {},
     "output_type": "execute_result"
    }
   ],
   "source": [
    "ipl['mi']"
   ]
  },
  {
   "cell_type": "markdown",
   "id": "ee971d06",
   "metadata": {},
   "source": [
    "#### in()\n",
    "        returns True or false"
   ]
  },
  {
   "cell_type": "code",
   "execution_count": 47,
   "id": "b9ce6521",
   "metadata": {},
   "outputs": [
    {
     "data": {
      "text/plain": [
       "True"
      ]
     },
     "execution_count": 47,
     "metadata": {},
     "output_type": "execute_result"
    }
   ],
   "source": [
    "'mi' in ipl"
   ]
  },
  {
   "cell_type": "code",
   "execution_count": 48,
   "id": "ea241e1e",
   "metadata": {},
   "outputs": [
    {
     "data": {
      "text/plain": [
       "True"
      ]
     },
     "execution_count": 48,
     "metadata": {},
     "output_type": "execute_result"
    }
   ],
   "source": [
    "'Surya' in ipl['mi']       #Case Sensitive"
   ]
  },
  {
   "cell_type": "markdown",
   "id": "fcd32f83",
   "metadata": {},
   "source": [
    "##### get()"
   ]
  },
  {
   "cell_type": "code",
   "execution_count": 49,
   "id": "0ffa88d9",
   "metadata": {},
   "outputs": [
    {
     "data": {
      "text/plain": [
       "['Virat', 'ABD']"
      ]
     },
     "execution_count": 49,
     "metadata": {},
     "output_type": "execute_result"
    }
   ],
   "source": [
    "ipl.get('RCB')          # To get any value associated with key"
   ]
  },
  {
   "cell_type": "markdown",
   "id": "43935a0e",
   "metadata": {},
   "source": [
    "How to change the key?\n",
    "We can't, we either Delete or add the key to dictionary.\n",
    "\n",
    "can we re-arrange the key?No"
   ]
  },
  {
   "cell_type": "code",
   "execution_count": 50,
   "id": "d4983159",
   "metadata": {},
   "outputs": [
    {
     "name": "stdout",
     "output_type": "stream",
     "text": [
      "None\n"
     ]
    }
   ],
   "source": [
    "result = ipl.get('CSK')\n",
    "print(result)                     # CSK is not present in Dictionary"
   ]
  },
  {
   "cell_type": "code",
   "execution_count": 51,
   "id": "87b551b7",
   "metadata": {},
   "outputs": [
    {
     "name": "stdout",
     "output_type": "stream",
     "text": [
      "-1\n"
     ]
    }
   ],
   "source": [
    "result=ipl.get('CSK',-1)\n",
    "print(result)                    #Get the value of 'CSK' in case available, else return -1"
   ]
  },
  {
   "cell_type": "code",
   "execution_count": 52,
   "id": "fd16ecdd",
   "metadata": {},
   "outputs": [
    {
     "name": "stdout",
     "output_type": "stream",
     "text": [
      "['Virat', 'ABD']\n"
     ]
    }
   ],
   "source": [
    "result = ipl.get('RCB',-1)\n",
    "print(result)"
   ]
  },
  {
   "cell_type": "code",
   "execution_count": 53,
   "id": "12a687c2",
   "metadata": {},
   "outputs": [
    {
     "data": {
      "text/plain": [
       "['Virat', 'ABD']"
      ]
     },
     "execution_count": 53,
     "metadata": {},
     "output_type": "execute_result"
    }
   ],
   "source": [
    "result"
   ]
  },
  {
   "cell_type": "markdown",
   "id": "cf80832a",
   "metadata": {},
   "source": [
    "##### items()"
   ]
  },
  {
   "cell_type": "code",
   "execution_count": 54,
   "id": "101b45ff",
   "metadata": {},
   "outputs": [
    {
     "data": {
      "text/plain": [
       "dict_items([('mi', ['Rohit', 'Surya', 'Bumrah', 'Hardik']), ('RCB', ['Virat', 'ABD']), (('x', 'y'), ['abc', 'def'])])"
      ]
     },
     "execution_count": 54,
     "metadata": {},
     "output_type": "execute_result"
    }
   ],
   "source": [
    "ipl.items()                     # It gives List of Tuples....[(key, values),(key, values),(key,values)]"
   ]
  },
  {
   "cell_type": "markdown",
   "id": "ccf6f8f5",
   "metadata": {},
   "source": [
    "#### keys()\n",
    "        it will give all keys in dictionary"
   ]
  },
  {
   "cell_type": "code",
   "execution_count": 55,
   "id": "46695ac5",
   "metadata": {},
   "outputs": [
    {
     "data": {
      "text/plain": [
       "dict_keys(['mi', 'RCB', ('x', 'y')])"
      ]
     },
     "execution_count": 55,
     "metadata": {},
     "output_type": "execute_result"
    }
   ],
   "source": [
    "ipl.keys()                              #it wil give all keys in list format"
   ]
  },
  {
   "cell_type": "markdown",
   "id": "6e587ea7",
   "metadata": {},
   "source": [
    "#### values()\n",
    "            it gives values of all keys present in dictionary"
   ]
  },
  {
   "cell_type": "code",
   "execution_count": 56,
   "id": "c78c6a28",
   "metadata": {},
   "outputs": [
    {
     "data": {
      "text/plain": [
       "dict_values([['Rohit', 'Surya', 'Bumrah', 'Hardik'], ['Virat', 'ABD'], ['abc', 'def']])"
      ]
     },
     "execution_count": 56,
     "metadata": {},
     "output_type": "execute_result"
    }
   ],
   "source": [
    "ipl.values()                                 #it will give all values in a List format"
   ]
  },
  {
   "cell_type": "code",
   "execution_count": 57,
   "id": "20d5f194",
   "metadata": {},
   "outputs": [],
   "source": [
    "#Hash Map& Dictionary are Same?\n",
    "#Yes,\n",
    "#Hash Map is associated with array."
   ]
  },
  {
   "cell_type": "code",
   "execution_count": null,
   "id": "fd802c87",
   "metadata": {},
   "outputs": [],
   "source": []
  },
  {
   "cell_type": "code",
   "execution_count": 58,
   "id": "99a7bd57",
   "metadata": {},
   "outputs": [
    {
     "ename": "TypeError",
     "evalue": "'builtin_function_or_method' object is not subscriptable",
     "output_type": "error",
     "traceback": [
      "\u001b[1;31m---------------------------------------------------------------------------\u001b[0m",
      "\u001b[1;31mTypeError\u001b[0m                                 Traceback (most recent call last)",
      "Cell \u001b[1;32mIn[58], line 1\u001b[0m\n\u001b[1;32m----> 1\u001b[0m \u001b[43mfruits\u001b[49m\u001b[38;5;241;43m.\u001b[39;49m\u001b[43mitems\u001b[49m\u001b[43m[\u001b[49m\u001b[38;5;241;43m0\u001b[39;49m\u001b[43m]\u001b[49m\n",
      "\u001b[1;31mTypeError\u001b[0m: 'builtin_function_or_method' object is not subscriptable"
     ]
    }
   ],
   "source": [
    "fruits.items[0]                    #'builtin_function_or_method' object is not subscriptable\n",
    "                                            #For Dictionaries Subscript is not works "
   ]
  },
  {
   "cell_type": "markdown",
   "id": "7f26ce77",
   "metadata": {},
   "source": [
    "To access element, but Subscript is works in dictionary\n",
    " So we are Converting Into List , so we can accessed"
   ]
  },
  {
   "cell_type": "code",
   "execution_count": null,
   "id": "678c5f2f",
   "metadata": {},
   "outputs": [],
   "source": [
    "list(fruits.items())"
   ]
  },
  {
   "cell_type": "code",
   "execution_count": 59,
   "id": "fb63e01c",
   "metadata": {},
   "outputs": [
    {
     "data": {
      "text/plain": [
       "('a', ('anjur', 'apple'))"
      ]
     },
     "execution_count": 59,
     "metadata": {},
     "output_type": "execute_result"
    }
   ],
   "source": [
    "list(fruits.items())[0]"
   ]
  },
  {
   "cell_type": "code",
   "execution_count": 60,
   "id": "ed0fabb3",
   "metadata": {},
   "outputs": [
    {
     "data": {
      "text/plain": [
       "'anjur'"
      ]
     },
     "execution_count": 60,
     "metadata": {},
     "output_type": "execute_result"
    }
   ],
   "source": [
    "list(fruits.items())[0][1][0]"
   ]
  },
  {
   "cell_type": "code",
   "execution_count": 61,
   "id": "748291a3",
   "metadata": {},
   "outputs": [
    {
     "data": {
      "text/plain": [
       "('b', 'banana')"
      ]
     },
     "execution_count": 61,
     "metadata": {},
     "output_type": "execute_result"
    }
   ],
   "source": [
    "list(fruits.items())[1]"
   ]
  },
  {
   "cell_type": "code",
   "execution_count": 62,
   "id": "5e14c4b5",
   "metadata": {},
   "outputs": [
    {
     "data": {
      "text/plain": [
       "['a', 'b', 'c', 'w', 'd', 'e']"
      ]
     },
     "execution_count": 62,
     "metadata": {},
     "output_type": "execute_result"
    }
   ],
   "source": [
    "list(fruits)             # only for key its converted list"
   ]
  },
  {
   "cell_type": "code",
   "execution_count": 63,
   "id": "69a79a67",
   "metadata": {},
   "outputs": [
    {
     "data": {
      "text/plain": [
       "'b'"
      ]
     },
     "execution_count": 63,
     "metadata": {},
     "output_type": "execute_result"
    }
   ],
   "source": [
    "list(fruits)[1]"
   ]
  },
  {
   "cell_type": "markdown",
   "id": "1ad318b4",
   "metadata": {},
   "source": [
    "### pop()\n",
    "            LIFO = Last In First Out"
   ]
  },
  {
   "cell_type": "code",
   "execution_count": 64,
   "id": "25f9bfe5",
   "metadata": {},
   "outputs": [
    {
     "data": {
      "text/plain": [
       "'apricot'"
      ]
     },
     "execution_count": 64,
     "metadata": {},
     "output_type": "execute_result"
    }
   ],
   "source": [
    "fruits.pop('d')"
   ]
  },
  {
   "cell_type": "code",
   "execution_count": 65,
   "id": "e1239cf1",
   "metadata": {},
   "outputs": [
    {
     "data": {
      "text/plain": [
       "{'a': ('anjur', 'apple'),\n",
       " 'b': 'banana',\n",
       " 'c': 'cookies',\n",
       " 'w': 'watermelon',\n",
       " 'e': 'apple'}"
      ]
     },
     "execution_count": 65,
     "metadata": {},
     "output_type": "execute_result"
    }
   ],
   "source": [
    "fruits"
   ]
  },
  {
   "cell_type": "code",
   "execution_count": 66,
   "id": "e84472ec",
   "metadata": {},
   "outputs": [
    {
     "data": {
      "text/plain": [
       "-2"
      ]
     },
     "execution_count": 66,
     "metadata": {},
     "output_type": "execute_result"
    }
   ],
   "source": [
    "fruits.pop('d',-2)"
   ]
  },
  {
   "cell_type": "code",
   "execution_count": 67,
   "id": "0340e7d2",
   "metadata": {},
   "outputs": [
    {
     "ename": "KeyError",
     "evalue": "'m'",
     "output_type": "error",
     "traceback": [
      "\u001b[1;31m---------------------------------------------------------------------------\u001b[0m",
      "\u001b[1;31mKeyError\u001b[0m                                  Traceback (most recent call last)",
      "Cell \u001b[1;32mIn[67], line 1\u001b[0m\n\u001b[1;32m----> 1\u001b[0m \u001b[43mfruits\u001b[49m\u001b[38;5;241;43m.\u001b[39;49m\u001b[43mpop\u001b[49m\u001b[43m(\u001b[49m\u001b[38;5;124;43m'\u001b[39;49m\u001b[38;5;124;43mm\u001b[39;49m\u001b[38;5;124;43m'\u001b[39;49m\u001b[43m)\u001b[49m\n",
      "\u001b[1;31mKeyError\u001b[0m: 'm'"
     ]
    }
   ],
   "source": [
    "fruits.pop('m')         # key is not present"
   ]
  },
  {
   "cell_type": "code",
   "execution_count": 68,
   "id": "0751e126",
   "metadata": {},
   "outputs": [
    {
     "data": {
      "text/plain": [
       "{'a': ('anjur', 'apple'),\n",
       " 'b': 'banana',\n",
       " 'c': 'cookies',\n",
       " 'w': 'watermelon',\n",
       " 'e': 'apple'}"
      ]
     },
     "execution_count": 68,
     "metadata": {},
     "output_type": "execute_result"
    }
   ],
   "source": [
    "fruits"
   ]
  },
  {
   "cell_type": "markdown",
   "id": "dd201ba7",
   "metadata": {},
   "source": [
    "#### popitem()"
   ]
  },
  {
   "cell_type": "code",
   "execution_count": 69,
   "id": "8eb5621b",
   "metadata": {},
   "outputs": [
    {
     "data": {
      "text/plain": [
       "('e', 'apple')"
      ]
     },
     "execution_count": 69,
     "metadata": {},
     "output_type": "execute_result"
    }
   ],
   "source": [
    "fruits.popitem()                  # it will pop out last item we pushed (it will poped as key:value pair element in dict)"
   ]
  },
  {
   "cell_type": "code",
   "execution_count": 70,
   "id": "8d73feca",
   "metadata": {},
   "outputs": [
    {
     "data": {
      "text/plain": [
       "{'a': ('anjur', 'apple'), 'b': 'banana', 'c': 'cookies', 'w': 'watermelon'}"
      ]
     },
     "execution_count": 70,
     "metadata": {},
     "output_type": "execute_result"
    }
   ],
   "source": [
    "fruits"
   ]
  },
  {
   "cell_type": "markdown",
   "id": "05bafe38",
   "metadata": {},
   "source": [
    "Can we have keys as Integer, Tuple? Yes\n",
    "\n",
    "Keys can be NuLL? No, ex; we can't have student without roll number"
   ]
  },
  {
   "cell_type": "markdown",
   "id": "3cc036af",
   "metadata": {},
   "source": [
    "#### Update()"
   ]
  },
  {
   "cell_type": "code",
   "execution_count": 71,
   "id": "fc579363",
   "metadata": {},
   "outputs": [
    {
     "data": {
      "text/plain": [
       "{'a': ('anjur', 'apple'), 'b': 'banana', 'c': 'cookies', 'w': 'watermelon'}"
      ]
     },
     "execution_count": 71,
     "metadata": {},
     "output_type": "execute_result"
    }
   ],
   "source": [
    "fruits"
   ]
  },
  {
   "cell_type": "code",
   "execution_count": 72,
   "id": "a6414ed9",
   "metadata": {},
   "outputs": [],
   "source": [
    "alphabets = {'a':100,'b':200,'c':300,'z':'zero','h':'hero'}"
   ]
  },
  {
   "cell_type": "code",
   "execution_count": 73,
   "id": "b20018af",
   "metadata": {},
   "outputs": [
    {
     "data": {
      "text/plain": [
       "{'a': 100, 'b': 200, 'c': 300, 'z': 'zero', 'h': 'hero'}"
      ]
     },
     "execution_count": 73,
     "metadata": {},
     "output_type": "execute_result"
    }
   ],
   "source": [
    "alphabets"
   ]
  },
  {
   "cell_type": "code",
   "execution_count": 74,
   "id": "bda31083",
   "metadata": {},
   "outputs": [],
   "source": [
    "fruits.update(alphabets)"
   ]
  },
  {
   "cell_type": "code",
   "execution_count": 75,
   "id": "a2c72e7e",
   "metadata": {},
   "outputs": [
    {
     "data": {
      "text/plain": [
       "{'a': 100, 'b': 200, 'c': 300, 'w': 'watermelon', 'z': 'zero', 'h': 'hero'}"
      ]
     },
     "execution_count": 75,
     "metadata": {},
     "output_type": "execute_result"
    }
   ],
   "source": [
    "fruits                          #and also other items  #common keys  and their values are updated"
   ]
  },
  {
   "cell_type": "markdown",
   "id": "be901bab",
   "metadata": {},
   "source": [
    "### copy()"
   ]
  },
  {
   "cell_type": "code",
   "execution_count": 76,
   "id": "32fd0513",
   "metadata": {},
   "outputs": [],
   "source": [
    "chetan={'chetan':'patil'}"
   ]
  },
  {
   "cell_type": "code",
   "execution_count": 77,
   "id": "02c66491",
   "metadata": {},
   "outputs": [],
   "source": [
    "chey=chetan.copy()"
   ]
  },
  {
   "cell_type": "code",
   "execution_count": 78,
   "id": "604bf7af",
   "metadata": {},
   "outputs": [
    {
     "data": {
      "text/plain": [
       "{'chetan': 'patil'}"
      ]
     },
     "execution_count": 78,
     "metadata": {},
     "output_type": "execute_result"
    }
   ],
   "source": [
    "chey"
   ]
  },
  {
   "cell_type": "markdown",
   "id": "bed2e7ee",
   "metadata": {},
   "source": [
    "### fromkeys()"
   ]
  },
  {
   "cell_type": "code",
   "execution_count": 79,
   "id": "9b4e2003",
   "metadata": {},
   "outputs": [],
   "source": [
    "chetan2=fruits.fromkeys([1,2,3],('a','b'))"
   ]
  },
  {
   "cell_type": "code",
   "execution_count": 80,
   "id": "78c002ba",
   "metadata": {},
   "outputs": [
    {
     "data": {
      "text/plain": [
       "{1: ('a', 'b'), 2: ('a', 'b'), 3: ('a', 'b')}"
      ]
     },
     "execution_count": 80,
     "metadata": {},
     "output_type": "execute_result"
    }
   ],
   "source": [
    "chetan2"
   ]
  },
  {
   "cell_type": "code",
   "execution_count": 81,
   "id": "eaae662d",
   "metadata": {},
   "outputs": [],
   "source": [
    "chetan2=fruits.fromkeys((1,2,3),('a','b'))"
   ]
  },
  {
   "cell_type": "code",
   "execution_count": 82,
   "id": "2086dcbf",
   "metadata": {},
   "outputs": [
    {
     "data": {
      "text/plain": [
       "{1: ('a', 'b'), 2: ('a', 'b'), 3: ('a', 'b')}"
      ]
     },
     "execution_count": 82,
     "metadata": {},
     "output_type": "execute_result"
    }
   ],
   "source": [
    "chetan2"
   ]
  },
  {
   "cell_type": "code",
   "execution_count": 83,
   "id": "921abb59",
   "metadata": {},
   "outputs": [
    {
     "data": {
      "text/plain": [
       "{'a': 100, 'b': 200, 'c': 300, 'w': 'watermelon', 'z': 'zero', 'h': 'hero'}"
      ]
     },
     "execution_count": 83,
     "metadata": {},
     "output_type": "execute_result"
    }
   ],
   "source": [
    "fruits"
   ]
  },
  {
   "cell_type": "code",
   "execution_count": 84,
   "id": "5dafac0c",
   "metadata": {},
   "outputs": [],
   "source": [
    "chetan2=fruits.fromkeys((10,11),('s','q'))"
   ]
  },
  {
   "cell_type": "code",
   "execution_count": 85,
   "id": "acf29c56",
   "metadata": {},
   "outputs": [
    {
     "data": {
      "text/plain": [
       "{10: ('s', 'q'), 11: ('s', 'q')}"
      ]
     },
     "execution_count": 85,
     "metadata": {},
     "output_type": "execute_result"
    }
   ],
   "source": [
    "chetan2"
   ]
  },
  {
   "cell_type": "markdown",
   "id": "b38f4480",
   "metadata": {},
   "source": [
    "### setdefault()"
   ]
  },
  {
   "cell_type": "code",
   "execution_count": 86,
   "id": "d8b0d036",
   "metadata": {},
   "outputs": [
    {
     "data": {
      "text/plain": [
       "{'a': 100, 'b': 200, 'c': 300, 'w': 'watermelon', 'z': 'zero', 'h': 'hero'}"
      ]
     },
     "execution_count": 86,
     "metadata": {},
     "output_type": "execute_result"
    }
   ],
   "source": [
    "fruits"
   ]
  },
  {
   "cell_type": "code",
   "execution_count": 87,
   "id": "9b85b3db",
   "metadata": {},
   "outputs": [],
   "source": [
    "xyz=fruits.setdefault('w')   # if key is present in dictionary, it returns value"
   ]
  },
  {
   "cell_type": "code",
   "execution_count": 88,
   "id": "a667f2e6",
   "metadata": {},
   "outputs": [
    {
     "name": "stdout",
     "output_type": "stream",
     "text": [
      "watermelon\n"
     ]
    }
   ],
   "source": [
    "print(xyz)"
   ]
  },
  {
   "cell_type": "code",
   "execution_count": 89,
   "id": "b2111f8d",
   "metadata": {},
   "outputs": [],
   "source": [
    "xyz=fruits.setdefault('x')       #if key is not present it returns value as None\n"
   ]
  },
  {
   "cell_type": "code",
   "execution_count": 90,
   "id": "0b182bec",
   "metadata": {},
   "outputs": [
    {
     "name": "stdout",
     "output_type": "stream",
     "text": [
      "None\n"
     ]
    }
   ],
   "source": [
    "print(xyz)"
   ]
  },
  {
   "cell_type": "code",
   "execution_count": 91,
   "id": "8345d4b5",
   "metadata": {},
   "outputs": [
    {
     "data": {
      "text/plain": [
       "{'a': 100,\n",
       " 'b': 200,\n",
       " 'c': 300,\n",
       " 'w': 'watermelon',\n",
       " 'z': 'zero',\n",
       " 'h': 'hero',\n",
       " 'x': None}"
      ]
     },
     "execution_count": 91,
     "metadata": {},
     "output_type": "execute_result"
    }
   ],
   "source": [
    "fruits"
   ]
  },
  {
   "cell_type": "code",
   "execution_count": 92,
   "id": "9154d4fc",
   "metadata": {},
   "outputs": [],
   "source": [
    "xyz=fruits.setdefault('y',999)                #if key is not present we are giving value to that key\n"
   ]
  },
  {
   "cell_type": "code",
   "execution_count": 93,
   "id": "ca42290b",
   "metadata": {},
   "outputs": [
    {
     "name": "stdout",
     "output_type": "stream",
     "text": [
      "999\n"
     ]
    }
   ],
   "source": [
    "print(xyz)"
   ]
  },
  {
   "cell_type": "code",
   "execution_count": 94,
   "id": "e84a1c9c",
   "metadata": {},
   "outputs": [
    {
     "data": {
      "text/plain": [
       "{'a': 100,\n",
       " 'b': 200,\n",
       " 'c': 300,\n",
       " 'w': 'watermelon',\n",
       " 'z': 'zero',\n",
       " 'h': 'hero',\n",
       " 'x': None,\n",
       " 'y': 999}"
      ]
     },
     "execution_count": 94,
     "metadata": {},
     "output_type": "execute_result"
    }
   ],
   "source": [
    "fruits"
   ]
  },
  {
   "cell_type": "code",
   "execution_count": 95,
   "id": "6737783d",
   "metadata": {},
   "outputs": [],
   "source": [
    "xyz=fruits.setdefault('y',9999)                #if key is not \n"
   ]
  },
  {
   "cell_type": "markdown",
   "id": "00a6c661",
   "metadata": {},
   "source": [
    "### clear()"
   ]
  },
  {
   "cell_type": "code",
   "execution_count": 96,
   "id": "a1790478",
   "metadata": {},
   "outputs": [],
   "source": [
    "ipl.clear()"
   ]
  },
  {
   "cell_type": "code",
   "execution_count": 97,
   "id": "36cc91cc",
   "metadata": {},
   "outputs": [
    {
     "data": {
      "text/plain": [
       "{}"
      ]
     },
     "execution_count": 97,
     "metadata": {},
     "output_type": "execute_result"
    }
   ],
   "source": [
    "ipl"
   ]
  },
  {
   "cell_type": "code",
   "execution_count": null,
   "id": "abfa86e3",
   "metadata": {},
   "outputs": [],
   "source": []
  },
  {
   "cell_type": "markdown",
   "id": "f025bfae",
   "metadata": {},
   "source": [
    "integer as key"
   ]
  },
  {
   "cell_type": "code",
   "execution_count": 98,
   "id": "c49ac791",
   "metadata": {},
   "outputs": [],
   "source": [
    "fruits[1]:'integer key'"
   ]
  },
  {
   "cell_type": "code",
   "execution_count": 99,
   "id": "198aee40",
   "metadata": {},
   "outputs": [
    {
     "data": {
      "text/plain": [
       "{'a': 100,\n",
       " 'b': 200,\n",
       " 'c': 300,\n",
       " 'w': 'watermelon',\n",
       " 'z': 'zero',\n",
       " 'h': 'hero',\n",
       " 'x': None,\n",
       " 'y': 999}"
      ]
     },
     "execution_count": 99,
     "metadata": {},
     "output_type": "execute_result"
    }
   ],
   "source": [
    "fruits"
   ]
  },
  {
   "cell_type": "markdown",
   "id": "2bf446a0",
   "metadata": {},
   "source": [
    "Tuple as key"
   ]
  },
  {
   "cell_type": "code",
   "execution_count": 100,
   "id": "9e0df72c",
   "metadata": {},
   "outputs": [],
   "source": [
    "fruits[(1,2,3)]='Tuple as key'"
   ]
  },
  {
   "cell_type": "code",
   "execution_count": 101,
   "id": "48d598f2",
   "metadata": {},
   "outputs": [
    {
     "data": {
      "text/plain": [
       "{'a': 100,\n",
       " 'b': 200,\n",
       " 'c': 300,\n",
       " 'w': 'watermelon',\n",
       " 'z': 'zero',\n",
       " 'h': 'hero',\n",
       " 'x': None,\n",
       " 'y': 999,\n",
       " (1, 2, 3): 'Tuple as key'}"
      ]
     },
     "execution_count": 101,
     "metadata": {},
     "output_type": "execute_result"
    }
   ],
   "source": [
    "fruits"
   ]
  },
  {
   "cell_type": "code",
   "execution_count": null,
   "id": "37ddd853",
   "metadata": {},
   "outputs": [],
   "source": []
  },
  {
   "cell_type": "code",
   "execution_count": null,
   "id": "5b44b2ba",
   "metadata": {},
   "outputs": [],
   "source": []
  },
  {
   "cell_type": "code",
   "execution_count": null,
   "id": "5e89ef11",
   "metadata": {},
   "outputs": [],
   "source": []
  }
 ],
 "metadata": {
  "kernelspec": {
   "display_name": "Python 3 (ipykernel)",
   "language": "python",
   "name": "python3"
  },
  "language_info": {
   "codemirror_mode": {
    "name": "ipython",
    "version": 3
   },
   "file_extension": ".py",
   "mimetype": "text/x-python",
   "name": "python",
   "nbconvert_exporter": "python",
   "pygments_lexer": "ipython3",
   "version": "3.8.16"
  }
 },
 "nbformat": 4,
 "nbformat_minor": 5
}
