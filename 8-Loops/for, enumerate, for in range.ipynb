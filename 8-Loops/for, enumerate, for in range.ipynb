{
 "cells": [
  {
   "cell_type": "markdown",
   "id": "0f100c35",
   "metadata": {},
   "source": [
    "#### shorcut key for comments:  Control + /  (forward slash)"
   ]
  },
  {
   "cell_type": "code",
   "execution_count": 1,
   "id": "ffbd4c06",
   "metadata": {},
   "outputs": [
    {
     "name": "stdout",
     "output_type": "stream",
     "text": [
      "enter any number: 99\n",
      "user entered input is 99\n",
      "Type of input:  <class 'str'>\n"
     ]
    }
   ],
   "source": [
    "userInput = input('enter any number: ')\n",
    "\n",
    "print('user entered input is' , userInput)\n",
    "\n",
    "print(\"Type of input: \", type(userInput))"
   ]
  },
  {
   "cell_type": "markdown",
   "id": "9e470fd0",
   "metadata": {},
   "source": [
    "###### The input() always returns 'str' only in python in 3.9"
   ]
  },
  {
   "cell_type": "code",
   "execution_count": 2,
   "id": "7da39377",
   "metadata": {},
   "outputs": [
    {
     "name": "stdout",
     "output_type": "stream",
     "text": [
      "enter any number: 88\n",
      "user entered input is 88\n",
      "Type of input:  <class 'str'>\n"
     ]
    }
   ],
   "source": [
    "userInput = input('enter any number: ')\n",
    "\n",
    "print('user entered input is' , userInput)\n",
    "\n",
    "print(\"Type of input: \", type(userInput))"
   ]
  },
  {
   "cell_type": "markdown",
   "id": "5ec321a9",
   "metadata": {},
   "source": [
    "###### converting integer from str which is returned from input()"
   ]
  },
  {
   "cell_type": "code",
   "execution_count": 3,
   "id": "0cb583e6",
   "metadata": {},
   "outputs": [
    {
     "name": "stdout",
     "output_type": "stream",
     "text": [
      "Enter any number: 123\n"
     ]
    },
    {
     "data": {
      "text/plain": [
       "int"
      ]
     },
     "execution_count": 3,
     "metadata": {},
     "output_type": "execute_result"
    }
   ],
   "source": [
    "userInput = int(input(\"Enter any number: \"))\n",
    "type(userInput)"
   ]
  },
  {
   "cell_type": "code",
   "execution_count": 4,
   "id": "d477403d",
   "metadata": {},
   "outputs": [
    {
     "name": "stdout",
     "output_type": "stream",
     "text": [
      "Number is greater than 10.\n"
     ]
    }
   ],
   "source": [
    "if userInput > 10:\n",
    "    print(\"Number is greater than 10.\")\n",
    "else:\n",
    "    print(\"Number is less than 10\")"
   ]
  },
  {
   "cell_type": "markdown",
   "id": "4c7e1c63",
   "metadata": {},
   "source": [
    "# for loop:"
   ]
  },
  {
   "cell_type": "code",
   "execution_count": 5,
   "id": "3f3d1070",
   "metadata": {},
   "outputs": [
    {
     "name": "stdout",
     "output_type": "stream",
     "text": [
      "5\n",
      "15\n",
      "25\n",
      "35\n",
      "45\n"
     ]
    }
   ],
   "source": [
    " r = range(5,50,10)\n",
    "for item in r:\n",
    "    print(item)"
   ]
  },
  {
   "cell_type": "code",
   "execution_count": 6,
   "id": "cb649434",
   "metadata": {},
   "outputs": [],
   "source": [
    "websites = [\"amazon\", \"flipkart\",\"paytm\"]\n",
    "\n",
    "\n",
    "#www.amazon.com\n",
    "#www.flipkart.com\n",
    "#www.paytm.com"
   ]
  },
  {
   "cell_type": "code",
   "execution_count": 7,
   "id": "99361ffc",
   "metadata": {},
   "outputs": [
    {
     "name": "stdout",
     "output_type": "stream",
     "text": [
      "www.amazon.com\n",
      "www.flipkart.com\n",
      "www.paytm.com\n"
     ]
    }
   ],
   "source": [
    "for item in websites:\n",
    "    print(\"www.\"+item+\".com\")            #String concatenate"
   ]
  },
  {
   "cell_type": "markdown",
   "id": "45ba4f14",
   "metadata": {},
   "source": [
    "### Nested for loop"
   ]
  },
  {
   "cell_type": "code",
   "execution_count": 8,
   "id": "dd61ed3a",
   "metadata": {},
   "outputs": [],
   "source": [
    "websites = [\"amazon\", \"flipkart\",\"paytm\"]\n",
    "extensions = [\"org\",\"com\",\"in\"]\n",
    "\n",
    "\n",
    "#www.amazon.org\n",
    "#www.flipkart.com\n",
    "#www.paytm.in\n"
   ]
  },
  {
   "cell_type": "code",
   "execution_count": 9,
   "id": "d0e787b8",
   "metadata": {},
   "outputs": [
    {
     "name": "stdout",
     "output_type": "stream",
     "text": [
      "www.amazon.org\n",
      "www.amazon.com\n",
      "www.amazon.in\n",
      "www.flipkart.org\n",
      "www.flipkart.com\n",
      "www.flipkart.in\n",
      "www.paytm.org\n",
      "www.paytm.com\n",
      "www.paytm.in\n"
     ]
    }
   ],
   "source": [
    "for item in websites:\n",
    "    for ext in extensions:\n",
    "        print(\"www.\"+item+\".\"+ext)\n",
    "    "
   ]
  },
  {
   "cell_type": "markdown",
   "id": "565755ae",
   "metadata": {},
   "source": [
    "In while loop, the value remains same, untill we increment value.\n",
    "\n",
    "In for loop, the value is incremented automatically"
   ]
  },
  {
   "cell_type": "markdown",
   "id": "419a3cc0",
   "metadata": {},
   "source": [
    "#### enumerate function\n",
    "            it gives two values index,item"
   ]
  },
  {
   "cell_type": "code",
   "execution_count": 10,
   "id": "66adea7b",
   "metadata": {},
   "outputs": [],
   "source": [
    "languages = [\"c\",\"c++\",\"python\",\"java\",\"perl\"]"
   ]
  },
  {
   "cell_type": "code",
   "execution_count": 11,
   "id": "d8dcb156",
   "metadata": {},
   "outputs": [
    {
     "name": "stdout",
     "output_type": "stream",
     "text": [
      "0 c\n",
      "1 c++\n",
      "2 python\n",
      "3 java\n",
      "4 perl\n"
     ]
    }
   ],
   "source": [
    "for index,item in enumerate(languages):\n",
    "    print(index,item)"
   ]
  },
  {
   "cell_type": "code",
   "execution_count": 12,
   "id": "bb7e94d3",
   "metadata": {},
   "outputs": [
    {
     "ename": "SyntaxError",
     "evalue": "cannot assign to function call (2655161553.py, line 1)",
     "output_type": "error",
     "traceback": [
      "\u001b[1;36m  Cell \u001b[1;32mIn[12], line 1\u001b[1;36m\u001b[0m\n\u001b[1;33m    for type(languages),item in enumerate(languages):\u001b[0m\n\u001b[1;37m        ^\u001b[0m\n\u001b[1;31mSyntaxError\u001b[0m\u001b[1;31m:\u001b[0m cannot assign to function call\n"
     ]
    }
   ],
   "source": [
    "for type(languages),item in enumerate(languages):\n",
    "    print(type(languages), item)"
   ]
  },
  {
   "cell_type": "code",
   "execution_count": 13,
   "id": "7af8d839",
   "metadata": {},
   "outputs": [
    {
     "name": "stdout",
     "output_type": "stream",
     "text": [
      "<class 'str'> c\n",
      "<class 'str'> c++\n",
      "<class 'str'> python\n",
      "<class 'str'> java\n",
      "<class 'str'> perl\n"
     ]
    }
   ],
   "source": [
    "for index,item in enumerate(languages):\n",
    "    print(type(item), item)"
   ]
  },
  {
   "cell_type": "code",
   "execution_count": 16,
   "id": "e86a731e",
   "metadata": {},
   "outputs": [
    {
     "name": "stdout",
     "output_type": "stream",
     "text": [
      "(0, 'c')\n",
      "(1, 'c++')\n",
      "(2, 'python')\n",
      "(3, 'java')\n",
      "(4, 'perl')\n"
     ]
    }
   ],
   "source": [
    "for element in enumerate(languages):\n",
    "    print(element)                                   #it returns values in tuples"
   ]
  },
  {
   "cell_type": "code",
   "execution_count": 17,
   "id": "d2294fd0",
   "metadata": {},
   "outputs": [
    {
     "name": "stdout",
     "output_type": "stream",
     "text": [
      "0\n",
      "1\n",
      "2\n",
      "3\n",
      "4\n",
      "5\n",
      "6\n",
      "7\n",
      "8\n",
      "9\n",
      "10\n"
     ]
    }
   ],
   "source": [
    "for item in range(11):\n",
    "    print(item)"
   ]
  },
  {
   "cell_type": "code",
   "execution_count": 22,
   "id": "67792296",
   "metadata": {},
   "outputs": [
    {
     "name": "stdout",
     "output_type": "stream",
     "text": [
      "Enter the range till which you want to iterate: 10\n"
     ]
    }
   ],
   "source": [
    "n=int(input(\"Enter the range till which you want to iterate: \"))"
   ]
  },
  {
   "cell_type": "code",
   "execution_count": 23,
   "id": "b504b408",
   "metadata": {},
   "outputs": [
    {
     "name": "stdout",
     "output_type": "stream",
     "text": [
      "0\n",
      "1\n",
      "2\n",
      "3\n",
      "4\n",
      "5\n",
      "6\n",
      "7\n",
      "8\n",
      "9\n",
      "10\n"
     ]
    }
   ],
   "source": [
    "for item in range(n+1):\n",
    "    print(item)"
   ]
  },
  {
   "cell_type": "code",
   "execution_count": 24,
   "id": "dcc8f268",
   "metadata": {},
   "outputs": [
    {
     "name": "stdout",
     "output_type": "stream",
     "text": [
      "0\n",
      "1\n",
      "2\n",
      "3\n",
      "4\n",
      "5\n",
      "6\n",
      "7\n",
      "8\n",
      "9\n"
     ]
    }
   ],
   "source": [
    "for item in range(n):\n",
    "    print(item)"
   ]
  },
  {
   "cell_type": "code",
   "execution_count": 27,
   "id": "6b14cad2",
   "metadata": {},
   "outputs": [
    {
     "name": "stdout",
     "output_type": "stream",
     "text": [
      "enter the range till you want to iterate: 10\n",
      "1\n",
      "4\n",
      "7\n",
      "10\n"
     ]
    }
   ],
   "source": [
    "n = int(input(\"enter the range till you want to iterate: \"))\n",
    "\n",
    "for item in range(1,n+1,3):\n",
    "    print(item)"
   ]
  },
  {
   "cell_type": "markdown",
   "id": "7de1c351",
   "metadata": {},
   "source": [
    "### for with continue"
   ]
  },
  {
   "cell_type": "code",
   "execution_count": 28,
   "id": "9bce6039",
   "metadata": {},
   "outputs": [
    {
     "name": "stdout",
     "output_type": "stream",
     "text": [
      "1\n",
      "3\n",
      "5\n",
      "7\n",
      "9\n"
     ]
    }
   ],
   "source": [
    "for item in range(11):\n",
    "    if item % 2 == 0:\n",
    "        continue\n",
    "    print(item)"
   ]
  },
  {
   "cell_type": "code",
   "execution_count": 31,
   "id": "906243e9",
   "metadata": {},
   "outputs": [
    {
     "data": {
      "text/plain": [
       "[0, 1, 2, 3, 4, 5, 6, 7, 8, 9, 10]"
      ]
     },
     "execution_count": 31,
     "metadata": {},
     "output_type": "execute_result"
    }
   ],
   "source": [
    "list(range(11))"
   ]
  },
  {
   "cell_type": "code",
   "execution_count": 33,
   "id": "96c2ff21",
   "metadata": {},
   "outputs": [],
   "source": [
    "# Write a program to printbelow pattern\n",
    "\n",
    "# *\n",
    "# * * \n",
    "# * * *\n",
    "# * * * *\n",
    "# * * * * *\n",
    "# * * * * * *"
   ]
  },
  {
   "cell_type": "code",
   "execution_count": 37,
   "id": "df0b601a",
   "metadata": {},
   "outputs": [
    {
     "name": "stdout",
     "output_type": "stream",
     "text": [
      "* \n",
      "* * \n",
      "* * * \n",
      "* * * * \n",
      "* * * * * \n",
      "* * * * * * \n"
     ]
    }
   ],
   "source": [
    "for item in range(1,7,1):\n",
    "    print(\"* \"*item)                  # s=\"* \"\n",
    "                                      # s*3= * * *"
   ]
  },
  {
   "cell_type": "code",
   "execution_count": 44,
   "id": "8c8a603d",
   "metadata": {},
   "outputs": [
    {
     "name": "stdout",
     "output_type": "stream",
     "text": [
      "* \n",
      "* * \n",
      "* * * \n",
      "* * * * \n",
      "* * * * * \n",
      "* * * * * * \n"
     ]
    }
   ],
   "source": [
    "# above solution using while loop\n",
    "\n",
    "i=1\n",
    "while i<7:\n",
    "    print(\"* \"*i)\n",
    "    i+= 1"
   ]
  },
  {
   "cell_type": "code",
   "execution_count": null,
   "id": "7d4d4401",
   "metadata": {},
   "outputs": [],
   "source": []
  }
 ],
 "metadata": {
  "kernelspec": {
   "display_name": "Python 3 (ipykernel)",
   "language": "python",
   "name": "python3"
  },
  "language_info": {
   "codemirror_mode": {
    "name": "ipython",
    "version": 3
   },
   "file_extension": ".py",
   "mimetype": "text/x-python",
   "name": "python",
   "nbconvert_exporter": "python",
   "pygments_lexer": "ipython3",
   "version": "3.8.16"
  }
 },
 "nbformat": 4,
 "nbformat_minor": 5
}
