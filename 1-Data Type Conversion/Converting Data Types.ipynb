{
 "cells": [
  {
   "cell_type": "code",
   "execution_count": 11,
   "id": "72d5cf78",
   "metadata": {},
   "outputs": [
    {
     "data": {
      "text/plain": [
       "7"
      ]
     },
     "execution_count": 11,
     "metadata": {},
     "output_type": "execute_result"
    }
   ],
   "source": [
    "num_int = 7\n",
    "num_int"
   ]
  },
  {
   "cell_type": "code",
   "execution_count": 12,
   "id": "4f39205b",
   "metadata": {},
   "outputs": [
    {
     "data": {
      "text/plain": [
       "int"
      ]
     },
     "execution_count": 12,
     "metadata": {},
     "output_type": "execute_result"
    }
   ],
   "source": [
    "type(num_int)"
   ]
  },
  {
   "cell_type": "code",
   "execution_count": 13,
   "id": "376d56d6",
   "metadata": {},
   "outputs": [
    {
     "data": {
      "text/plain": [
       "'7'"
      ]
     },
     "execution_count": 13,
     "metadata": {},
     "output_type": "execute_result"
    }
   ],
   "source": [
    "num_str = '7'\n",
    "num_str"
   ]
  },
  {
   "cell_type": "code",
   "execution_count": 14,
   "id": "6ac4e865",
   "metadata": {},
   "outputs": [
    {
     "data": {
      "text/plain": [
       "str"
      ]
     },
     "execution_count": 14,
     "metadata": {},
     "output_type": "execute_result"
    }
   ],
   "source": [
    "type(num_str)"
   ]
  },
  {
   "cell_type": "code",
   "execution_count": 15,
   "id": "f915e761",
   "metadata": {},
   "outputs": [],
   "source": [
    "# num_sum = num_int + num_str     # TypeError: unsupported operand type(s) for +: 'int' and 'str'"
   ]
  },
  {
   "cell_type": "markdown",
   "id": "cb8aab22",
   "metadata": {},
   "source": [
    "#### converting str to int"
   ]
  },
  {
   "cell_type": "code",
   "execution_count": 16,
   "id": "b3dff811",
   "metadata": {},
   "outputs": [
    {
     "data": {
      "text/plain": [
       "7"
      ]
     },
     "execution_count": 16,
     "metadata": {},
     "output_type": "execute_result"
    }
   ],
   "source": [
    "# converting num_str string to int\n",
    "num_str_conv = int(num_str)\n",
    "num_str_conv"
   ]
  },
  {
   "cell_type": "code",
   "execution_count": 17,
   "id": "929b97ce",
   "metadata": {},
   "outputs": [
    {
     "data": {
      "text/plain": [
       "14"
      ]
     },
     "execution_count": 17,
     "metadata": {},
     "output_type": "execute_result"
    }
   ],
   "source": [
    "num_sum = num_int + num_str_conv\n",
    "num_sum"
   ]
  },
  {
   "cell_type": "code",
   "execution_count": 21,
   "id": "7732f0a6",
   "metadata": {},
   "outputs": [
    {
     "data": {
      "text/plain": [
       "int"
      ]
     },
     "execution_count": 21,
     "metadata": {},
     "output_type": "execute_result"
    }
   ],
   "source": [
    "type(num_sum)"
   ]
  },
  {
   "cell_type": "code",
   "execution_count": null,
   "id": "53d20bbb",
   "metadata": {},
   "outputs": [],
   "source": []
  },
  {
   "cell_type": "code",
   "execution_count": 19,
   "id": "506b0efb",
   "metadata": {},
   "outputs": [
    {
     "data": {
      "text/plain": [
       "[1, 2, 3]"
      ]
     },
     "execution_count": 19,
     "metadata": {},
     "output_type": "execute_result"
    }
   ],
   "source": [
    "list_type = [1, 2, 3]\n",
    "list_type"
   ]
  },
  {
   "cell_type": "code",
   "execution_count": 20,
   "id": "c2ec827c",
   "metadata": {},
   "outputs": [
    {
     "data": {
      "text/plain": [
       "list"
      ]
     },
     "execution_count": 20,
     "metadata": {},
     "output_type": "execute_result"
    }
   ],
   "source": [
    "type(list_type)"
   ]
  },
  {
   "cell_type": "markdown",
   "id": "da8b568a",
   "metadata": {},
   "source": [
    "##### converting list to Tuple"
   ]
  },
  {
   "cell_type": "code",
   "execution_count": 22,
   "id": "baff9de8",
   "metadata": {},
   "outputs": [
    {
     "data": {
      "text/plain": [
       "(1, 2, 3)"
      ]
     },
     "execution_count": 22,
     "metadata": {},
     "output_type": "execute_result"
    }
   ],
   "source": [
    "tuple1 = tuple(list_type)\n",
    "tuple1"
   ]
  },
  {
   "cell_type": "code",
   "execution_count": 23,
   "id": "f66191ee",
   "metadata": {},
   "outputs": [
    {
     "data": {
      "text/plain": [
       "tuple"
      ]
     },
     "execution_count": 23,
     "metadata": {},
     "output_type": "execute_result"
    }
   ],
   "source": [
    "type(tuple1)"
   ]
  },
  {
   "cell_type": "markdown",
   "id": "b90ee628",
   "metadata": {},
   "source": [
    "##### converting list to set"
   ]
  },
  {
   "cell_type": "code",
   "execution_count": 24,
   "id": "6e91f244",
   "metadata": {},
   "outputs": [
    {
     "data": {
      "text/plain": [
       "[1, 2, 3, 3, 2, 1, 1, 2, 3]"
      ]
     },
     "execution_count": 24,
     "metadata": {},
     "output_type": "execute_result"
    }
   ],
   "source": [
    "list_type1 = [1,2,3,3,2,1,1,2,3]\n",
    "list_type1"
   ]
  },
  {
   "cell_type": "code",
   "execution_count": 28,
   "id": "ec3f3ea6",
   "metadata": {},
   "outputs": [
    {
     "data": {
      "text/plain": [
       "{1, 2, 3}"
      ]
     },
     "execution_count": 28,
     "metadata": {},
     "output_type": "execute_result"
    }
   ],
   "source": [
    "set1 = set(list_type1)\n",
    "set1                          # it takes Uniq values in the list and converts into set.\n",
    "\n",
    "                            # and fundamentally changes the data in original list"
   ]
  },
  {
   "cell_type": "code",
   "execution_count": 27,
   "id": "2dcfe047",
   "metadata": {},
   "outputs": [
    {
     "data": {
      "text/plain": [
       "set"
      ]
     },
     "execution_count": 27,
     "metadata": {},
     "output_type": "execute_result"
    }
   ],
   "source": [
    "type(set1)"
   ]
  },
  {
   "cell_type": "markdown",
   "id": "cfc9c8e4",
   "metadata": {},
   "source": [
    "##### converting dict to list"
   ]
  },
  {
   "cell_type": "code",
   "execution_count": 29,
   "id": "5474b4b3",
   "metadata": {},
   "outputs": [
    {
     "data": {
      "text/plain": [
       "{'name': 'chetan', 'age': '25', 'gender': 'male'}"
      ]
     },
     "execution_count": 29,
     "metadata": {},
     "output_type": "execute_result"
    }
   ],
   "source": [
    "dict1 = {'name':'chetan', 'age':'25', 'gender':'male'}\n",
    "dict1"
   ]
  },
  {
   "cell_type": "code",
   "execution_count": 30,
   "id": "de224dea",
   "metadata": {},
   "outputs": [
    {
     "data": {
      "text/plain": [
       "dict"
      ]
     },
     "execution_count": 30,
     "metadata": {},
     "output_type": "execute_result"
    }
   ],
   "source": [
    "type(dict1)"
   ]
  },
  {
   "cell_type": "code",
   "execution_count": 31,
   "id": "74d6ba20",
   "metadata": {},
   "outputs": [
    {
     "data": {
      "text/plain": [
       "dict_values(['chetan', '25', 'male'])"
      ]
     },
     "execution_count": 31,
     "metadata": {},
     "output_type": "execute_result"
    }
   ],
   "source": [
    "dict1.values()"
   ]
  },
  {
   "cell_type": "code",
   "execution_count": 32,
   "id": "0d064ba2",
   "metadata": {},
   "outputs": [
    {
     "data": {
      "text/plain": [
       "dict_keys(['name', 'age', 'gender'])"
      ]
     },
     "execution_count": 32,
     "metadata": {},
     "output_type": "execute_result"
    }
   ],
   "source": [
    "dict1.keys()"
   ]
  },
  {
   "cell_type": "code",
   "execution_count": 33,
   "id": "fc3856c5",
   "metadata": {},
   "outputs": [
    {
     "data": {
      "text/plain": [
       "dict_items([('name', 'chetan'), ('age', '25'), ('gender', 'male')])"
      ]
     },
     "execution_count": 33,
     "metadata": {},
     "output_type": "execute_result"
    }
   ],
   "source": [
    "dict1.items()"
   ]
  },
  {
   "cell_type": "code",
   "execution_count": 34,
   "id": "38e8ed50",
   "metadata": {},
   "outputs": [
    {
     "data": {
      "text/plain": [
       "['name', 'age', 'gender']"
      ]
     },
     "execution_count": 34,
     "metadata": {},
     "output_type": "execute_result"
    }
   ],
   "source": [
    "# converting dict_keys to list\n",
    "list(dict1.keys())"
   ]
  },
  {
   "cell_type": "code",
   "execution_count": 35,
   "id": "a06d489f",
   "metadata": {},
   "outputs": [
    {
     "data": {
      "text/plain": [
       "list"
      ]
     },
     "execution_count": 35,
     "metadata": {},
     "output_type": "execute_result"
    }
   ],
   "source": [
    "type(list(dict1.keys()))"
   ]
  },
  {
   "cell_type": "code",
   "execution_count": 36,
   "id": "703b6c68",
   "metadata": {},
   "outputs": [
    {
     "data": {
      "text/plain": [
       "['chetan', '25', 'male']"
      ]
     },
     "execution_count": 36,
     "metadata": {},
     "output_type": "execute_result"
    }
   ],
   "source": [
    "# converting dict_values to list\n",
    "list(dict1.values())"
   ]
  },
  {
   "cell_type": "code",
   "execution_count": 37,
   "id": "05c661ee",
   "metadata": {},
   "outputs": [
    {
     "data": {
      "text/plain": [
       "list"
      ]
     },
     "execution_count": 37,
     "metadata": {},
     "output_type": "execute_result"
    }
   ],
   "source": [
    "type(# converting dict_values to list\n",
    "list(dict1.values()))"
   ]
  },
  {
   "cell_type": "code",
   "execution_count": 38,
   "id": "d611bc21",
   "metadata": {},
   "outputs": [
    {
     "data": {
      "text/plain": [
       "[('name', 'chetan'), ('age', '25'), ('gender', 'male')]"
      ]
     },
     "execution_count": 38,
     "metadata": {},
     "output_type": "execute_result"
    }
   ],
   "source": [
    "# converting dict_values to list\n",
    "list(dict1.items())"
   ]
  },
  {
   "cell_type": "code",
   "execution_count": 39,
   "id": "1d98af0a",
   "metadata": {},
   "outputs": [
    {
     "data": {
      "text/plain": [
       "list"
      ]
     },
     "execution_count": 39,
     "metadata": {},
     "output_type": "execute_result"
    }
   ],
   "source": [
    "type(list(dict1.items()))"
   ]
  },
  {
   "cell_type": "markdown",
   "id": "fc5d9c14",
   "metadata": {},
   "source": [
    "#### Converting longer strings into set, list"
   ]
  },
  {
   "cell_type": "code",
   "execution_count": 40,
   "id": "4f45e8a4",
   "metadata": {},
   "outputs": [
    {
     "data": {
      "text/plain": [
       "'I like party'"
      ]
     },
     "execution_count": 40,
     "metadata": {},
     "output_type": "execute_result"
    }
   ],
   "source": [
    "long_str = 'I like party'\n",
    "long_str"
   ]
  },
  {
   "cell_type": "code",
   "execution_count": 41,
   "id": "2fa0b12c",
   "metadata": {},
   "outputs": [
    {
     "data": {
      "text/plain": [
       "['I', ' ', 'l', 'i', 'k', 'e', ' ', 'p', 'a', 'r', 't', 'y']"
      ]
     },
     "execution_count": 41,
     "metadata": {},
     "output_type": "execute_result"
    }
   ],
   "source": [
    "list(long_str)"
   ]
  },
  {
   "cell_type": "code",
   "execution_count": 43,
   "id": "ac3ce67d",
   "metadata": {},
   "outputs": [
    {
     "data": {
      "text/plain": [
       "{' ', 'I', 'a', 'e', 'i', 'k', 'l', 'p', 'r', 't', 'y'}"
      ]
     },
     "execution_count": 43,
     "metadata": {},
     "output_type": "execute_result"
    }
   ],
   "source": [
    "set(long_str)                     # it take unique values"
   ]
  },
  {
   "cell_type": "code",
   "execution_count": null,
   "id": "742e6f6d",
   "metadata": {},
   "outputs": [],
   "source": []
  }
 ],
 "metadata": {
  "kernelspec": {
   "display_name": "Python 3 (ipykernel)",
   "language": "python",
   "name": "python3"
  },
  "language_info": {
   "codemirror_mode": {
    "name": "ipython",
    "version": 3
   },
   "file_extension": ".py",
   "mimetype": "text/x-python",
   "name": "python",
   "nbconvert_exporter": "python",
   "pygments_lexer": "ipython3",
   "version": "3.8.16"
  }
 },
 "nbformat": 4,
 "nbformat_minor": 5
}
